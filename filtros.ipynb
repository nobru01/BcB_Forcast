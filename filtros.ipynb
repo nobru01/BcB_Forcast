{
 "cells": [
  {
   "cell_type": "code",
   "execution_count": 82,
   "metadata": {},
   "outputs": [],
   "source": [
    "import os\n",
    "import datetime\n",
    "from datetime import timedelta\n",
    "from dateutil.relativedelta import relativedelta\n",
    "import plotly.express as px\n",
    "import plotly"
   ]
  },
  {
   "cell_type": "code",
   "execution_count": 83,
   "metadata": {},
   "outputs": [
    {
     "name": "stdout",
     "output_type": "stream",
     "text": [
      "Inicializado Rotina json_collect.py.\n"
     ]
    }
   ],
   "source": [
    "print('Inicializado Rotina json_collect.py.')\n",
    "os.chdir(sys.path[0])\n",
    "# os.chdir(os.path.join(os.getcwd(),\"json_collect.py\"))                  # Modifica o diretório de trabalho, para os caminhos relativos funcionar. (https://stackoverflow.com/questions/1432924/python-change-the-scripts-working-directory-to-the-scripts-own-directory)\n",
    "# print(os.getcwd())\n",
    "%run ./json_collect.py                      \n"
   ]
  },
  {
   "cell_type": "code",
   "execution_count": 84,
   "metadata": {},
   "outputs": [],
   "source": [
    "# sites: https://dadosabertos.bcb.gov.br/dataset/expectativas-mercado\n",
    "# Sintase: https://dadosabertos.bcb.gov.br/dataset/expectativas-mercado/resource/d420a704-75a7-4f45-8f4b-0fca813c70f0\n",
    "# documentação: https://olinda.bcb.gov.br/olinda/servico/Expectativas/versao/v1/documentacao"
   ]
  },
  {
   "cell_type": "code",
   "execution_count": 85,
   "metadata": {},
   "outputs": [
    {
     "data": {
      "text/html": [
       "<div>\n",
       "<style scoped>\n",
       "    .dataframe tbody tr th:only-of-type {\n",
       "        vertical-align: middle;\n",
       "    }\n",
       "\n",
       "    .dataframe tbody tr th {\n",
       "        vertical-align: top;\n",
       "    }\n",
       "\n",
       "    .dataframe thead th {\n",
       "        text-align: right;\n",
       "    }\n",
       "</style>\n",
       "<table border=\"1\" class=\"dataframe\">\n",
       "  <thead>\n",
       "    <tr style=\"text-align: right;\">\n",
       "      <th></th>\n",
       "      <th>Data</th>\n",
       "      <th>Media</th>\n",
       "      <th>Mediana</th>\n",
       "      <th>DesvioPadrao</th>\n",
       "      <th>Minimo</th>\n",
       "      <th>Maximo</th>\n",
       "      <th>numeroRespondentes</th>\n",
       "      <th>baseCalculo</th>\n",
       "      <th>data_reuniao</th>\n",
       "    </tr>\n",
       "    <tr>\n",
       "      <th>Reuniao</th>\n",
       "      <th></th>\n",
       "      <th></th>\n",
       "      <th></th>\n",
       "      <th></th>\n",
       "      <th></th>\n",
       "      <th></th>\n",
       "      <th></th>\n",
       "      <th></th>\n",
       "      <th></th>\n",
       "    </tr>\n",
       "  </thead>\n",
       "  <tbody>\n",
       "    <tr>\n",
       "      <th>R5/2022</th>\n",
       "      <td>2022-07-29</td>\n",
       "      <td>13.7355</td>\n",
       "      <td>13.750</td>\n",
       "      <td>0.0698</td>\n",
       "      <td>13.25</td>\n",
       "      <td>13.75</td>\n",
       "      <td>86</td>\n",
       "      <td>1</td>\n",
       "      <td>2022-08-03</td>\n",
       "    </tr>\n",
       "    <tr>\n",
       "      <th>R6/2022</th>\n",
       "      <td>2022-07-29</td>\n",
       "      <td>13.9012</td>\n",
       "      <td>14.000</td>\n",
       "      <td>0.1800</td>\n",
       "      <td>13.50</td>\n",
       "      <td>14.25</td>\n",
       "      <td>86</td>\n",
       "      <td>1</td>\n",
       "      <td>2022-09-21</td>\n",
       "    </tr>\n",
       "    <tr>\n",
       "      <th>R7/2022</th>\n",
       "      <td>2022-07-29</td>\n",
       "      <td>13.9302</td>\n",
       "      <td>14.000</td>\n",
       "      <td>0.2178</td>\n",
       "      <td>13.50</td>\n",
       "      <td>14.75</td>\n",
       "      <td>86</td>\n",
       "      <td>1</td>\n",
       "      <td>2022-10-26</td>\n",
       "    </tr>\n",
       "    <tr>\n",
       "      <th>R8/2022</th>\n",
       "      <td>2022-07-29</td>\n",
       "      <td>13.9302</td>\n",
       "      <td>14.000</td>\n",
       "      <td>0.2178</td>\n",
       "      <td>13.50</td>\n",
       "      <td>14.75</td>\n",
       "      <td>86</td>\n",
       "      <td>1</td>\n",
       "      <td>2022-12-07</td>\n",
       "    </tr>\n",
       "    <tr>\n",
       "      <th>R1/2023</th>\n",
       "      <td>2022-07-29</td>\n",
       "      <td>13.8839</td>\n",
       "      <td>13.875</td>\n",
       "      <td>0.2846</td>\n",
       "      <td>12.75</td>\n",
       "      <td>14.75</td>\n",
       "      <td>84</td>\n",
       "      <td>1</td>\n",
       "      <td>2023-02-01</td>\n",
       "    </tr>\n",
       "    <tr>\n",
       "      <th>R2/2023</th>\n",
       "      <td>2022-07-29</td>\n",
       "      <td>13.8214</td>\n",
       "      <td>13.750</td>\n",
       "      <td>0.4129</td>\n",
       "      <td>11.75</td>\n",
       "      <td>14.75</td>\n",
       "      <td>84</td>\n",
       "      <td>1</td>\n",
       "      <td>2023-03-22</td>\n",
       "    </tr>\n",
       "    <tr>\n",
       "      <th>R3/2023</th>\n",
       "      <td>2022-07-29</td>\n",
       "      <td>13.6637</td>\n",
       "      <td>13.750</td>\n",
       "      <td>0.5982</td>\n",
       "      <td>11.00</td>\n",
       "      <td>14.75</td>\n",
       "      <td>84</td>\n",
       "      <td>1</td>\n",
       "      <td>2023-05-03</td>\n",
       "    </tr>\n",
       "    <tr>\n",
       "      <th>R4/2023</th>\n",
       "      <td>2022-07-29</td>\n",
       "      <td>13.3155</td>\n",
       "      <td>13.500</td>\n",
       "      <td>0.7726</td>\n",
       "      <td>10.50</td>\n",
       "      <td>14.75</td>\n",
       "      <td>84</td>\n",
       "      <td>1</td>\n",
       "      <td>2023-06-21</td>\n",
       "    </tr>\n",
       "    <tr>\n",
       "      <th>R5/2023</th>\n",
       "      <td>2022-07-29</td>\n",
       "      <td>12.7976</td>\n",
       "      <td>13.000</td>\n",
       "      <td>0.8569</td>\n",
       "      <td>10.50</td>\n",
       "      <td>14.50</td>\n",
       "      <td>84</td>\n",
       "      <td>1</td>\n",
       "      <td>2023-08-02</td>\n",
       "    </tr>\n",
       "    <tr>\n",
       "      <th>R6/2023</th>\n",
       "      <td>2022-07-29</td>\n",
       "      <td>12.2143</td>\n",
       "      <td>12.250</td>\n",
       "      <td>0.9007</td>\n",
       "      <td>10.00</td>\n",
       "      <td>14.00</td>\n",
       "      <td>84</td>\n",
       "      <td>1</td>\n",
       "      <td>2023-09-20</td>\n",
       "    </tr>\n",
       "    <tr>\n",
       "      <th>R7/2023</th>\n",
       "      <td>2022-07-29</td>\n",
       "      <td>11.6339</td>\n",
       "      <td>11.500</td>\n",
       "      <td>0.9092</td>\n",
       "      <td>9.75</td>\n",
       "      <td>13.75</td>\n",
       "      <td>84</td>\n",
       "      <td>1</td>\n",
       "      <td>2023-11-01</td>\n",
       "    </tr>\n",
       "    <tr>\n",
       "      <th>R8/2023</th>\n",
       "      <td>2022-07-29</td>\n",
       "      <td>11.0750</td>\n",
       "      <td>11.000</td>\n",
       "      <td>0.9505</td>\n",
       "      <td>9.00</td>\n",
       "      <td>13.75</td>\n",
       "      <td>85</td>\n",
       "      <td>1</td>\n",
       "      <td>2023-12-13</td>\n",
       "    </tr>\n",
       "    <tr>\n",
       "      <th>R1/2024</th>\n",
       "      <td>2022-07-29</td>\n",
       "      <td>10.5032</td>\n",
       "      <td>10.500</td>\n",
       "      <td>0.9816</td>\n",
       "      <td>8.50</td>\n",
       "      <td>13.00</td>\n",
       "      <td>77</td>\n",
       "      <td>1</td>\n",
       "      <td>2024-01-31</td>\n",
       "    </tr>\n",
       "    <tr>\n",
       "      <th>R2/2024</th>\n",
       "      <td>2022-07-29</td>\n",
       "      <td>10.0197</td>\n",
       "      <td>10.000</td>\n",
       "      <td>0.9932</td>\n",
       "      <td>8.00</td>\n",
       "      <td>12.75</td>\n",
       "      <td>76</td>\n",
       "      <td>1</td>\n",
       "      <td>2024-03-20</td>\n",
       "    </tr>\n",
       "    <tr>\n",
       "      <th>R3/2024</th>\n",
       "      <td>2022-07-29</td>\n",
       "      <td>9.5362</td>\n",
       "      <td>9.250</td>\n",
       "      <td>0.9940</td>\n",
       "      <td>7.50</td>\n",
       "      <td>12.50</td>\n",
       "      <td>76</td>\n",
       "      <td>1</td>\n",
       "      <td>2024-05-08</td>\n",
       "    </tr>\n",
       "    <tr>\n",
       "      <th>R4/2024</th>\n",
       "      <td>2022-07-29</td>\n",
       "      <td>9.1250</td>\n",
       "      <td>9.000</td>\n",
       "      <td>0.9529</td>\n",
       "      <td>7.50</td>\n",
       "      <td>12.25</td>\n",
       "      <td>72</td>\n",
       "      <td>1</td>\n",
       "      <td>2024-06-26</td>\n",
       "    </tr>\n",
       "    <tr>\n",
       "      <th>R5/2022</th>\n",
       "      <td>2022-07-28</td>\n",
       "      <td>13.7339</td>\n",
       "      <td>13.750</td>\n",
       "      <td>0.0804</td>\n",
       "      <td>13.25</td>\n",
       "      <td>13.75</td>\n",
       "      <td>93</td>\n",
       "      <td>1</td>\n",
       "      <td>2022-08-03</td>\n",
       "    </tr>\n",
       "    <tr>\n",
       "      <th>R6/2022</th>\n",
       "      <td>2022-07-28</td>\n",
       "      <td>13.8817</td>\n",
       "      <td>13.750</td>\n",
       "      <td>0.1960</td>\n",
       "      <td>13.25</td>\n",
       "      <td>14.25</td>\n",
       "      <td>93</td>\n",
       "      <td>1</td>\n",
       "      <td>2022-09-21</td>\n",
       "    </tr>\n",
       "    <tr>\n",
       "      <th>R7/2022</th>\n",
       "      <td>2022-07-28</td>\n",
       "      <td>13.9086</td>\n",
       "      <td>13.750</td>\n",
       "      <td>0.2283</td>\n",
       "      <td>13.25</td>\n",
       "      <td>14.75</td>\n",
       "      <td>93</td>\n",
       "      <td>1</td>\n",
       "      <td>2022-10-26</td>\n",
       "    </tr>\n",
       "    <tr>\n",
       "      <th>R8/2022</th>\n",
       "      <td>2022-07-28</td>\n",
       "      <td>13.9032</td>\n",
       "      <td>13.750</td>\n",
       "      <td>0.2290</td>\n",
       "      <td>13.25</td>\n",
       "      <td>14.75</td>\n",
       "      <td>93</td>\n",
       "      <td>1</td>\n",
       "      <td>2022-12-07</td>\n",
       "    </tr>\n",
       "  </tbody>\n",
       "</table>\n",
       "</div>"
      ],
      "text/plain": [
       "               Data    Media  Mediana  DesvioPadrao  Minimo  Maximo  \\\n",
       "Reuniao                                                               \n",
       "R5/2022  2022-07-29  13.7355   13.750        0.0698   13.25   13.75   \n",
       "R6/2022  2022-07-29  13.9012   14.000        0.1800   13.50   14.25   \n",
       "R7/2022  2022-07-29  13.9302   14.000        0.2178   13.50   14.75   \n",
       "R8/2022  2022-07-29  13.9302   14.000        0.2178   13.50   14.75   \n",
       "R1/2023  2022-07-29  13.8839   13.875        0.2846   12.75   14.75   \n",
       "R2/2023  2022-07-29  13.8214   13.750        0.4129   11.75   14.75   \n",
       "R3/2023  2022-07-29  13.6637   13.750        0.5982   11.00   14.75   \n",
       "R4/2023  2022-07-29  13.3155   13.500        0.7726   10.50   14.75   \n",
       "R5/2023  2022-07-29  12.7976   13.000        0.8569   10.50   14.50   \n",
       "R6/2023  2022-07-29  12.2143   12.250        0.9007   10.00   14.00   \n",
       "R7/2023  2022-07-29  11.6339   11.500        0.9092    9.75   13.75   \n",
       "R8/2023  2022-07-29  11.0750   11.000        0.9505    9.00   13.75   \n",
       "R1/2024  2022-07-29  10.5032   10.500        0.9816    8.50   13.00   \n",
       "R2/2024  2022-07-29  10.0197   10.000        0.9932    8.00   12.75   \n",
       "R3/2024  2022-07-29   9.5362    9.250        0.9940    7.50   12.50   \n",
       "R4/2024  2022-07-29   9.1250    9.000        0.9529    7.50   12.25   \n",
       "R5/2022  2022-07-28  13.7339   13.750        0.0804   13.25   13.75   \n",
       "R6/2022  2022-07-28  13.8817   13.750        0.1960   13.25   14.25   \n",
       "R7/2022  2022-07-28  13.9086   13.750        0.2283   13.25   14.75   \n",
       "R8/2022  2022-07-28  13.9032   13.750        0.2290   13.25   14.75   \n",
       "\n",
       "         numeroRespondentes  baseCalculo data_reuniao  \n",
       "Reuniao                                                \n",
       "R5/2022                  86            1   2022-08-03  \n",
       "R6/2022                  86            1   2022-09-21  \n",
       "R7/2022                  86            1   2022-10-26  \n",
       "R8/2022                  86            1   2022-12-07  \n",
       "R1/2023                  84            1   2023-02-01  \n",
       "R2/2023                  84            1   2023-03-22  \n",
       "R3/2023                  84            1   2023-05-03  \n",
       "R4/2023                  84            1   2023-06-21  \n",
       "R5/2023                  84            1   2023-08-02  \n",
       "R6/2023                  84            1   2023-09-20  \n",
       "R7/2023                  84            1   2023-11-01  \n",
       "R8/2023                  85            1   2023-12-13  \n",
       "R1/2024                  77            1   2024-01-31  \n",
       "R2/2024                  76            1   2024-03-20  \n",
       "R3/2024                  76            1   2024-05-08  \n",
       "R4/2024                  72            1   2024-06-26  \n",
       "R5/2022                  93            1   2022-08-03  \n",
       "R6/2022                  93            1   2022-09-21  \n",
       "R7/2022                  93            1   2022-10-26  \n",
       "R8/2022                  93            1   2022-12-07  "
      ]
     },
     "execution_count": 85,
     "metadata": {},
     "output_type": "execute_result"
    }
   ],
   "source": [
    "df_selic_data=pd.read_csv('./input/selic_datas.csv',index_col='Reuniao')\n",
    "df_selic=pd.read_csv('./output/selic_data_df.csv',index_col='Reuniao')\n",
    "df_selic=df_selic.drop(columns=['Unnamed: 0','Indicador'])\n",
    "df_selic['Data']=df_selic.apply(lambda x: datetime.datetime.strptime(x.Data,'%Y-%m-%d').date(),axis=1)\n",
    "\n",
    "df_selic['data_reuniao']=''\n",
    "for i in range(0, len(df_selic)):\n",
    "    busca_data=''\n",
    "    try:\n",
    "        busca_data=df_selic_data.loc[df_selic.index[i],'data_reuniao']\n",
    "        busca_data=datetime.datetime.strptime(busca_data,'%Y-%m-%d').date()\n",
    "        df_selic.loc[df_selic.index[i],'data_reuniao']=busca_data\n",
    "\n",
    "    except:\n",
    "        # será definida um expectativa para a data.\n",
    "        # busca_data=df_selic_data.loc[df_selic.index[i],'data_reuniao']\n",
    "        # df_selic.loc[df_selic.index[i],'data_reuniao']=busca_data\n",
    "        continue\n",
    "\n",
    "# df_selic['data_reuniao']=df_selic.apply(lambda x: datetime.datetime.strptime(x.data_reuniao,'%Y-%m-%d').date(),axis=1)\n",
    "# df_selic=df_selic[df_selic['data_reuniao']!='']\n",
    "df_selic=df_selic.sort_values(by=['Data','data_reuniao','baseCalculo'],ascending=[False,True,False])\n",
    "df_selic=df_selic[df_selic['baseCalculo']==1]           # não sei qual é a diferença da base de cálculo.\n",
    "df_selic.head(20)"
   ]
  },
  {
   "cell_type": "code",
   "execution_count": 86,
   "metadata": {},
   "outputs": [
    {
     "data": {
      "text/html": [
       "<div>\n",
       "<style scoped>\n",
       "    .dataframe tbody tr th:only-of-type {\n",
       "        vertical-align: middle;\n",
       "    }\n",
       "\n",
       "    .dataframe tbody tr th {\n",
       "        vertical-align: top;\n",
       "    }\n",
       "\n",
       "    .dataframe thead th {\n",
       "        text-align: right;\n",
       "    }\n",
       "</style>\n",
       "<table border=\"1\" class=\"dataframe\">\n",
       "  <thead>\n",
       "    <tr style=\"text-align: right;\">\n",
       "      <th></th>\n",
       "      <th>Data</th>\n",
       "      <th>Media</th>\n",
       "      <th>Mediana</th>\n",
       "      <th>DesvioPadrao</th>\n",
       "      <th>Minimo</th>\n",
       "      <th>Maximo</th>\n",
       "      <th>numeroRespondentes</th>\n",
       "      <th>baseCalculo</th>\n",
       "      <th>data_reuniao</th>\n",
       "    </tr>\n",
       "    <tr>\n",
       "      <th>Reuniao</th>\n",
       "      <th></th>\n",
       "      <th></th>\n",
       "      <th></th>\n",
       "      <th></th>\n",
       "      <th></th>\n",
       "      <th></th>\n",
       "      <th></th>\n",
       "      <th></th>\n",
       "      <th></th>\n",
       "    </tr>\n",
       "  </thead>\n",
       "  <tbody>\n",
       "    <tr>\n",
       "      <th>R5/2022</th>\n",
       "      <td>2022-07-29</td>\n",
       "      <td>13.7355</td>\n",
       "      <td>13.750</td>\n",
       "      <td>0.0698</td>\n",
       "      <td>13.25</td>\n",
       "      <td>13.75</td>\n",
       "      <td>86</td>\n",
       "      <td>1</td>\n",
       "      <td>2022-08-03</td>\n",
       "    </tr>\n",
       "    <tr>\n",
       "      <th>R6/2022</th>\n",
       "      <td>2022-07-29</td>\n",
       "      <td>13.9012</td>\n",
       "      <td>14.000</td>\n",
       "      <td>0.1800</td>\n",
       "      <td>13.50</td>\n",
       "      <td>14.25</td>\n",
       "      <td>86</td>\n",
       "      <td>1</td>\n",
       "      <td>2022-09-21</td>\n",
       "    </tr>\n",
       "    <tr>\n",
       "      <th>R7/2022</th>\n",
       "      <td>2022-07-29</td>\n",
       "      <td>13.9302</td>\n",
       "      <td>14.000</td>\n",
       "      <td>0.2178</td>\n",
       "      <td>13.50</td>\n",
       "      <td>14.75</td>\n",
       "      <td>86</td>\n",
       "      <td>1</td>\n",
       "      <td>2022-10-26</td>\n",
       "    </tr>\n",
       "    <tr>\n",
       "      <th>R8/2022</th>\n",
       "      <td>2022-07-29</td>\n",
       "      <td>13.9302</td>\n",
       "      <td>14.000</td>\n",
       "      <td>0.2178</td>\n",
       "      <td>13.50</td>\n",
       "      <td>14.75</td>\n",
       "      <td>86</td>\n",
       "      <td>1</td>\n",
       "      <td>2022-12-07</td>\n",
       "    </tr>\n",
       "    <tr>\n",
       "      <th>R1/2023</th>\n",
       "      <td>2022-07-29</td>\n",
       "      <td>13.8839</td>\n",
       "      <td>13.875</td>\n",
       "      <td>0.2846</td>\n",
       "      <td>12.75</td>\n",
       "      <td>14.75</td>\n",
       "      <td>84</td>\n",
       "      <td>1</td>\n",
       "      <td>2023-02-01</td>\n",
       "    </tr>\n",
       "    <tr>\n",
       "      <th>R2/2023</th>\n",
       "      <td>2022-07-29</td>\n",
       "      <td>13.8214</td>\n",
       "      <td>13.750</td>\n",
       "      <td>0.4129</td>\n",
       "      <td>11.75</td>\n",
       "      <td>14.75</td>\n",
       "      <td>84</td>\n",
       "      <td>1</td>\n",
       "      <td>2023-03-22</td>\n",
       "    </tr>\n",
       "    <tr>\n",
       "      <th>R3/2023</th>\n",
       "      <td>2022-07-29</td>\n",
       "      <td>13.6637</td>\n",
       "      <td>13.750</td>\n",
       "      <td>0.5982</td>\n",
       "      <td>11.00</td>\n",
       "      <td>14.75</td>\n",
       "      <td>84</td>\n",
       "      <td>1</td>\n",
       "      <td>2023-05-03</td>\n",
       "    </tr>\n",
       "    <tr>\n",
       "      <th>R4/2023</th>\n",
       "      <td>2022-07-29</td>\n",
       "      <td>13.3155</td>\n",
       "      <td>13.500</td>\n",
       "      <td>0.7726</td>\n",
       "      <td>10.50</td>\n",
       "      <td>14.75</td>\n",
       "      <td>84</td>\n",
       "      <td>1</td>\n",
       "      <td>2023-06-21</td>\n",
       "    </tr>\n",
       "    <tr>\n",
       "      <th>R5/2023</th>\n",
       "      <td>2022-07-29</td>\n",
       "      <td>12.7976</td>\n",
       "      <td>13.000</td>\n",
       "      <td>0.8569</td>\n",
       "      <td>10.50</td>\n",
       "      <td>14.50</td>\n",
       "      <td>84</td>\n",
       "      <td>1</td>\n",
       "      <td>2023-08-02</td>\n",
       "    </tr>\n",
       "    <tr>\n",
       "      <th>R6/2023</th>\n",
       "      <td>2022-07-29</td>\n",
       "      <td>12.2143</td>\n",
       "      <td>12.250</td>\n",
       "      <td>0.9007</td>\n",
       "      <td>10.00</td>\n",
       "      <td>14.00</td>\n",
       "      <td>84</td>\n",
       "      <td>1</td>\n",
       "      <td>2023-09-20</td>\n",
       "    </tr>\n",
       "    <tr>\n",
       "      <th>R7/2023</th>\n",
       "      <td>2022-07-29</td>\n",
       "      <td>11.6339</td>\n",
       "      <td>11.500</td>\n",
       "      <td>0.9092</td>\n",
       "      <td>9.75</td>\n",
       "      <td>13.75</td>\n",
       "      <td>84</td>\n",
       "      <td>1</td>\n",
       "      <td>2023-11-01</td>\n",
       "    </tr>\n",
       "    <tr>\n",
       "      <th>R8/2023</th>\n",
       "      <td>2022-07-29</td>\n",
       "      <td>11.0750</td>\n",
       "      <td>11.000</td>\n",
       "      <td>0.9505</td>\n",
       "      <td>9.00</td>\n",
       "      <td>13.75</td>\n",
       "      <td>85</td>\n",
       "      <td>1</td>\n",
       "      <td>2023-12-13</td>\n",
       "    </tr>\n",
       "    <tr>\n",
       "      <th>R1/2024</th>\n",
       "      <td>2022-07-29</td>\n",
       "      <td>10.5032</td>\n",
       "      <td>10.500</td>\n",
       "      <td>0.9816</td>\n",
       "      <td>8.50</td>\n",
       "      <td>13.00</td>\n",
       "      <td>77</td>\n",
       "      <td>1</td>\n",
       "      <td>2024-01-31</td>\n",
       "    </tr>\n",
       "    <tr>\n",
       "      <th>R2/2024</th>\n",
       "      <td>2022-07-29</td>\n",
       "      <td>10.0197</td>\n",
       "      <td>10.000</td>\n",
       "      <td>0.9932</td>\n",
       "      <td>8.00</td>\n",
       "      <td>12.75</td>\n",
       "      <td>76</td>\n",
       "      <td>1</td>\n",
       "      <td>2024-03-20</td>\n",
       "    </tr>\n",
       "    <tr>\n",
       "      <th>R3/2024</th>\n",
       "      <td>2022-07-29</td>\n",
       "      <td>9.5362</td>\n",
       "      <td>9.250</td>\n",
       "      <td>0.9940</td>\n",
       "      <td>7.50</td>\n",
       "      <td>12.50</td>\n",
       "      <td>76</td>\n",
       "      <td>1</td>\n",
       "      <td>2024-05-08</td>\n",
       "    </tr>\n",
       "    <tr>\n",
       "      <th>R4/2024</th>\n",
       "      <td>2022-07-29</td>\n",
       "      <td>9.1250</td>\n",
       "      <td>9.000</td>\n",
       "      <td>0.9529</td>\n",
       "      <td>7.50</td>\n",
       "      <td>12.25</td>\n",
       "      <td>72</td>\n",
       "      <td>1</td>\n",
       "      <td>2024-06-26</td>\n",
       "    </tr>\n",
       "  </tbody>\n",
       "</table>\n",
       "</div>"
      ],
      "text/plain": [
       "               Data    Media  Mediana  DesvioPadrao  Minimo  Maximo  \\\n",
       "Reuniao                                                               \n",
       "R5/2022  2022-07-29  13.7355   13.750        0.0698   13.25   13.75   \n",
       "R6/2022  2022-07-29  13.9012   14.000        0.1800   13.50   14.25   \n",
       "R7/2022  2022-07-29  13.9302   14.000        0.2178   13.50   14.75   \n",
       "R8/2022  2022-07-29  13.9302   14.000        0.2178   13.50   14.75   \n",
       "R1/2023  2022-07-29  13.8839   13.875        0.2846   12.75   14.75   \n",
       "R2/2023  2022-07-29  13.8214   13.750        0.4129   11.75   14.75   \n",
       "R3/2023  2022-07-29  13.6637   13.750        0.5982   11.00   14.75   \n",
       "R4/2023  2022-07-29  13.3155   13.500        0.7726   10.50   14.75   \n",
       "R5/2023  2022-07-29  12.7976   13.000        0.8569   10.50   14.50   \n",
       "R6/2023  2022-07-29  12.2143   12.250        0.9007   10.00   14.00   \n",
       "R7/2023  2022-07-29  11.6339   11.500        0.9092    9.75   13.75   \n",
       "R8/2023  2022-07-29  11.0750   11.000        0.9505    9.00   13.75   \n",
       "R1/2024  2022-07-29  10.5032   10.500        0.9816    8.50   13.00   \n",
       "R2/2024  2022-07-29  10.0197   10.000        0.9932    8.00   12.75   \n",
       "R3/2024  2022-07-29   9.5362    9.250        0.9940    7.50   12.50   \n",
       "R4/2024  2022-07-29   9.1250    9.000        0.9529    7.50   12.25   \n",
       "\n",
       "         numeroRespondentes  baseCalculo data_reuniao  \n",
       "Reuniao                                                \n",
       "R5/2022                  86            1   2022-08-03  \n",
       "R6/2022                  86            1   2022-09-21  \n",
       "R7/2022                  86            1   2022-10-26  \n",
       "R8/2022                  86            1   2022-12-07  \n",
       "R1/2023                  84            1   2023-02-01  \n",
       "R2/2023                  84            1   2023-03-22  \n",
       "R3/2023                  84            1   2023-05-03  \n",
       "R4/2023                  84            1   2023-06-21  \n",
       "R5/2023                  84            1   2023-08-02  \n",
       "R6/2023                  84            1   2023-09-20  \n",
       "R7/2023                  84            1   2023-11-01  \n",
       "R8/2023                  85            1   2023-12-13  \n",
       "R1/2024                  77            1   2024-01-31  \n",
       "R2/2024                  76            1   2024-03-20  \n",
       "R3/2024                  76            1   2024-05-08  \n",
       "R4/2024                  72            1   2024-06-26  "
      ]
     },
     "execution_count": 86,
     "metadata": {},
     "output_type": "execute_result"
    }
   ],
   "source": [
    "# Expectativa mais atual\n",
    "\n",
    "df_selic_ultima=df_selic[df_selic['Data']==df_selic['Data'].max()]\n",
    "df_selic_ultima.to_csv('./output/selic_ultima_expectativa.csv')\n",
    "df_selic_ultima"
   ]
  },
  {
   "cell_type": "code",
   "execution_count": 87,
   "metadata": {},
   "outputs": [
    {
     "data": {
      "image/png": "[encoded data removed]",
      "text/plain": [
       "<Figure size 432x288 with 1 Axes>"
      ]
     },
     "metadata": {
      "needs_background": "light"
     },
     "output_type": "display_data"
    }
   ],
   "source": [
    "import matplotlib.pyplot as plt\n",
    "plt.plot(df_selic_ultima['data_reuniao'], df_selic_ultima['Mediana'], label=f'selic_expectaiva_{df_selic_ultima[\"Data\"].max()}')\n",
    "plt.xticks(rotation=90)\n",
    "plt.legend()\n",
    "plt.show()\n"
   ]
  },
  {
   "cell_type": "code",
   "execution_count": null,
   "metadata": {},
   "outputs": [],
   "source": []
  },
  {
   "cell_type": "code",
   "execution_count": 88,
   "metadata": {},
   "outputs": [
    {
     "data": {
      "text/html": [
       "<div>\n",
       "<style scoped>\n",
       "    .dataframe tbody tr th:only-of-type {\n",
       "        vertical-align: middle;\n",
       "    }\n",
       "\n",
       "    .dataframe tbody tr th {\n",
       "        vertical-align: top;\n",
       "    }\n",
       "\n",
       "    .dataframe thead th {\n",
       "        text-align: right;\n",
       "    }\n",
       "</style>\n",
       "<table border=\"1\" class=\"dataframe\">\n",
       "  <thead>\n",
       "    <tr style=\"text-align: right;\">\n",
       "      <th></th>\n",
       "      <th>Indicador</th>\n",
       "      <th>Data</th>\n",
       "      <th>DataReferencia</th>\n",
       "      <th>Media</th>\n",
       "      <th>Mediana</th>\n",
       "      <th>Minimo</th>\n",
       "      <th>Maximo</th>\n",
       "      <th>numeroRespondentes</th>\n",
       "    </tr>\n",
       "  </thead>\n",
       "  <tbody>\n",
       "    <tr>\n",
       "      <th>407</th>\n",
       "      <td>IPCA</td>\n",
       "      <td>2022-07-29</td>\n",
       "      <td>2022-07-31</td>\n",
       "      <td>-0.6057</td>\n",
       "      <td>-0.650</td>\n",
       "      <td>-1.0600</td>\n",
       "      <td>0.6200</td>\n",
       "      <td>137</td>\n",
       "    </tr>\n",
       "    <tr>\n",
       "      <th>406</th>\n",
       "      <td>IPCA</td>\n",
       "      <td>2022-07-29</td>\n",
       "      <td>2022-07-31</td>\n",
       "      <td>-0.6265</td>\n",
       "      <td>-0.650</td>\n",
       "      <td>-1.0600</td>\n",
       "      <td>0.0000</td>\n",
       "      <td>106</td>\n",
       "    </tr>\n",
       "    <tr>\n",
       "      <th>419</th>\n",
       "      <td>IPCA Administrados</td>\n",
       "      <td>2022-07-29</td>\n",
       "      <td>2022-07-31</td>\n",
       "      <td>-4.1017</td>\n",
       "      <td>-4.260</td>\n",
       "      <td>-4.8700</td>\n",
       "      <td>-1.0000</td>\n",
       "      <td>77</td>\n",
       "    </tr>\n",
       "    <tr>\n",
       "      <th>411</th>\n",
       "      <td>IPCA Livres</td>\n",
       "      <td>2022-07-29</td>\n",
       "      <td>2022-07-31</td>\n",
       "      <td>0.6045</td>\n",
       "      <td>0.680</td>\n",
       "      <td>-0.0250</td>\n",
       "      <td>0.8000</td>\n",
       "      <td>71</td>\n",
       "    </tr>\n",
       "    <tr>\n",
       "      <th>417</th>\n",
       "      <td>IPCA Alimentação no domicílio</td>\n",
       "      <td>2022-07-29</td>\n",
       "      <td>2022-07-31</td>\n",
       "      <td>1.2604</td>\n",
       "      <td>1.350</td>\n",
       "      <td>-0.1600</td>\n",
       "      <td>2.0500</td>\n",
       "      <td>67</td>\n",
       "    </tr>\n",
       "    <tr>\n",
       "      <th>413</th>\n",
       "      <td>IPCA Serviços</td>\n",
       "      <td>2022-07-29</td>\n",
       "      <td>2022-07-31</td>\n",
       "      <td>0.6318</td>\n",
       "      <td>0.730</td>\n",
       "      <td>-0.3590</td>\n",
       "      <td>0.9100</td>\n",
       "      <td>66</td>\n",
       "    </tr>\n",
       "    <tr>\n",
       "      <th>415</th>\n",
       "      <td>IPCA Bens industrializados</td>\n",
       "      <td>2022-07-29</td>\n",
       "      <td>2022-07-31</td>\n",
       "      <td>0.2345</td>\n",
       "      <td>0.200</td>\n",
       "      <td>-0.4200</td>\n",
       "      <td>1.4730</td>\n",
       "      <td>65</td>\n",
       "    </tr>\n",
       "    <tr>\n",
       "      <th>418</th>\n",
       "      <td>IPCA Administrados</td>\n",
       "      <td>2022-07-29</td>\n",
       "      <td>2022-07-31</td>\n",
       "      <td>-4.2251</td>\n",
       "      <td>-4.280</td>\n",
       "      <td>-4.8700</td>\n",
       "      <td>-1.9100</td>\n",
       "      <td>59</td>\n",
       "    </tr>\n",
       "    <tr>\n",
       "      <th>410</th>\n",
       "      <td>IPCA Livres</td>\n",
       "      <td>2022-07-29</td>\n",
       "      <td>2022-07-31</td>\n",
       "      <td>0.6396</td>\n",
       "      <td>0.690</td>\n",
       "      <td>0.0000</td>\n",
       "      <td>0.8000</td>\n",
       "      <td>55</td>\n",
       "    </tr>\n",
       "    <tr>\n",
       "      <th>409</th>\n",
       "      <td>Taxa de desocupação</td>\n",
       "      <td>2022-07-29</td>\n",
       "      <td>2022-07-31</td>\n",
       "      <td>9.3037</td>\n",
       "      <td>9.200</td>\n",
       "      <td>8.6000</td>\n",
       "      <td>11.0000</td>\n",
       "      <td>51</td>\n",
       "    </tr>\n",
       "    <tr>\n",
       "      <th>416</th>\n",
       "      <td>IPCA Alimentação no domicílio</td>\n",
       "      <td>2022-07-29</td>\n",
       "      <td>2022-07-31</td>\n",
       "      <td>1.3316</td>\n",
       "      <td>1.385</td>\n",
       "      <td>-0.1600</td>\n",
       "      <td>2.0500</td>\n",
       "      <td>50</td>\n",
       "    </tr>\n",
       "    <tr>\n",
       "      <th>412</th>\n",
       "      <td>IPCA Serviços</td>\n",
       "      <td>2022-07-29</td>\n",
       "      <td>2022-07-31</td>\n",
       "      <td>0.7078</td>\n",
       "      <td>0.740</td>\n",
       "      <td>0.2200</td>\n",
       "      <td>0.9100</td>\n",
       "      <td>49</td>\n",
       "    </tr>\n",
       "    <tr>\n",
       "      <th>414</th>\n",
       "      <td>IPCA Bens industrializados</td>\n",
       "      <td>2022-07-29</td>\n",
       "      <td>2022-07-31</td>\n",
       "      <td>0.1761</td>\n",
       "      <td>0.180</td>\n",
       "      <td>-0.4200</td>\n",
       "      <td>0.5600</td>\n",
       "      <td>47</td>\n",
       "    </tr>\n",
       "    <tr>\n",
       "      <th>408</th>\n",
       "      <td>Taxa de desocupação</td>\n",
       "      <td>2022-07-29</td>\n",
       "      <td>2022-07-31</td>\n",
       "      <td>9.2331</td>\n",
       "      <td>9.200</td>\n",
       "      <td>8.7000</td>\n",
       "      <td>10.1000</td>\n",
       "      <td>35</td>\n",
       "    </tr>\n",
       "    <tr>\n",
       "      <th>391</th>\n",
       "      <td>IPCA</td>\n",
       "      <td>2022-07-29</td>\n",
       "      <td>2022-08-31</td>\n",
       "      <td>-0.0982</td>\n",
       "      <td>-0.110</td>\n",
       "      <td>-0.8398</td>\n",
       "      <td>0.5500</td>\n",
       "      <td>136</td>\n",
       "    </tr>\n",
       "    <tr>\n",
       "      <th>393</th>\n",
       "      <td>Câmbio</td>\n",
       "      <td>2022-07-29</td>\n",
       "      <td>2022-08-31</td>\n",
       "      <td>5.2957</td>\n",
       "      <td>5.300</td>\n",
       "      <td>4.7000</td>\n",
       "      <td>5.6784</td>\n",
       "      <td>109</td>\n",
       "    </tr>\n",
       "    <tr>\n",
       "      <th>390</th>\n",
       "      <td>IPCA</td>\n",
       "      <td>2022-07-29</td>\n",
       "      <td>2022-08-31</td>\n",
       "      <td>-0.1427</td>\n",
       "      <td>-0.155</td>\n",
       "      <td>-0.8398</td>\n",
       "      <td>0.3500</td>\n",
       "      <td>106</td>\n",
       "    </tr>\n",
       "    <tr>\n",
       "      <th>405</th>\n",
       "      <td>IPCA Administrados</td>\n",
       "      <td>2022-07-29</td>\n",
       "      <td>2022-08-31</td>\n",
       "      <td>-1.3648</td>\n",
       "      <td>-1.410</td>\n",
       "      <td>-2.7600</td>\n",
       "      <td>0.4000</td>\n",
       "      <td>77</td>\n",
       "    </tr>\n",
       "    <tr>\n",
       "      <th>392</th>\n",
       "      <td>Câmbio</td>\n",
       "      <td>2022-07-29</td>\n",
       "      <td>2022-08-31</td>\n",
       "      <td>5.2877</td>\n",
       "      <td>5.300</td>\n",
       "      <td>4.7000</td>\n",
       "      <td>5.6784</td>\n",
       "      <td>75</td>\n",
       "    </tr>\n",
       "    <tr>\n",
       "      <th>389</th>\n",
       "      <td>IGP-M</td>\n",
       "      <td>2022-07-29</td>\n",
       "      <td>2022-08-31</td>\n",
       "      <td>0.2563</td>\n",
       "      <td>0.300</td>\n",
       "      <td>-0.5000</td>\n",
       "      <td>1.0200</td>\n",
       "      <td>74</td>\n",
       "    </tr>\n",
       "  </tbody>\n",
       "</table>\n",
       "</div>"
      ],
      "text/plain": [
       "                         Indicador        Data DataReferencia   Media  \\\n",
       "407                           IPCA  2022-07-29     2022-07-31 -0.6057   \n",
       "406                           IPCA  2022-07-29     2022-07-31 -0.6265   \n",
       "419             IPCA Administrados  2022-07-29     2022-07-31 -4.1017   \n",
       "411                    IPCA Livres  2022-07-29     2022-07-31  0.6045   \n",
       "417  IPCA Alimentação no domicílio  2022-07-29     2022-07-31  1.2604   \n",
       "413                  IPCA Serviços  2022-07-29     2022-07-31  0.6318   \n",
       "415     IPCA Bens industrializados  2022-07-29     2022-07-31  0.2345   \n",
       "418             IPCA Administrados  2022-07-29     2022-07-31 -4.2251   \n",
       "410                    IPCA Livres  2022-07-29     2022-07-31  0.6396   \n",
       "409            Taxa de desocupação  2022-07-29     2022-07-31  9.3037   \n",
       "416  IPCA Alimentação no domicílio  2022-07-29     2022-07-31  1.3316   \n",
       "412                  IPCA Serviços  2022-07-29     2022-07-31  0.7078   \n",
       "414     IPCA Bens industrializados  2022-07-29     2022-07-31  0.1761   \n",
       "408            Taxa de desocupação  2022-07-29     2022-07-31  9.2331   \n",
       "391                           IPCA  2022-07-29     2022-08-31 -0.0982   \n",
       "393                         Câmbio  2022-07-29     2022-08-31  5.2957   \n",
       "390                           IPCA  2022-07-29     2022-08-31 -0.1427   \n",
       "405             IPCA Administrados  2022-07-29     2022-08-31 -1.3648   \n",
       "392                         Câmbio  2022-07-29     2022-08-31  5.2877   \n",
       "389                          IGP-M  2022-07-29     2022-08-31  0.2563   \n",
       "\n",
       "     Mediana  Minimo   Maximo  numeroRespondentes  \n",
       "407   -0.650 -1.0600   0.6200                 137  \n",
       "406   -0.650 -1.0600   0.0000                 106  \n",
       "419   -4.260 -4.8700  -1.0000                  77  \n",
       "411    0.680 -0.0250   0.8000                  71  \n",
       "417    1.350 -0.1600   2.0500                  67  \n",
       "413    0.730 -0.3590   0.9100                  66  \n",
       "415    0.200 -0.4200   1.4730                  65  \n",
       "418   -4.280 -4.8700  -1.9100                  59  \n",
       "410    0.690  0.0000   0.8000                  55  \n",
       "409    9.200  8.6000  11.0000                  51  \n",
       "416    1.385 -0.1600   2.0500                  50  \n",
       "412    0.740  0.2200   0.9100                  49  \n",
       "414    0.180 -0.4200   0.5600                  47  \n",
       "408    9.200  8.7000  10.1000                  35  \n",
       "391   -0.110 -0.8398   0.5500                 136  \n",
       "393    5.300  4.7000   5.6784                 109  \n",
       "390   -0.155 -0.8398   0.3500                 106  \n",
       "405   -1.410 -2.7600   0.4000                  77  \n",
       "392    5.300  4.7000   5.6784                  75  \n",
       "389    0.300 -0.5000   1.0200                  74  "
      ]
     },
     "execution_count": 88,
     "metadata": {},
     "output_type": "execute_result"
    }
   ],
   "source": [
    "df_monthly=pd.read_csv('./output/monthly_data_df.csv')\n",
    "df_monthly=df_monthly.drop(columns=['Unnamed: 0'])\n",
    "\n",
    "# Parses\n",
    "df_monthly['Data']=df_monthly.apply(lambda x: datetime.datetime.strptime(x.Data,'%Y-%m-%d').date(),axis=1)\n",
    "\n",
    "df_monthly['DataReferencia']=df_monthly.apply(lambda x: datetime.datetime.strptime(x.DataReferencia,'%m/%Y').date(),axis=1)\n",
    "delta = relativedelta(months=1)\n",
    "delta_d = timedelta(days=1)\n",
    "df_monthly['DataReferencia']=df_monthly.apply(lambda x: x.DataReferencia+delta-delta_d,axis=1)\n",
    "\n",
    "df_monthly=df_monthly.sort_values(by=['Data','DataReferencia','numeroRespondentes'],ascending=[False,True,False])\n",
    "# df_monthly=df_selic[df_selic['baseCalculo']==1]           # não sei qual é a diferença da base de cálculo.\n",
    "df_monthly.head(20)"
   ]
  },
  {
   "cell_type": "code",
   "execution_count": 89,
   "metadata": {},
   "outputs": [
    {
     "data": {
      "text/plain": [
       "array(['IPCA', 'IPCA Administrados', 'IPCA Livres',\n",
       "       'IPCA Alimentação no domicílio', 'IPCA Serviços',\n",
       "       'IPCA Bens industrializados', 'Taxa de desocupação', 'Câmbio',\n",
       "       'IGP-M'], dtype=object)"
      ]
     },
     "execution_count": 89,
     "metadata": {},
     "output_type": "execute_result"
    }
   ],
   "source": [
    "df_monthly['Indicador'].unique()"
   ]
  },
  {
   "cell_type": "code",
   "execution_count": 90,
   "metadata": {},
   "outputs": [
    {
     "data": {
      "text/plain": [
       "'./output/tx_desocupacao_forcast.html'"
      ]
     },
     "execution_count": 90,
     "metadata": {},
     "output_type": "execute_result"
    }
   ],
   "source": [
    "# Gráfico iterativo utilizando o plotly\n",
    "fig=px.line(df_monthly[df_monthly['Indicador']=='IPCA'],x='DataReferencia',y='Mediana', color='Data')\n",
    "# Gerando arquivo com o resultado\n",
    "plotly.offline.plot(fig, show_link = True,filename=f'./output/IPCA_forcast.html')\n",
    "# fig.show()\n",
    "\n",
    "# Gráfico iterativo utilizando o plotly\n",
    "fig=px.line(df_monthly[df_monthly['Indicador']=='IGP-M'],x='DataReferencia',y='Mediana', color='Data')\n",
    "# Gerando arquivo com o resultado\n",
    "plotly.offline.plot(fig, show_link = True,filename=f'./output/IGPM_forcast.html')\n",
    "# fig.show()\n",
    "\n",
    "# Gráfico iterativo utilizando o plotly\n",
    "fig=px.line(df_monthly[df_monthly['Indicador']=='Câmbio'],x='DataReferencia',y='Mediana', color='Data')\n",
    "# Gerando arquivo com o resultado\n",
    "plotly.offline.plot(fig, show_link = True,filename=f'./output/cambio_forcast.html')\n",
    "# fig.show()\n",
    "\n",
    "# Gráfico iterativo utilizando o plotly\n",
    "fig=px.line(df_monthly[df_monthly['Indicador']=='Taxa de desocupação'],x='DataReferencia',y='Mediana', color='Data')\n",
    "# Gerando arquivo com o resultado\n",
    "plotly.offline.plot(fig, show_link = True,filename=f'./output/tx_desocupacao_forcast.html')\n",
    "# fig.show()"
   ]
  },
  {
   "cell_type": "code",
   "execution_count": 91,
   "metadata": {},
   "outputs": [
    {
     "data": {
      "text/html": [
       "<div>\n",
       "<style scoped>\n",
       "    .dataframe tbody tr th:only-of-type {\n",
       "        vertical-align: middle;\n",
       "    }\n",
       "\n",
       "    .dataframe tbody tr th {\n",
       "        vertical-align: top;\n",
       "    }\n",
       "\n",
       "    .dataframe thead th {\n",
       "        text-align: right;\n",
       "    }\n",
       "</style>\n",
       "<table border=\"1\" class=\"dataframe\">\n",
       "  <thead>\n",
       "    <tr style=\"text-align: right;\">\n",
       "      <th></th>\n",
       "      <th>Media</th>\n",
       "      <th>Mediana</th>\n",
       "      <th>Minimo</th>\n",
       "      <th>Maximo</th>\n",
       "      <th>numeroRespondentes</th>\n",
       "      <th>cumsum_mediana</th>\n",
       "    </tr>\n",
       "    <tr>\n",
       "      <th>DataReferencia</th>\n",
       "      <th></th>\n",
       "      <th></th>\n",
       "      <th></th>\n",
       "      <th></th>\n",
       "      <th></th>\n",
       "      <th></th>\n",
       "    </tr>\n",
       "  </thead>\n",
       "  <tbody>\n",
       "    <tr>\n",
       "      <th>2022-07-31</th>\n",
       "      <td>-0.61610</td>\n",
       "      <td>-0.65000</td>\n",
       "      <td>-1.0600</td>\n",
       "      <td>0.31000</td>\n",
       "      <td>121.5</td>\n",
       "      <td>-0.65000</td>\n",
       "    </tr>\n",
       "    <tr>\n",
       "      <th>2022-08-31</th>\n",
       "      <td>-0.12045</td>\n",
       "      <td>-0.13250</td>\n",
       "      <td>-0.8398</td>\n",
       "      <td>0.45000</td>\n",
       "      <td>121.0</td>\n",
       "      <td>-0.78250</td>\n",
       "    </tr>\n",
       "    <tr>\n",
       "      <th>2022-09-30</th>\n",
       "      <td>0.49635</td>\n",
       "      <td>0.50000</td>\n",
       "      <td>0.2050</td>\n",
       "      <td>0.76000</td>\n",
       "      <td>121.0</td>\n",
       "      <td>-0.28250</td>\n",
       "    </tr>\n",
       "    <tr>\n",
       "      <th>2022-10-31</th>\n",
       "      <td>0.55230</td>\n",
       "      <td>0.55000</td>\n",
       "      <td>0.1902</td>\n",
       "      <td>0.87315</td>\n",
       "      <td>119.0</td>\n",
       "      <td>0.26750</td>\n",
       "    </tr>\n",
       "    <tr>\n",
       "      <th>2022-11-30</th>\n",
       "      <td>0.54105</td>\n",
       "      <td>0.54235</td>\n",
       "      <td>0.1300</td>\n",
       "      <td>0.85000</td>\n",
       "      <td>119.0</td>\n",
       "      <td>0.80985</td>\n",
       "    </tr>\n",
       "    <tr>\n",
       "      <th>2022-12-31</th>\n",
       "      <td>0.75875</td>\n",
       "      <td>0.76000</td>\n",
       "      <td>0.3650</td>\n",
       "      <td>1.17000</td>\n",
       "      <td>119.0</td>\n",
       "      <td>1.56985</td>\n",
       "    </tr>\n",
       "    <tr>\n",
       "      <th>2023-01-31</th>\n",
       "      <td>0.79305</td>\n",
       "      <td>0.72960</td>\n",
       "      <td>0.2400</td>\n",
       "      <td>1.51000</td>\n",
       "      <td>114.5</td>\n",
       "      <td>2.29945</td>\n",
       "    </tr>\n",
       "    <tr>\n",
       "      <th>2023-02-28</th>\n",
       "      <td>0.66450</td>\n",
       "      <td>0.66500</td>\n",
       "      <td>0.2250</td>\n",
       "      <td>1.17000</td>\n",
       "      <td>114.5</td>\n",
       "      <td>2.96445</td>\n",
       "    </tr>\n",
       "    <tr>\n",
       "      <th>2023-03-31</th>\n",
       "      <td>0.47405</td>\n",
       "      <td>0.46750</td>\n",
       "      <td>0.0200</td>\n",
       "      <td>0.91000</td>\n",
       "      <td>114.5</td>\n",
       "      <td>3.43195</td>\n",
       "    </tr>\n",
       "    <tr>\n",
       "      <th>2023-04-30</th>\n",
       "      <td>0.44520</td>\n",
       "      <td>0.43625</td>\n",
       "      <td>0.1400</td>\n",
       "      <td>0.72000</td>\n",
       "      <td>114.5</td>\n",
       "      <td>3.86820</td>\n",
       "    </tr>\n",
       "    <tr>\n",
       "      <th>2023-05-31</th>\n",
       "      <td>0.34190</td>\n",
       "      <td>0.34500</td>\n",
       "      <td>0.0300</td>\n",
       "      <td>0.81000</td>\n",
       "      <td>114.5</td>\n",
       "      <td>4.21320</td>\n",
       "    </tr>\n",
       "    <tr>\n",
       "      <th>2023-06-30</th>\n",
       "      <td>0.31550</td>\n",
       "      <td>0.32000</td>\n",
       "      <td>0.0503</td>\n",
       "      <td>0.60070</td>\n",
       "      <td>114.5</td>\n",
       "      <td>4.53320</td>\n",
       "    </tr>\n",
       "    <tr>\n",
       "      <th>2023-07-31</th>\n",
       "      <td>0.31665</td>\n",
       "      <td>0.30000</td>\n",
       "      <td>0.0500</td>\n",
       "      <td>0.72000</td>\n",
       "      <td>114.5</td>\n",
       "      <td>4.83320</td>\n",
       "    </tr>\n",
       "    <tr>\n",
       "      <th>2023-08-31</th>\n",
       "      <td>0.23895</td>\n",
       "      <td>0.23000</td>\n",
       "      <td>-0.0200</td>\n",
       "      <td>0.54400</td>\n",
       "      <td>114.5</td>\n",
       "      <td>5.06320</td>\n",
       "    </tr>\n",
       "    <tr>\n",
       "      <th>2023-09-30</th>\n",
       "      <td>0.32210</td>\n",
       "      <td>0.33085</td>\n",
       "      <td>-0.1840</td>\n",
       "      <td>0.53000</td>\n",
       "      <td>114.5</td>\n",
       "      <td>5.39405</td>\n",
       "    </tr>\n",
       "    <tr>\n",
       "      <th>2023-10-31</th>\n",
       "      <td>0.38735</td>\n",
       "      <td>0.40000</td>\n",
       "      <td>-0.1040</td>\n",
       "      <td>0.65000</td>\n",
       "      <td>114.5</td>\n",
       "      <td>5.79405</td>\n",
       "    </tr>\n",
       "    <tr>\n",
       "      <th>2023-11-30</th>\n",
       "      <td>0.37075</td>\n",
       "      <td>0.38000</td>\n",
       "      <td>-0.1040</td>\n",
       "      <td>0.68000</td>\n",
       "      <td>114.5</td>\n",
       "      <td>6.17405</td>\n",
       "    </tr>\n",
       "    <tr>\n",
       "      <th>2023-12-31</th>\n",
       "      <td>0.53005</td>\n",
       "      <td>0.53040</td>\n",
       "      <td>0.0800</td>\n",
       "      <td>1.14445</td>\n",
       "      <td>114.5</td>\n",
       "      <td>6.70445</td>\n",
       "    </tr>\n",
       "    <tr>\n",
       "      <th>2024-01-31</th>\n",
       "      <td>0.42500</td>\n",
       "      <td>0.40000</td>\n",
       "      <td>0.0000</td>\n",
       "      <td>0.82500</td>\n",
       "      <td>76.0</td>\n",
       "      <td>7.10445</td>\n",
       "    </tr>\n",
       "    <tr>\n",
       "      <th>2024-02-29</th>\n",
       "      <td>0.41605</td>\n",
       "      <td>0.40175</td>\n",
       "      <td>0.1450</td>\n",
       "      <td>0.80000</td>\n",
       "      <td>75.0</td>\n",
       "      <td>7.50620</td>\n",
       "    </tr>\n",
       "    <tr>\n",
       "      <th>2024-03-31</th>\n",
       "      <td>0.32795</td>\n",
       "      <td>0.30500</td>\n",
       "      <td>0.0550</td>\n",
       "      <td>0.61000</td>\n",
       "      <td>74.5</td>\n",
       "      <td>7.81120</td>\n",
       "    </tr>\n",
       "    <tr>\n",
       "      <th>2024-04-30</th>\n",
       "      <td>0.32050</td>\n",
       "      <td>0.31250</td>\n",
       "      <td>0.0800</td>\n",
       "      <td>0.60000</td>\n",
       "      <td>74.0</td>\n",
       "      <td>8.12370</td>\n",
       "    </tr>\n",
       "    <tr>\n",
       "      <th>2024-05-31</th>\n",
       "      <td>0.25440</td>\n",
       "      <td>0.24500</td>\n",
       "      <td>-0.0300</td>\n",
       "      <td>0.51000</td>\n",
       "      <td>73.0</td>\n",
       "      <td>8.36870</td>\n",
       "    </tr>\n",
       "    <tr>\n",
       "      <th>2024-06-30</th>\n",
       "      <td>0.22345</td>\n",
       "      <td>0.20500</td>\n",
       "      <td>-0.0100</td>\n",
       "      <td>0.52500</td>\n",
       "      <td>73.0</td>\n",
       "      <td>8.57370</td>\n",
       "    </tr>\n",
       "    <tr>\n",
       "      <th>2024-07-31</th>\n",
       "      <td>0.22410</td>\n",
       "      <td>0.22000</td>\n",
       "      <td>-0.0150</td>\n",
       "      <td>0.55000</td>\n",
       "      <td>66.0</td>\n",
       "      <td>8.79370</td>\n",
       "    </tr>\n",
       "  </tbody>\n",
       "</table>\n",
       "</div>"
      ],
      "text/plain": [
       "                  Media  Mediana  Minimo   Maximo  numeroRespondentes  \\\n",
       "DataReferencia                                                          \n",
       "2022-07-31     -0.61610 -0.65000 -1.0600  0.31000               121.5   \n",
       "2022-08-31     -0.12045 -0.13250 -0.8398  0.45000               121.0   \n",
       "2022-09-30      0.49635  0.50000  0.2050  0.76000               121.0   \n",
       "2022-10-31      0.55230  0.55000  0.1902  0.87315               119.0   \n",
       "2022-11-30      0.54105  0.54235  0.1300  0.85000               119.0   \n",
       "2022-12-31      0.75875  0.76000  0.3650  1.17000               119.0   \n",
       "2023-01-31      0.79305  0.72960  0.2400  1.51000               114.5   \n",
       "2023-02-28      0.66450  0.66500  0.2250  1.17000               114.5   \n",
       "2023-03-31      0.47405  0.46750  0.0200  0.91000               114.5   \n",
       "2023-04-30      0.44520  0.43625  0.1400  0.72000               114.5   \n",
       "2023-05-31      0.34190  0.34500  0.0300  0.81000               114.5   \n",
       "2023-06-30      0.31550  0.32000  0.0503  0.60070               114.5   \n",
       "2023-07-31      0.31665  0.30000  0.0500  0.72000               114.5   \n",
       "2023-08-31      0.23895  0.23000 -0.0200  0.54400               114.5   \n",
       "2023-09-30      0.32210  0.33085 -0.1840  0.53000               114.5   \n",
       "2023-10-31      0.38735  0.40000 -0.1040  0.65000               114.5   \n",
       "2023-11-30      0.37075  0.38000 -0.1040  0.68000               114.5   \n",
       "2023-12-31      0.53005  0.53040  0.0800  1.14445               114.5   \n",
       "2024-01-31      0.42500  0.40000  0.0000  0.82500                76.0   \n",
       "2024-02-29      0.41605  0.40175  0.1450  0.80000                75.0   \n",
       "2024-03-31      0.32795  0.30500  0.0550  0.61000                74.5   \n",
       "2024-04-30      0.32050  0.31250  0.0800  0.60000                74.0   \n",
       "2024-05-31      0.25440  0.24500 -0.0300  0.51000                73.0   \n",
       "2024-06-30      0.22345  0.20500 -0.0100  0.52500                73.0   \n",
       "2024-07-31      0.22410  0.22000 -0.0150  0.55000                66.0   \n",
       "\n",
       "                cumsum_mediana  \n",
       "DataReferencia                  \n",
       "2022-07-31            -0.65000  \n",
       "2022-08-31            -0.78250  \n",
       "2022-09-30            -0.28250  \n",
       "2022-10-31             0.26750  \n",
       "2022-11-30             0.80985  \n",
       "2022-12-31             1.56985  \n",
       "2023-01-31             2.29945  \n",
       "2023-02-28             2.96445  \n",
       "2023-03-31             3.43195  \n",
       "2023-04-30             3.86820  \n",
       "2023-05-31             4.21320  \n",
       "2023-06-30             4.53320  \n",
       "2023-07-31             4.83320  \n",
       "2023-08-31             5.06320  \n",
       "2023-09-30             5.39405  \n",
       "2023-10-31             5.79405  \n",
       "2023-11-30             6.17405  \n",
       "2023-12-31             6.70445  \n",
       "2024-01-31             7.10445  \n",
       "2024-02-29             7.50620  \n",
       "2024-03-31             7.81120  \n",
       "2024-04-30             8.12370  \n",
       "2024-05-31             8.36870  \n",
       "2024-06-30             8.57370  \n",
       "2024-07-31             8.79370  "
      ]
     },
     "execution_count": 91,
     "metadata": {},
     "output_type": "execute_result"
    }
   ],
   "source": [
    "# Expectativa mais atual para IPCA\n",
    "df_ipca=df_monthly[df_monthly['Indicador']=='IPCA']\n",
    "\n",
    "data_previsao=df_ipca['Data'].max()\n",
    "df_ipca_ultima=df_ipca[df_ipca['Data']==data_previsao]\n",
    "df_ipca_ultima.to_csv('./output/ipca_ultima_expectativa.csv')\n",
    "df_ipca_ultima=df_ipca_ultima.groupby(['DataReferencia']).mean() # adotado média \n",
    "\n",
    "df_ipca_ultima['cumsum_mediana'] = df_ipca_ultima['Mediana'].cumsum()\n",
    "#cumsum()-> soma acumulada de uma lista ou array termo a termo\n",
    "#groupby -> delimita em grupos separados para análise\n",
    "# df['Adjusted Quantity'] = df.groupby('ação_ref')['Adjusted Quantity'].cumsum()\n",
    "\n",
    "df_ipca_ultima"
   ]
  },
  {
   "cell_type": "code",
   "execution_count": 92,
   "metadata": {},
   "outputs": [
    {
     "data": {
      "image/png": "[encoded data removed]",
      "text/plain": [
       "<Figure size 1200x600 with 1 Axes>"
      ]
     },
     "metadata": {
      "needs_background": "light"
     },
     "output_type": "display_data"
    }
   ],
   "source": [
    "# from matplotlib.pyplot import figure\n",
    "# figure(figsize=(10, 5), dpi=120)\n",
    "# plt.plot(df_ipca_ultima.index, df_ipca_ultima['Mediana'], label=f'ipca_expectaiva_{data_previsao}')\n",
    "# plt.xticks(rotation=90)\n",
    "# plt.legend()\n",
    "# plt.show()\n"
   ]
  },
  {
   "cell_type": "code",
   "execution_count": 103,
   "metadata": {},
   "outputs": [
    {
     "data": {
      "text/html": [
       "<div>\n",
       "<style scoped>\n",
       "    .dataframe tbody tr th:only-of-type {\n",
       "        vertical-align: middle;\n",
       "    }\n",
       "\n",
       "    .dataframe tbody tr th {\n",
       "        vertical-align: top;\n",
       "    }\n",
       "\n",
       "    .dataframe thead th {\n",
       "        text-align: right;\n",
       "    }\n",
       "</style>\n",
       "<table border=\"1\" class=\"dataframe\">\n",
       "  <thead>\n",
       "    <tr style=\"text-align: right;\">\n",
       "      <th></th>\n",
       "      <th>DataReferencia</th>\n",
       "      <th>Media</th>\n",
       "      <th>Mediana</th>\n",
       "      <th>Minimo</th>\n",
       "      <th>Maximo</th>\n",
       "      <th>numeroRespondentes</th>\n",
       "      <th>cumsum_mediana</th>\n",
       "    </tr>\n",
       "  </thead>\n",
       "  <tbody>\n",
       "    <tr>\n",
       "      <th>0</th>\n",
       "      <td>2022-08-31</td>\n",
       "      <td>-0.12045</td>\n",
       "      <td>-0.13250</td>\n",
       "      <td>-0.8398</td>\n",
       "      <td>0.45000</td>\n",
       "      <td>121.0</td>\n",
       "      <td>-0.78250</td>\n",
       "    </tr>\n",
       "    <tr>\n",
       "      <th>1</th>\n",
       "      <td>2022-09-30</td>\n",
       "      <td>0.49635</td>\n",
       "      <td>0.50000</td>\n",
       "      <td>0.2050</td>\n",
       "      <td>0.76000</td>\n",
       "      <td>121.0</td>\n",
       "      <td>-0.28250</td>\n",
       "    </tr>\n",
       "    <tr>\n",
       "      <th>2</th>\n",
       "      <td>2022-10-31</td>\n",
       "      <td>0.55230</td>\n",
       "      <td>0.55000</td>\n",
       "      <td>0.1902</td>\n",
       "      <td>0.87315</td>\n",
       "      <td>119.0</td>\n",
       "      <td>0.26750</td>\n",
       "    </tr>\n",
       "    <tr>\n",
       "      <th>3</th>\n",
       "      <td>2022-11-30</td>\n",
       "      <td>0.54105</td>\n",
       "      <td>0.54235</td>\n",
       "      <td>0.1300</td>\n",
       "      <td>0.85000</td>\n",
       "      <td>119.0</td>\n",
       "      <td>0.80985</td>\n",
       "    </tr>\n",
       "    <tr>\n",
       "      <th>4</th>\n",
       "      <td>2022-12-31</td>\n",
       "      <td>0.75875</td>\n",
       "      <td>0.76000</td>\n",
       "      <td>0.3650</td>\n",
       "      <td>1.17000</td>\n",
       "      <td>119.0</td>\n",
       "      <td>1.56985</td>\n",
       "    </tr>\n",
       "    <tr>\n",
       "      <th>5</th>\n",
       "      <td>2023-01-31</td>\n",
       "      <td>0.79305</td>\n",
       "      <td>0.72960</td>\n",
       "      <td>0.2400</td>\n",
       "      <td>1.51000</td>\n",
       "      <td>114.5</td>\n",
       "      <td>2.29945</td>\n",
       "    </tr>\n",
       "    <tr>\n",
       "      <th>6</th>\n",
       "      <td>2023-02-28</td>\n",
       "      <td>0.66450</td>\n",
       "      <td>0.66500</td>\n",
       "      <td>0.2250</td>\n",
       "      <td>1.17000</td>\n",
       "      <td>114.5</td>\n",
       "      <td>2.96445</td>\n",
       "    </tr>\n",
       "    <tr>\n",
       "      <th>7</th>\n",
       "      <td>2023-03-31</td>\n",
       "      <td>0.47405</td>\n",
       "      <td>0.46750</td>\n",
       "      <td>0.0200</td>\n",
       "      <td>0.91000</td>\n",
       "      <td>114.5</td>\n",
       "      <td>3.43195</td>\n",
       "    </tr>\n",
       "    <tr>\n",
       "      <th>8</th>\n",
       "      <td>2023-04-30</td>\n",
       "      <td>0.44520</td>\n",
       "      <td>0.43625</td>\n",
       "      <td>0.1400</td>\n",
       "      <td>0.72000</td>\n",
       "      <td>114.5</td>\n",
       "      <td>3.86820</td>\n",
       "    </tr>\n",
       "    <tr>\n",
       "      <th>9</th>\n",
       "      <td>2023-05-31</td>\n",
       "      <td>0.34190</td>\n",
       "      <td>0.34500</td>\n",
       "      <td>0.0300</td>\n",
       "      <td>0.81000</td>\n",
       "      <td>114.5</td>\n",
       "      <td>4.21320</td>\n",
       "    </tr>\n",
       "    <tr>\n",
       "      <th>10</th>\n",
       "      <td>2023-06-30</td>\n",
       "      <td>0.31550</td>\n",
       "      <td>0.32000</td>\n",
       "      <td>0.0503</td>\n",
       "      <td>0.60070</td>\n",
       "      <td>114.5</td>\n",
       "      <td>4.53320</td>\n",
       "    </tr>\n",
       "    <tr>\n",
       "      <th>11</th>\n",
       "      <td>2023-07-31</td>\n",
       "      <td>0.31665</td>\n",
       "      <td>0.30000</td>\n",
       "      <td>0.0500</td>\n",
       "      <td>0.72000</td>\n",
       "      <td>114.5</td>\n",
       "      <td>4.83320</td>\n",
       "    </tr>\n",
       "    <tr>\n",
       "      <th>12</th>\n",
       "      <td>2023-08-31</td>\n",
       "      <td>0.23895</td>\n",
       "      <td>0.23000</td>\n",
       "      <td>-0.0200</td>\n",
       "      <td>0.54400</td>\n",
       "      <td>114.5</td>\n",
       "      <td>5.06320</td>\n",
       "    </tr>\n",
       "    <tr>\n",
       "      <th>13</th>\n",
       "      <td>2023-09-30</td>\n",
       "      <td>0.32210</td>\n",
       "      <td>0.33085</td>\n",
       "      <td>-0.1840</td>\n",
       "      <td>0.53000</td>\n",
       "      <td>114.5</td>\n",
       "      <td>5.39405</td>\n",
       "    </tr>\n",
       "    <tr>\n",
       "      <th>14</th>\n",
       "      <td>2023-10-31</td>\n",
       "      <td>0.38735</td>\n",
       "      <td>0.40000</td>\n",
       "      <td>-0.1040</td>\n",
       "      <td>0.65000</td>\n",
       "      <td>114.5</td>\n",
       "      <td>5.79405</td>\n",
       "    </tr>\n",
       "    <tr>\n",
       "      <th>15</th>\n",
       "      <td>2023-11-30</td>\n",
       "      <td>0.37075</td>\n",
       "      <td>0.38000</td>\n",
       "      <td>-0.1040</td>\n",
       "      <td>0.68000</td>\n",
       "      <td>114.5</td>\n",
       "      <td>6.17405</td>\n",
       "    </tr>\n",
       "    <tr>\n",
       "      <th>16</th>\n",
       "      <td>2023-12-31</td>\n",
       "      <td>0.53005</td>\n",
       "      <td>0.53040</td>\n",
       "      <td>0.0800</td>\n",
       "      <td>1.14445</td>\n",
       "      <td>114.5</td>\n",
       "      <td>6.70445</td>\n",
       "    </tr>\n",
       "    <tr>\n",
       "      <th>17</th>\n",
       "      <td>2024-01-31</td>\n",
       "      <td>0.42500</td>\n",
       "      <td>0.40000</td>\n",
       "      <td>0.0000</td>\n",
       "      <td>0.82500</td>\n",
       "      <td>76.0</td>\n",
       "      <td>7.10445</td>\n",
       "    </tr>\n",
       "    <tr>\n",
       "      <th>18</th>\n",
       "      <td>2024-02-29</td>\n",
       "      <td>0.41605</td>\n",
       "      <td>0.40175</td>\n",
       "      <td>0.1450</td>\n",
       "      <td>0.80000</td>\n",
       "      <td>75.0</td>\n",
       "      <td>7.50620</td>\n",
       "    </tr>\n",
       "    <tr>\n",
       "      <th>19</th>\n",
       "      <td>2024-03-31</td>\n",
       "      <td>0.32795</td>\n",
       "      <td>0.30500</td>\n",
       "      <td>0.0550</td>\n",
       "      <td>0.61000</td>\n",
       "      <td>74.5</td>\n",
       "      <td>7.81120</td>\n",
       "    </tr>\n",
       "    <tr>\n",
       "      <th>20</th>\n",
       "      <td>2024-04-30</td>\n",
       "      <td>0.32050</td>\n",
       "      <td>0.31250</td>\n",
       "      <td>0.0800</td>\n",
       "      <td>0.60000</td>\n",
       "      <td>74.0</td>\n",
       "      <td>8.12370</td>\n",
       "    </tr>\n",
       "    <tr>\n",
       "      <th>21</th>\n",
       "      <td>2024-05-31</td>\n",
       "      <td>0.25440</td>\n",
       "      <td>0.24500</td>\n",
       "      <td>-0.0300</td>\n",
       "      <td>0.51000</td>\n",
       "      <td>73.0</td>\n",
       "      <td>8.36870</td>\n",
       "    </tr>\n",
       "    <tr>\n",
       "      <th>22</th>\n",
       "      <td>2024-06-30</td>\n",
       "      <td>0.22345</td>\n",
       "      <td>0.20500</td>\n",
       "      <td>-0.0100</td>\n",
       "      <td>0.52500</td>\n",
       "      <td>73.0</td>\n",
       "      <td>8.57370</td>\n",
       "    </tr>\n",
       "    <tr>\n",
       "      <th>23</th>\n",
       "      <td>2024-07-31</td>\n",
       "      <td>0.22410</td>\n",
       "      <td>0.22000</td>\n",
       "      <td>-0.0150</td>\n",
       "      <td>0.55000</td>\n",
       "      <td>66.0</td>\n",
       "      <td>8.79370</td>\n",
       "    </tr>\n",
       "  </tbody>\n",
       "</table>\n",
       "</div>"
      ],
      "text/plain": [
       "   DataReferencia    Media  Mediana  Minimo   Maximo  numeroRespondentes  \\\n",
       "0      2022-08-31 -0.12045 -0.13250 -0.8398  0.45000               121.0   \n",
       "1      2022-09-30  0.49635  0.50000  0.2050  0.76000               121.0   \n",
       "2      2022-10-31  0.55230  0.55000  0.1902  0.87315               119.0   \n",
       "3      2022-11-30  0.54105  0.54235  0.1300  0.85000               119.0   \n",
       "4      2022-12-31  0.75875  0.76000  0.3650  1.17000               119.0   \n",
       "5      2023-01-31  0.79305  0.72960  0.2400  1.51000               114.5   \n",
       "6      2023-02-28  0.66450  0.66500  0.2250  1.17000               114.5   \n",
       "7      2023-03-31  0.47405  0.46750  0.0200  0.91000               114.5   \n",
       "8      2023-04-30  0.44520  0.43625  0.1400  0.72000               114.5   \n",
       "9      2023-05-31  0.34190  0.34500  0.0300  0.81000               114.5   \n",
       "10     2023-06-30  0.31550  0.32000  0.0503  0.60070               114.5   \n",
       "11     2023-07-31  0.31665  0.30000  0.0500  0.72000               114.5   \n",
       "12     2023-08-31  0.23895  0.23000 -0.0200  0.54400               114.5   \n",
       "13     2023-09-30  0.32210  0.33085 -0.1840  0.53000               114.5   \n",
       "14     2023-10-31  0.38735  0.40000 -0.1040  0.65000               114.5   \n",
       "15     2023-11-30  0.37075  0.38000 -0.1040  0.68000               114.5   \n",
       "16     2023-12-31  0.53005  0.53040  0.0800  1.14445               114.5   \n",
       "17     2024-01-31  0.42500  0.40000  0.0000  0.82500                76.0   \n",
       "18     2024-02-29  0.41605  0.40175  0.1450  0.80000                75.0   \n",
       "19     2024-03-31  0.32795  0.30500  0.0550  0.61000                74.5   \n",
       "20     2024-04-30  0.32050  0.31250  0.0800  0.60000                74.0   \n",
       "21     2024-05-31  0.25440  0.24500 -0.0300  0.51000                73.0   \n",
       "22     2024-06-30  0.22345  0.20500 -0.0100  0.52500                73.0   \n",
       "23     2024-07-31  0.22410  0.22000 -0.0150  0.55000                66.0   \n",
       "\n",
       "    cumsum_mediana  \n",
       "0         -0.78250  \n",
       "1         -0.28250  \n",
       "2          0.26750  \n",
       "3          0.80985  \n",
       "4          1.56985  \n",
       "5          2.29945  \n",
       "6          2.96445  \n",
       "7          3.43195  \n",
       "8          3.86820  \n",
       "9          4.21320  \n",
       "10         4.53320  \n",
       "11         4.83320  \n",
       "12         5.06320  \n",
       "13         5.39405  \n",
       "14         5.79405  \n",
       "15         6.17405  \n",
       "16         6.70445  \n",
       "17         7.10445  \n",
       "18         7.50620  \n",
       "19         7.81120  \n",
       "20         8.12370  \n",
       "21         8.36870  \n",
       "22         8.57370  \n",
       "23         8.79370  "
      ]
     },
     "execution_count": 103,
     "metadata": {},
     "output_type": "execute_result"
    }
   ],
   "source": [
    "data_hoje=datetime.datetime.today().date()\n",
    "df_ipca_from_now=df_ipca_ultima[df_ipca_ultima.index>=data_hoje]\n",
    "df_ipca_from_now=df_ipca_from_now.reset_index()\n",
    "df_ipca_from_now"
   ]
  },
  {
   "cell_type": "code",
   "execution_count": 110,
   "metadata": {},
   "outputs": [
    {
     "data": {
      "application/vnd.plotly.v1+json": {
       "config": {
        "plotlyServerURL": "https://plot.ly"
       },
       "data": [
        {
         "hovertemplate": "DataReferencia=%{x}<br>cumsum_mediana=%{y}<extra></extra>",
         "legendgroup": "",
         "line": {
          "color": "#636efa",
          "dash": "solid"
         },
         "marker": {
          "symbol": "circle"
         },
         "mode": "lines",
         "name": "",
         "orientation": "v",
         "showlegend": false,
         "type": "scatter",
         "x": [
          "2022-08-31",
          "2022-09-30",
          "2022-10-31",
          "2022-11-30",
          "2022-12-31",
          "2023-01-31",
          "2023-02-28",
          "2023-03-31",
          "2023-04-30",
          "2023-05-31",
          "2023-06-30",
          "2023-07-31",
          "2023-08-31",
          "2023-09-30",
          "2023-10-31",
          "2023-11-30",
          "2023-12-31",
          "2024-01-31",
          "2024-02-29",
          "2024-03-31",
          "2024-04-30",
          "2024-05-31",
          "2024-06-30",
          "2024-07-31"
         ],
         "xaxis": "x",
         "y": [
          -0.7825,
          -0.2825,
          0.26750000000000007,
          0.8098500000000001,
          1.5698500000000002,
          2.29945,
          2.9644500000000003,
          3.4319500000000005,
          3.8682000000000007,
          4.2132000000000005,
          4.533200000000001,
          4.833200000000001,
          5.063200000000001,
          5.394050000000001,
          5.794050000000001,
          6.174050000000001,
          6.704450000000001,
          7.104450000000002,
          7.5062000000000015,
          7.811200000000001,
          8.123700000000001,
          8.3687,
          8.5737,
          8.793700000000001
         ],
         "yaxis": "y"
        }
       ],
       "layout": {
        "legend": {
         "tracegroupgap": 0
        },
        "margin": {
         "t": 60
        },
        "template": {
         "data": {
          "bar": [
           {
            "error_x": {
             "color": "#2a3f5f"
            },
            "error_y": {
             "color": "#2a3f5f"
            },
            "marker": {
             "line": {
              "color": "#E5ECF6",
              "width": 0.5
             },
             "pattern": {
              "fillmode": "overlay",
              "size": 10,
              "solidity": 0.2
             }
            },
            "type": "bar"
           }
          ],
          "barpolar": [
           {
            "marker": {
             "line": {
              "color": "#E5ECF6",
              "width": 0.5
             },
             "pattern": {
              "fillmode": "overlay",
              "size": 10,
              "solidity": 0.2
             }
            },
            "type": "barpolar"
           }
          ],
          "carpet": [
           {
            "aaxis": {
             "endlinecolor": "#2a3f5f",
             "gridcolor": "white",
             "linecolor": "white",
             "minorgridcolor": "white",
             "startlinecolor": "#2a3f5f"
            },
            "baxis": {
             "endlinecolor": "#2a3f5f",
             "gridcolor": "white",
             "linecolor": "white",
             "minorgridcolor": "white",
             "startlinecolor": "#2a3f5f"
            },
            "type": "carpet"
           }
          ],
          "choropleth": [
           {
            "colorbar": {
             "outlinewidth": 0,
             "ticks": ""
            },
            "type": "choropleth"
           }
          ],
          "contour": [
           {
            "colorbar": {
             "outlinewidth": 0,
             "ticks": ""
            },
            "colorscale": [
             [
              0,
              "#0d0887"
             ],
             [
              0.1111111111111111,
              "#46039f"
             ],
             [
              0.2222222222222222,
              "#7201a8"
             ],
             [
              0.3333333333333333,
              "#9c179e"
             ],
             [
              0.4444444444444444,
              "#bd3786"
             ],
             [
              0.5555555555555556,
              "#d8576b"
             ],
             [
              0.6666666666666666,
              "#ed7953"
             ],
             [
              0.7777777777777778,
              "#fb9f3a"
             ],
             [
              0.8888888888888888,
              "#fdca26"
             ],
             [
              1,
              "#f0f921"
             ]
            ],
            "type": "contour"
           }
          ],
          "contourcarpet": [
           {
            "colorbar": {
             "outlinewidth": 0,
             "ticks": ""
            },
            "type": "contourcarpet"
           }
          ],
          "heatmap": [
           {
            "colorbar": {
             "outlinewidth": 0,
             "ticks": ""
            },
            "colorscale": [
             [
              0,
              "#0d0887"
             ],
             [
              0.1111111111111111,
              "#46039f"
             ],
             [
              0.2222222222222222,
              "#7201a8"
             ],
             [
              0.3333333333333333,
              "#9c179e"
             ],
             [
              0.4444444444444444,
              "#bd3786"
             ],
             [
              0.5555555555555556,
              "#d8576b"
             ],
             [
              0.6666666666666666,
              "#ed7953"
             ],
             [
              0.7777777777777778,
              "#fb9f3a"
             ],
             [
              0.8888888888888888,
              "#fdca26"
             ],
             [
              1,
              "#f0f921"
             ]
            ],
            "type": "heatmap"
           }
          ],
          "heatmapgl": [
           {
            "colorbar": {
             "outlinewidth": 0,
             "ticks": ""
            },
            "colorscale": [
             [
              0,
              "#0d0887"
             ],
             [
              0.1111111111111111,
              "#46039f"
             ],
             [
              0.2222222222222222,
              "#7201a8"
             ],
             [
              0.3333333333333333,
              "#9c179e"
             ],
             [
              0.4444444444444444,
              "#bd3786"
             ],
             [
              0.5555555555555556,
              "#d8576b"
             ],
             [
              0.6666666666666666,
              "#ed7953"
             ],
             [
              0.7777777777777778,
              "#fb9f3a"
             ],
             [
              0.8888888888888888,
              "#fdca26"
             ],
             [
              1,
              "#f0f921"
             ]
            ],
            "type": "heatmapgl"
           }
          ],
          "histogram": [
           {
            "marker": {
             "pattern": {
              "fillmode": "overlay",
              "size": 10,
              "solidity": 0.2
             }
            },
            "type": "histogram"
           }
          ],
          "histogram2d": [
           {
            "colorbar": {
             "outlinewidth": 0,
             "ticks": ""
            },
            "colorscale": [
             [
              0,
              "#0d0887"
             ],
             [
              0.1111111111111111,
              "#46039f"
             ],
             [
              0.2222222222222222,
              "#7201a8"
             ],
             [
              0.3333333333333333,
              "#9c179e"
             ],
             [
              0.4444444444444444,
              "#bd3786"
             ],
             [
              0.5555555555555556,
              "#d8576b"
             ],
             [
              0.6666666666666666,
              "#ed7953"
             ],
             [
              0.7777777777777778,
              "#fb9f3a"
             ],
             [
              0.8888888888888888,
              "#fdca26"
             ],
             [
              1,
              "#f0f921"
             ]
            ],
            "type": "histogram2d"
           }
          ],
          "histogram2dcontour": [
           {
            "colorbar": {
             "outlinewidth": 0,
             "ticks": ""
            },
            "colorscale": [
             [
              0,
              "#0d0887"
             ],
             [
              0.1111111111111111,
              "#46039f"
             ],
             [
              0.2222222222222222,
              "#7201a8"
             ],
             [
              0.3333333333333333,
              "#9c179e"
             ],
             [
              0.4444444444444444,
              "#bd3786"
             ],
             [
              0.5555555555555556,
              "#d8576b"
             ],
             [
              0.6666666666666666,
              "#ed7953"
             ],
             [
              0.7777777777777778,
              "#fb9f3a"
             ],
             [
              0.8888888888888888,
              "#fdca26"
             ],
             [
              1,
              "#f0f921"
             ]
            ],
            "type": "histogram2dcontour"
           }
          ],
          "mesh3d": [
           {
            "colorbar": {
             "outlinewidth": 0,
             "ticks": ""
            },
            "type": "mesh3d"
           }
          ],
          "parcoords": [
           {
            "line": {
             "colorbar": {
              "outlinewidth": 0,
              "ticks": ""
             }
            },
            "type": "parcoords"
           }
          ],
          "pie": [
           {
            "automargin": true,
            "type": "pie"
           }
          ],
          "scatter": [
           {
            "fillpattern": {
             "fillmode": "overlay",
             "size": 10,
             "solidity": 0.2
            },
            "type": "scatter"
           }
          ],
          "scatter3d": [
           {
            "line": {
             "colorbar": {
              "outlinewidth": 0,
              "ticks": ""
             }
            },
            "marker": {
             "colorbar": {
              "outlinewidth": 0,
              "ticks": ""
             }
            },
            "type": "scatter3d"
           }
          ],
          "scattercarpet": [
           {
            "marker": {
             "colorbar": {
              "outlinewidth": 0,
              "ticks": ""
             }
            },
            "type": "scattercarpet"
           }
          ],
          "scattergeo": [
           {
            "marker": {
             "colorbar": {
              "outlinewidth": 0,
              "ticks": ""
             }
            },
            "type": "scattergeo"
           }
          ],
          "scattergl": [
           {
            "marker": {
             "colorbar": {
              "outlinewidth": 0,
              "ticks": ""
             }
            },
            "type": "scattergl"
           }
          ],
          "scattermapbox": [
           {
            "marker": {
             "colorbar": {
              "outlinewidth": 0,
              "ticks": ""
             }
            },
            "type": "scattermapbox"
           }
          ],
          "scatterpolar": [
           {
            "marker": {
             "colorbar": {
              "outlinewidth": 0,
              "ticks": ""
             }
            },
            "type": "scatterpolar"
           }
          ],
          "scatterpolargl": [
           {
            "marker": {
             "colorbar": {
              "outlinewidth": 0,
              "ticks": ""
             }
            },
            "type": "scatterpolargl"
           }
          ],
          "scatterternary": [
           {
            "marker": {
             "colorbar": {
              "outlinewidth": 0,
              "ticks": ""
             }
            },
            "type": "scatterternary"
           }
          ],
          "surface": [
           {
            "colorbar": {
             "outlinewidth": 0,
             "ticks": ""
            },
            "colorscale": [
             [
              0,
              "#0d0887"
             ],
             [
              0.1111111111111111,
              "#46039f"
             ],
             [
              0.2222222222222222,
              "#7201a8"
             ],
             [
              0.3333333333333333,
              "#9c179e"
             ],
             [
              0.4444444444444444,
              "#bd3786"
             ],
             [
              0.5555555555555556,
              "#d8576b"
             ],
             [
              0.6666666666666666,
              "#ed7953"
             ],
             [
              0.7777777777777778,
              "#fb9f3a"
             ],
             [
              0.8888888888888888,
              "#fdca26"
             ],
             [
              1,
              "#f0f921"
             ]
            ],
            "type": "surface"
           }
          ],
          "table": [
           {
            "cells": {
             "fill": {
              "color": "#EBF0F8"
             },
             "line": {
              "color": "white"
             }
            },
            "header": {
             "fill": {
              "color": "#C8D4E3"
             },
             "line": {
              "color": "white"
             }
            },
            "type": "table"
           }
          ]
         },
         "layout": {
          "annotationdefaults": {
           "arrowcolor": "#2a3f5f",
           "arrowhead": 0,
           "arrowwidth": 1
          },
          "autotypenumbers": "strict",
          "coloraxis": {
           "colorbar": {
            "outlinewidth": 0,
            "ticks": ""
           }
          },
          "colorscale": {
           "diverging": [
            [
             0,
             "#8e0152"
            ],
            [
             0.1,
             "#c51b7d"
            ],
            [
             0.2,
             "#de77ae"
            ],
            [
             0.3,
             "#f1b6da"
            ],
            [
             0.4,
             "#fde0ef"
            ],
            [
             0.5,
             "#f7f7f7"
            ],
            [
             0.6,
             "#e6f5d0"
            ],
            [
             0.7,
             "#b8e186"
            ],
            [
             0.8,
             "#7fbc41"
            ],
            [
             0.9,
             "#4d9221"
            ],
            [
             1,
             "#276419"
            ]
           ],
           "sequential": [
            [
             0,
             "#0d0887"
            ],
            [
             0.1111111111111111,
             "#46039f"
            ],
            [
             0.2222222222222222,
             "#7201a8"
            ],
            [
             0.3333333333333333,
             "#9c179e"
            ],
            [
             0.4444444444444444,
             "#bd3786"
            ],
            [
             0.5555555555555556,
             "#d8576b"
            ],
            [
             0.6666666666666666,
             "#ed7953"
            ],
            [
             0.7777777777777778,
             "#fb9f3a"
            ],
            [
             0.8888888888888888,
             "#fdca26"
            ],
            [
             1,
             "#f0f921"
            ]
           ],
           "sequentialminus": [
            [
             0,
             "#0d0887"
            ],
            [
             0.1111111111111111,
             "#46039f"
            ],
            [
             0.2222222222222222,
             "#7201a8"
            ],
            [
             0.3333333333333333,
             "#9c179e"
            ],
            [
             0.4444444444444444,
             "#bd3786"
            ],
            [
             0.5555555555555556,
             "#d8576b"
            ],
            [
             0.6666666666666666,
             "#ed7953"
            ],
            [
             0.7777777777777778,
             "#fb9f3a"
            ],
            [
             0.8888888888888888,
             "#fdca26"
            ],
            [
             1,
             "#f0f921"
            ]
           ]
          },
          "colorway": [
           "#636efa",
           "#EF553B",
           "#00cc96",
           "#ab63fa",
           "#FFA15A",
           "#19d3f3",
           "#FF6692",
           "#B6E880",
           "#FF97FF",
           "#FECB52"
          ],
          "font": {
           "color": "#2a3f5f"
          },
          "geo": {
           "bgcolor": "white",
           "lakecolor": "white",
           "landcolor": "#E5ECF6",
           "showlakes": true,
           "showland": true,
           "subunitcolor": "white"
          },
          "hoverlabel": {
           "align": "left"
          },
          "hovermode": "closest",
          "mapbox": {
           "style": "light"
          },
          "paper_bgcolor": "white",
          "plot_bgcolor": "#E5ECF6",
          "polar": {
           "angularaxis": {
            "gridcolor": "white",
            "linecolor": "white",
            "ticks": ""
           },
           "bgcolor": "#E5ECF6",
           "radialaxis": {
            "gridcolor": "white",
            "linecolor": "white",
            "ticks": ""
           }
          },
          "scene": {
           "xaxis": {
            "backgroundcolor": "#E5ECF6",
            "gridcolor": "white",
            "gridwidth": 2,
            "linecolor": "white",
            "showbackground": true,
            "ticks": "",
            "zerolinecolor": "white"
           },
           "yaxis": {
            "backgroundcolor": "#E5ECF6",
            "gridcolor": "white",
            "gridwidth": 2,
            "linecolor": "white",
            "showbackground": true,
            "ticks": "",
            "zerolinecolor": "white"
           },
           "zaxis": {
            "backgroundcolor": "#E5ECF6",
            "gridcolor": "white",
            "gridwidth": 2,
            "linecolor": "white",
            "showbackground": true,
            "ticks": "",
            "zerolinecolor": "white"
           }
          },
          "shapedefaults": {
           "line": {
            "color": "#2a3f5f"
           }
          },
          "ternary": {
           "aaxis": {
            "gridcolor": "white",
            "linecolor": "white",
            "ticks": ""
           },
           "baxis": {
            "gridcolor": "white",
            "linecolor": "white",
            "ticks": ""
           },
           "bgcolor": "#E5ECF6",
           "caxis": {
            "gridcolor": "white",
            "linecolor": "white",
            "ticks": ""
           }
          },
          "title": {
           "x": 0.05
          },
          "xaxis": {
           "automargin": true,
           "gridcolor": "white",
           "linecolor": "white",
           "ticks": "",
           "title": {
            "standoff": 15
           },
           "zerolinecolor": "white",
           "zerolinewidth": 2
          },
          "yaxis": {
           "automargin": true,
           "gridcolor": "white",
           "linecolor": "white",
           "ticks": "",
           "title": {
            "standoff": 15
           },
           "zerolinecolor": "white",
           "zerolinewidth": 2
          }
         }
        },
        "xaxis": {
         "anchor": "y",
         "domain": [
          0,
          1
         ],
         "title": {
          "text": "DataReferencia"
         }
        },
        "yaxis": {
         "anchor": "x",
         "domain": [
          0,
          1
         ],
         "title": {
          "text": "cumsum_mediana"
         }
        }
       }
      }
     },
     "metadata": {},
     "output_type": "display_data"
    }
   ],
   "source": [
    "# Gráfico iterativo utilizando o plotly\n",
    "fig=px.line(df_ipca_from_now,x='DataReferencia',y='cumsum_mediana')\n",
    "# Gerando arquivo com o resultado\n",
    "# plotly.offline.plot(fig, show_link = True,filename=f'./output/tx_desocupacao_forcast.html')\n",
    "fig.show()"
   ]
  },
  {
   "cell_type": "code",
   "execution_count": null,
   "metadata": {},
   "outputs": [],
   "source": []
  }
 ],
 "metadata": {
  "kernelspec": {
   "display_name": "Python 3.10.4 64-bit",
   "language": "python",
   "name": "python3"
  },
  "language_info": {
   "codemirror_mode": {
    "name": "ipython",
    "version": 3
   },
   "file_extension": ".py",
   "mimetype": "text/x-python",
   "name": "python",
   "nbconvert_exporter": "python",
   "pygments_lexer": "ipython3",
   "version": "3.10.4"
  },
  "orig_nbformat": 4,
  "vscode": {
   "interpreter": {
    "hash": "56a276fc4fc28a70691a0a23041e734fbee624a304b6c6d59b0c547ae7b77065"
   }
  }
 },
 "nbformat": 4,
 "nbformat_minor": 2
}
