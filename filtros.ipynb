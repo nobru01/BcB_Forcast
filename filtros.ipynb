{
 "cells": [
  {
   "cell_type": "code",
   "execution_count": 49,
   "metadata": {},
   "outputs": [],
   "source": [
    "import os\n",
    "import datetime\n",
    "from datetime import timedelta\n",
    "from dateutil.relativedelta import relativedelta\n",
    "import plotly.express as px\n",
    "import plotly"
   ]
  },
  {
   "cell_type": "code",
   "execution_count": 50,
   "metadata": {},
   "outputs": [
    {
     "name": "stdout",
     "output_type": "stream",
     "text": [
      "Inicializado Rotina json_collect.py.\n"
     ]
    }
   ],
   "source": [
    "print('Inicializado Rotina json_collect.py.')\n",
    "os.chdir(sys.path[0])\n",
    "# os.chdir(os.path.join(os.getcwd(),\"json_collect.py\"))                  # Modifica o diretório de trabalho, para os caminhos relativos funcionar. (https://stackoverflow.com/questions/1432924/python-change-the-scripts-working-directory-to-the-scripts-own-directory)\n",
    "# print(os.getcwd())\n",
    "%run ./json_collect.py                      \n"
   ]
  },
  {
   "cell_type": "code",
   "execution_count": 51,
   "metadata": {},
   "outputs": [],
   "source": [
    "# sites: https://dadosabertos.bcb.gov.br/dataset/expectativas-mercado\n",
    "# Sintase: https://dadosabertos.bcb.gov.br/dataset/expectativas-mercado/resource/d420a704-75a7-4f45-8f4b-0fca813c70f0\n",
    "# documentação: https://olinda.bcb.gov.br/olinda/servico/Expectativas/versao/v1/documentacao"
   ]
  },
  {
   "cell_type": "code",
   "execution_count": 52,
   "metadata": {},
   "outputs": [
    {
     "data": {
      "text/html": [
       "<div>\n",
       "<style scoped>\n",
       "    .dataframe tbody tr th:only-of-type {\n",
       "        vertical-align: middle;\n",
       "    }\n",
       "\n",
       "    .dataframe tbody tr th {\n",
       "        vertical-align: top;\n",
       "    }\n",
       "\n",
       "    .dataframe thead th {\n",
       "        text-align: right;\n",
       "    }\n",
       "</style>\n",
       "<table border=\"1\" class=\"dataframe\">\n",
       "  <thead>\n",
       "    <tr style=\"text-align: right;\">\n",
       "      <th></th>\n",
       "      <th>Data</th>\n",
       "      <th>Media</th>\n",
       "      <th>Mediana</th>\n",
       "      <th>DesvioPadrao</th>\n",
       "      <th>Minimo</th>\n",
       "      <th>Maximo</th>\n",
       "      <th>numeroRespondentes</th>\n",
       "      <th>baseCalculo</th>\n",
       "      <th>data_reuniao</th>\n",
       "    </tr>\n",
       "    <tr>\n",
       "      <th>Reuniao</th>\n",
       "      <th></th>\n",
       "      <th></th>\n",
       "      <th></th>\n",
       "      <th></th>\n",
       "      <th></th>\n",
       "      <th></th>\n",
       "      <th></th>\n",
       "      <th></th>\n",
       "      <th></th>\n",
       "    </tr>\n",
       "  </thead>\n",
       "  <tbody>\n",
       "    <tr>\n",
       "      <th>R6/2022</th>\n",
       "      <td>2022-08-05</td>\n",
       "      <td>13.8869</td>\n",
       "      <td>13.7500</td>\n",
       "      <td>0.1562</td>\n",
       "      <td>13.75</td>\n",
       "      <td>14.25</td>\n",
       "      <td>42</td>\n",
       "      <td>1</td>\n",
       "      <td>2022-09-21</td>\n",
       "    </tr>\n",
       "    <tr>\n",
       "      <th>R7/2022</th>\n",
       "      <td>2022-08-05</td>\n",
       "      <td>13.8869</td>\n",
       "      <td>13.7500</td>\n",
       "      <td>0.1562</td>\n",
       "      <td>13.75</td>\n",
       "      <td>14.25</td>\n",
       "      <td>42</td>\n",
       "      <td>1</td>\n",
       "      <td>2022-10-26</td>\n",
       "    </tr>\n",
       "    <tr>\n",
       "      <th>R8/2022</th>\n",
       "      <td>2022-08-05</td>\n",
       "      <td>13.8810</td>\n",
       "      <td>13.7505</td>\n",
       "      <td>0.1658</td>\n",
       "      <td>13.50</td>\n",
       "      <td>14.25</td>\n",
       "      <td>42</td>\n",
       "      <td>1</td>\n",
       "      <td>2022-12-07</td>\n",
       "    </tr>\n",
       "    <tr>\n",
       "      <th>R1/2023</th>\n",
       "      <td>2022-08-05</td>\n",
       "      <td>13.8397</td>\n",
       "      <td>13.7500</td>\n",
       "      <td>0.2079</td>\n",
       "      <td>13.25</td>\n",
       "      <td>14.25</td>\n",
       "      <td>39</td>\n",
       "      <td>1</td>\n",
       "      <td>2023-02-01</td>\n",
       "    </tr>\n",
       "    <tr>\n",
       "      <th>R2/2023</th>\n",
       "      <td>2022-08-05</td>\n",
       "      <td>13.7564</td>\n",
       "      <td>13.7500</td>\n",
       "      <td>0.3276</td>\n",
       "      <td>12.75</td>\n",
       "      <td>14.25</td>\n",
       "      <td>39</td>\n",
       "      <td>1</td>\n",
       "      <td>2023-03-22</td>\n",
       "    </tr>\n",
       "    <tr>\n",
       "      <th>R3/2023</th>\n",
       "      <td>2022-08-05</td>\n",
       "      <td>13.5705</td>\n",
       "      <td>13.7500</td>\n",
       "      <td>0.5249</td>\n",
       "      <td>12.00</td>\n",
       "      <td>14.25</td>\n",
       "      <td>39</td>\n",
       "      <td>1</td>\n",
       "      <td>2023-05-03</td>\n",
       "    </tr>\n",
       "    <tr>\n",
       "      <th>R4/2023</th>\n",
       "      <td>2022-08-05</td>\n",
       "      <td>13.2885</td>\n",
       "      <td>13.5000</td>\n",
       "      <td>0.7458</td>\n",
       "      <td>11.50</td>\n",
       "      <td>14.25</td>\n",
       "      <td>39</td>\n",
       "      <td>1</td>\n",
       "      <td>2023-06-21</td>\n",
       "    </tr>\n",
       "    <tr>\n",
       "      <th>R5/2023</th>\n",
       "      <td>2022-08-05</td>\n",
       "      <td>12.7628</td>\n",
       "      <td>13.0000</td>\n",
       "      <td>0.8242</td>\n",
       "      <td>10.50</td>\n",
       "      <td>14.00</td>\n",
       "      <td>39</td>\n",
       "      <td>1</td>\n",
       "      <td>2023-08-02</td>\n",
       "    </tr>\n",
       "    <tr>\n",
       "      <th>R6/2023</th>\n",
       "      <td>2022-08-05</td>\n",
       "      <td>12.2308</td>\n",
       "      <td>12.5000</td>\n",
       "      <td>0.8518</td>\n",
       "      <td>10.25</td>\n",
       "      <td>14.00</td>\n",
       "      <td>39</td>\n",
       "      <td>1</td>\n",
       "      <td>2023-09-20</td>\n",
       "    </tr>\n",
       "    <tr>\n",
       "      <th>R7/2023</th>\n",
       "      <td>2022-08-05</td>\n",
       "      <td>11.6538</td>\n",
       "      <td>11.7500</td>\n",
       "      <td>0.8390</td>\n",
       "      <td>10.00</td>\n",
       "      <td>13.50</td>\n",
       "      <td>39</td>\n",
       "      <td>1</td>\n",
       "      <td>2023-11-01</td>\n",
       "    </tr>\n",
       "    <tr>\n",
       "      <th>R8/2023</th>\n",
       "      <td>2022-08-05</td>\n",
       "      <td>11.0688</td>\n",
       "      <td>11.0000</td>\n",
       "      <td>0.9203</td>\n",
       "      <td>9.25</td>\n",
       "      <td>13.00</td>\n",
       "      <td>40</td>\n",
       "      <td>1</td>\n",
       "      <td>2023-12-13</td>\n",
       "    </tr>\n",
       "    <tr>\n",
       "      <th>R1/2024</th>\n",
       "      <td>2022-08-05</td>\n",
       "      <td>10.4044</td>\n",
       "      <td>10.3750</td>\n",
       "      <td>0.9335</td>\n",
       "      <td>8.50</td>\n",
       "      <td>13.00</td>\n",
       "      <td>34</td>\n",
       "      <td>1</td>\n",
       "      <td>2024-01-31</td>\n",
       "    </tr>\n",
       "    <tr>\n",
       "      <th>R2/2024</th>\n",
       "      <td>2022-08-05</td>\n",
       "      <td>9.8106</td>\n",
       "      <td>10.0000</td>\n",
       "      <td>0.8941</td>\n",
       "      <td>8.00</td>\n",
       "      <td>11.50</td>\n",
       "      <td>33</td>\n",
       "      <td>1</td>\n",
       "      <td>2024-03-20</td>\n",
       "    </tr>\n",
       "    <tr>\n",
       "      <th>R3/2024</th>\n",
       "      <td>2022-08-05</td>\n",
       "      <td>9.3409</td>\n",
       "      <td>9.5000</td>\n",
       "      <td>0.9491</td>\n",
       "      <td>7.50</td>\n",
       "      <td>11.00</td>\n",
       "      <td>33</td>\n",
       "      <td>1</td>\n",
       "      <td>2024-05-08</td>\n",
       "    </tr>\n",
       "    <tr>\n",
       "      <th>R4/2024</th>\n",
       "      <td>2022-08-05</td>\n",
       "      <td>8.8667</td>\n",
       "      <td>9.0000</td>\n",
       "      <td>0.8938</td>\n",
       "      <td>7.00</td>\n",
       "      <td>10.50</td>\n",
       "      <td>30</td>\n",
       "      <td>1</td>\n",
       "      <td>2024-06-26</td>\n",
       "    </tr>\n",
       "    <tr>\n",
       "      <th>R5/2024</th>\n",
       "      <td>2022-08-05</td>\n",
       "      <td>8.9107</td>\n",
       "      <td>9.0000</td>\n",
       "      <td>0.8536</td>\n",
       "      <td>7.00</td>\n",
       "      <td>10.00</td>\n",
       "      <td>14</td>\n",
       "      <td>1</td>\n",
       "      <td>2024-08-14</td>\n",
       "    </tr>\n",
       "    <tr>\n",
       "      <th>R6/2022</th>\n",
       "      <td>2022-08-04</td>\n",
       "      <td>13.8973</td>\n",
       "      <td>13.7500</td>\n",
       "      <td>0.1748</td>\n",
       "      <td>13.50</td>\n",
       "      <td>14.25</td>\n",
       "      <td>73</td>\n",
       "      <td>1</td>\n",
       "      <td>2022-09-21</td>\n",
       "    </tr>\n",
       "    <tr>\n",
       "      <th>R7/2022</th>\n",
       "      <td>2022-08-04</td>\n",
       "      <td>13.9178</td>\n",
       "      <td>14.0000</td>\n",
       "      <td>0.2071</td>\n",
       "      <td>13.50</td>\n",
       "      <td>14.75</td>\n",
       "      <td>73</td>\n",
       "      <td>1</td>\n",
       "      <td>2022-10-26</td>\n",
       "    </tr>\n",
       "    <tr>\n",
       "      <th>R8/2022</th>\n",
       "      <td>2022-08-04</td>\n",
       "      <td>13.9178</td>\n",
       "      <td>14.0000</td>\n",
       "      <td>0.2071</td>\n",
       "      <td>13.50</td>\n",
       "      <td>14.75</td>\n",
       "      <td>73</td>\n",
       "      <td>1</td>\n",
       "      <td>2022-12-07</td>\n",
       "    </tr>\n",
       "    <tr>\n",
       "      <th>R1/2023</th>\n",
       "      <td>2022-08-04</td>\n",
       "      <td>13.8607</td>\n",
       "      <td>13.7500</td>\n",
       "      <td>0.2855</td>\n",
       "      <td>12.75</td>\n",
       "      <td>14.75</td>\n",
       "      <td>70</td>\n",
       "      <td>1</td>\n",
       "      <td>2023-02-01</td>\n",
       "    </tr>\n",
       "  </tbody>\n",
       "</table>\n",
       "</div>"
      ],
      "text/plain": [
       "               Data    Media  Mediana  DesvioPadrao  Minimo  Maximo  \\\n",
       "Reuniao                                                               \n",
       "R6/2022  2022-08-05  13.8869  13.7500        0.1562   13.75   14.25   \n",
       "R7/2022  2022-08-05  13.8869  13.7500        0.1562   13.75   14.25   \n",
       "R8/2022  2022-08-05  13.8810  13.7505        0.1658   13.50   14.25   \n",
       "R1/2023  2022-08-05  13.8397  13.7500        0.2079   13.25   14.25   \n",
       "R2/2023  2022-08-05  13.7564  13.7500        0.3276   12.75   14.25   \n",
       "R3/2023  2022-08-05  13.5705  13.7500        0.5249   12.00   14.25   \n",
       "R4/2023  2022-08-05  13.2885  13.5000        0.7458   11.50   14.25   \n",
       "R5/2023  2022-08-05  12.7628  13.0000        0.8242   10.50   14.00   \n",
       "R6/2023  2022-08-05  12.2308  12.5000        0.8518   10.25   14.00   \n",
       "R7/2023  2022-08-05  11.6538  11.7500        0.8390   10.00   13.50   \n",
       "R8/2023  2022-08-05  11.0688  11.0000        0.9203    9.25   13.00   \n",
       "R1/2024  2022-08-05  10.4044  10.3750        0.9335    8.50   13.00   \n",
       "R2/2024  2022-08-05   9.8106  10.0000        0.8941    8.00   11.50   \n",
       "R3/2024  2022-08-05   9.3409   9.5000        0.9491    7.50   11.00   \n",
       "R4/2024  2022-08-05   8.8667   9.0000        0.8938    7.00   10.50   \n",
       "R5/2024  2022-08-05   8.9107   9.0000        0.8536    7.00   10.00   \n",
       "R6/2022  2022-08-04  13.8973  13.7500        0.1748   13.50   14.25   \n",
       "R7/2022  2022-08-04  13.9178  14.0000        0.2071   13.50   14.75   \n",
       "R8/2022  2022-08-04  13.9178  14.0000        0.2071   13.50   14.75   \n",
       "R1/2023  2022-08-04  13.8607  13.7500        0.2855   12.75   14.75   \n",
       "\n",
       "         numeroRespondentes  baseCalculo data_reuniao  \n",
       "Reuniao                                                \n",
       "R6/2022                  42            1   2022-09-21  \n",
       "R7/2022                  42            1   2022-10-26  \n",
       "R8/2022                  42            1   2022-12-07  \n",
       "R1/2023                  39            1   2023-02-01  \n",
       "R2/2023                  39            1   2023-03-22  \n",
       "R3/2023                  39            1   2023-05-03  \n",
       "R4/2023                  39            1   2023-06-21  \n",
       "R5/2023                  39            1   2023-08-02  \n",
       "R6/2023                  39            1   2023-09-20  \n",
       "R7/2023                  39            1   2023-11-01  \n",
       "R8/2023                  40            1   2023-12-13  \n",
       "R1/2024                  34            1   2024-01-31  \n",
       "R2/2024                  33            1   2024-03-20  \n",
       "R3/2024                  33            1   2024-05-08  \n",
       "R4/2024                  30            1   2024-06-26  \n",
       "R5/2024                  14            1   2024-08-14  \n",
       "R6/2022                  73            1   2022-09-21  \n",
       "R7/2022                  73            1   2022-10-26  \n",
       "R8/2022                  73            1   2022-12-07  \n",
       "R1/2023                  70            1   2023-02-01  "
      ]
     },
     "execution_count": 52,
     "metadata": {},
     "output_type": "execute_result"
    }
   ],
   "source": [
    "df_selic_data=pd.read_csv('./input/selic_datas.csv',index_col='Reuniao')\n",
    "df_selic=pd.read_csv('./output/selic_data_df.csv',index_col='Reuniao')\n",
    "df_selic=df_selic.drop(columns=['Unnamed: 0','Indicador'])\n",
    "df_selic['Data']=df_selic.apply(lambda x: datetime.datetime.strptime(x.Data,'%Y-%m-%d').date(),axis=1)\n",
    "\n",
    "df_selic['data_reuniao']=''\n",
    "for i in range(0, len(df_selic)):\n",
    "    busca_data=''\n",
    "    try:\n",
    "        busca_data=df_selic_data.loc[df_selic.index[i],'data_reuniao']\n",
    "        busca_data=datetime.datetime.strptime(busca_data,'%Y-%m-%d').date()\n",
    "        df_selic.loc[df_selic.index[i],'data_reuniao']=busca_data\n",
    "\n",
    "    except:\n",
    "        # será definida um expectativa para a data.\n",
    "        # busca_data=df_selic_data.loc[df_selic.index[i],'data_reuniao']\n",
    "        # df_selic.loc[df_selic.index[i],'data_reuniao']=busca_data\n",
    "        continue\n",
    "\n",
    "# df_selic['data_reuniao']=df_selic.apply(lambda x: datetime.datetime.strptime(x.data_reuniao,'%Y-%m-%d').date(),axis=1)\n",
    "# df_selic=df_selic[df_selic['data_reuniao']!='']\n",
    "df_selic=df_selic.sort_values(by=['Data','data_reuniao','baseCalculo'],ascending=[False,True,False])\n",
    "df_selic=df_selic[df_selic['baseCalculo']==1]           # não sei qual é a diferença da base de cálculo.\n",
    "df_selic.head(20)"
   ]
  },
  {
   "cell_type": "code",
   "execution_count": 53,
   "metadata": {},
   "outputs": [
    {
     "data": {
      "application/vnd.plotly.v1+json": {
       "config": {
        "plotlyServerURL": "https://plot.ly"
       },
       "data": [
        {
         "hovertemplate": "Data=2022-08-05<br>data_reuniao=%{x}<br>Mediana=%{y}<extra></extra>",
         "legendgroup": "2022-08-05",
         "line": {
          "color": "#636efa",
          "dash": "solid"
         },
         "marker": {
          "symbol": "circle"
         },
         "mode": "lines",
         "name": "2022-08-05",
         "orientation": "v",
         "showlegend": true,
         "type": "scatter",
         "x": [
          "2022-09-21",
          "2022-10-26",
          "2022-12-07",
          "2023-02-01",
          "2023-03-22",
          "2023-05-03",
          "2023-06-21",
          "2023-08-02",
          "2023-09-20",
          "2023-11-01",
          "2023-12-13",
          "2024-01-31",
          "2024-03-20",
          "2024-05-08",
          "2024-06-26",
          "2024-08-14"
         ],
         "xaxis": "x",
         "y": [
          13.75,
          13.75,
          13.7505,
          13.75,
          13.75,
          13.75,
          13.5,
          13,
          12.5,
          11.75,
          11,
          10.375,
          10,
          9.5,
          9,
          9
         ],
         "yaxis": "y"
        },
        {
         "hovertemplate": "Data=2022-08-04<br>data_reuniao=%{x}<br>Mediana=%{y}<extra></extra>",
         "legendgroup": "2022-08-04",
         "line": {
          "color": "#EF553B",
          "dash": "solid"
         },
         "marker": {
          "symbol": "circle"
         },
         "mode": "lines",
         "name": "2022-08-04",
         "orientation": "v",
         "showlegend": true,
         "type": "scatter",
         "x": [
          "2022-09-21",
          "2022-10-26",
          "2022-12-07",
          "2023-02-01",
          "2023-03-22",
          "2023-05-03",
          "2023-06-21",
          "2023-08-02",
          "2023-09-20",
          "2023-11-01",
          "2023-12-13",
          "2024-01-31",
          "2024-03-20",
          "2024-05-08",
          "2024-06-26",
          "2024-08-14"
         ],
         "xaxis": "x",
         "y": [
          13.75,
          14,
          14,
          13.75,
          13.75,
          13.75,
          13.75,
          13,
          12.5,
          11.75,
          11,
          10.5,
          10,
          9.25,
          9,
          8.75
         ],
         "yaxis": "y"
        },
        {
         "hovertemplate": "Data=2022-08-03<br>data_reuniao=%{x}<br>Mediana=%{y}<extra></extra>",
         "legendgroup": "2022-08-03",
         "line": {
          "color": "#00cc96",
          "dash": "solid"
         },
         "marker": {
          "symbol": "circle"
         },
         "mode": "lines",
         "name": "2022-08-03",
         "orientation": "v",
         "showlegend": true,
         "type": "scatter",
         "x": [
          "2022-08-03",
          "2022-09-21",
          "2022-10-26",
          "2022-12-07",
          "2023-02-01",
          "2023-03-22",
          "2023-05-03",
          "2023-06-21",
          "2023-08-02",
          "2023-09-20",
          "2023-11-01",
          "2023-12-13",
          "2024-01-31",
          "2024-03-20",
          "2024-05-08",
          "2024-06-26"
         ],
         "xaxis": "x",
         "y": [
          13.75,
          14,
          14,
          14,
          13.75,
          13.75,
          13.75,
          13.75,
          13,
          12.5,
          11.75,
          11.125,
          10.5,
          10,
          9.5,
          9
         ],
         "yaxis": "y"
        },
        {
         "hovertemplate": "Data=2022-08-02<br>data_reuniao=%{x}<br>Mediana=%{y}<extra></extra>",
         "legendgroup": "2022-08-02",
         "line": {
          "color": "#ab63fa",
          "dash": "solid"
         },
         "marker": {
          "symbol": "circle"
         },
         "mode": "lines",
         "name": "2022-08-02",
         "orientation": "v",
         "showlegend": true,
         "type": "scatter",
         "x": [
          "2024-05-08",
          "2024-06-26"
         ],
         "xaxis": "x",
         "y": [
          9.25,
          9
         ],
         "yaxis": "y"
        }
       ],
       "layout": {
        "legend": {
         "title": {
          "text": "Data"
         },
         "tracegroupgap": 0
        },
        "margin": {
         "t": 60
        },
        "template": {
         "data": {
          "bar": [
           {
            "error_x": {
             "color": "#2a3f5f"
            },
            "error_y": {
             "color": "#2a3f5f"
            },
            "marker": {
             "line": {
              "color": "#E5ECF6",
              "width": 0.5
             },
             "pattern": {
              "fillmode": "overlay",
              "size": 10,
              "solidity": 0.2
             }
            },
            "type": "bar"
           }
          ],
          "barpolar": [
           {
            "marker": {
             "line": {
              "color": "#E5ECF6",
              "width": 0.5
             },
             "pattern": {
              "fillmode": "overlay",
              "size": 10,
              "solidity": 0.2
             }
            },
            "type": "barpolar"
           }
          ],
          "carpet": [
           {
            "aaxis": {
             "endlinecolor": "#2a3f5f",
             "gridcolor": "white",
             "linecolor": "white",
             "minorgridcolor": "white",
             "startlinecolor": "#2a3f5f"
            },
            "baxis": {
             "endlinecolor": "#2a3f5f",
             "gridcolor": "white",
             "linecolor": "white",
             "minorgridcolor": "white",
             "startlinecolor": "#2a3f5f"
            },
            "type": "carpet"
           }
          ],
          "choropleth": [
           {
            "colorbar": {
             "outlinewidth": 0,
             "ticks": ""
            },
            "type": "choropleth"
           }
          ],
          "contour": [
           {
            "colorbar": {
             "outlinewidth": 0,
             "ticks": ""
            },
            "colorscale": [
             [
              0,
              "#0d0887"
             ],
             [
              0.1111111111111111,
              "#46039f"
             ],
             [
              0.2222222222222222,
              "#7201a8"
             ],
             [
              0.3333333333333333,
              "#9c179e"
             ],
             [
              0.4444444444444444,
              "#bd3786"
             ],
             [
              0.5555555555555556,
              "#d8576b"
             ],
             [
              0.6666666666666666,
              "#ed7953"
             ],
             [
              0.7777777777777778,
              "#fb9f3a"
             ],
             [
              0.8888888888888888,
              "#fdca26"
             ],
             [
              1,
              "#f0f921"
             ]
            ],
            "type": "contour"
           }
          ],
          "contourcarpet": [
           {
            "colorbar": {
             "outlinewidth": 0,
             "ticks": ""
            },
            "type": "contourcarpet"
           }
          ],
          "heatmap": [
           {
            "colorbar": {
             "outlinewidth": 0,
             "ticks": ""
            },
            "colorscale": [
             [
              0,
              "#0d0887"
             ],
             [
              0.1111111111111111,
              "#46039f"
             ],
             [
              0.2222222222222222,
              "#7201a8"
             ],
             [
              0.3333333333333333,
              "#9c179e"
             ],
             [
              0.4444444444444444,
              "#bd3786"
             ],
             [
              0.5555555555555556,
              "#d8576b"
             ],
             [
              0.6666666666666666,
              "#ed7953"
             ],
             [
              0.7777777777777778,
              "#fb9f3a"
             ],
             [
              0.8888888888888888,
              "#fdca26"
             ],
             [
              1,
              "#f0f921"
             ]
            ],
            "type": "heatmap"
           }
          ],
          "heatmapgl": [
           {
            "colorbar": {
             "outlinewidth": 0,
             "ticks": ""
            },
            "colorscale": [
             [
              0,
              "#0d0887"
             ],
             [
              0.1111111111111111,
              "#46039f"
             ],
             [
              0.2222222222222222,
              "#7201a8"
             ],
             [
              0.3333333333333333,
              "#9c179e"
             ],
             [
              0.4444444444444444,
              "#bd3786"
             ],
             [
              0.5555555555555556,
              "#d8576b"
             ],
             [
              0.6666666666666666,
              "#ed7953"
             ],
             [
              0.7777777777777778,
              "#fb9f3a"
             ],
             [
              0.8888888888888888,
              "#fdca26"
             ],
             [
              1,
              "#f0f921"
             ]
            ],
            "type": "heatmapgl"
           }
          ],
          "histogram": [
           {
            "marker": {
             "pattern": {
              "fillmode": "overlay",
              "size": 10,
              "solidity": 0.2
             }
            },
            "type": "histogram"
           }
          ],
          "histogram2d": [
           {
            "colorbar": {
             "outlinewidth": 0,
             "ticks": ""
            },
            "colorscale": [
             [
              0,
              "#0d0887"
             ],
             [
              0.1111111111111111,
              "#46039f"
             ],
             [
              0.2222222222222222,
              "#7201a8"
             ],
             [
              0.3333333333333333,
              "#9c179e"
             ],
             [
              0.4444444444444444,
              "#bd3786"
             ],
             [
              0.5555555555555556,
              "#d8576b"
             ],
             [
              0.6666666666666666,
              "#ed7953"
             ],
             [
              0.7777777777777778,
              "#fb9f3a"
             ],
             [
              0.8888888888888888,
              "#fdca26"
             ],
             [
              1,
              "#f0f921"
             ]
            ],
            "type": "histogram2d"
           }
          ],
          "histogram2dcontour": [
           {
            "colorbar": {
             "outlinewidth": 0,
             "ticks": ""
            },
            "colorscale": [
             [
              0,
              "#0d0887"
             ],
             [
              0.1111111111111111,
              "#46039f"
             ],
             [
              0.2222222222222222,
              "#7201a8"
             ],
             [
              0.3333333333333333,
              "#9c179e"
             ],
             [
              0.4444444444444444,
              "#bd3786"
             ],
             [
              0.5555555555555556,
              "#d8576b"
             ],
             [
              0.6666666666666666,
              "#ed7953"
             ],
             [
              0.7777777777777778,
              "#fb9f3a"
             ],
             [
              0.8888888888888888,
              "#fdca26"
             ],
             [
              1,
              "#f0f921"
             ]
            ],
            "type": "histogram2dcontour"
           }
          ],
          "mesh3d": [
           {
            "colorbar": {
             "outlinewidth": 0,
             "ticks": ""
            },
            "type": "mesh3d"
           }
          ],
          "parcoords": [
           {
            "line": {
             "colorbar": {
              "outlinewidth": 0,
              "ticks": ""
             }
            },
            "type": "parcoords"
           }
          ],
          "pie": [
           {
            "automargin": true,
            "type": "pie"
           }
          ],
          "scatter": [
           {
            "fillpattern": {
             "fillmode": "overlay",
             "size": 10,
             "solidity": 0.2
            },
            "type": "scatter"
           }
          ],
          "scatter3d": [
           {
            "line": {
             "colorbar": {
              "outlinewidth": 0,
              "ticks": ""
             }
            },
            "marker": {
             "colorbar": {
              "outlinewidth": 0,
              "ticks": ""
             }
            },
            "type": "scatter3d"
           }
          ],
          "scattercarpet": [
           {
            "marker": {
             "colorbar": {
              "outlinewidth": 0,
              "ticks": ""
             }
            },
            "type": "scattercarpet"
           }
          ],
          "scattergeo": [
           {
            "marker": {
             "colorbar": {
              "outlinewidth": 0,
              "ticks": ""
             }
            },
            "type": "scattergeo"
           }
          ],
          "scattergl": [
           {
            "marker": {
             "colorbar": {
              "outlinewidth": 0,
              "ticks": ""
             }
            },
            "type": "scattergl"
           }
          ],
          "scattermapbox": [
           {
            "marker": {
             "colorbar": {
              "outlinewidth": 0,
              "ticks": ""
             }
            },
            "type": "scattermapbox"
           }
          ],
          "scatterpolar": [
           {
            "marker": {
             "colorbar": {
              "outlinewidth": 0,
              "ticks": ""
             }
            },
            "type": "scatterpolar"
           }
          ],
          "scatterpolargl": [
           {
            "marker": {
             "colorbar": {
              "outlinewidth": 0,
              "ticks": ""
             }
            },
            "type": "scatterpolargl"
           }
          ],
          "scatterternary": [
           {
            "marker": {
             "colorbar": {
              "outlinewidth": 0,
              "ticks": ""
             }
            },
            "type": "scatterternary"
           }
          ],
          "surface": [
           {
            "colorbar": {
             "outlinewidth": 0,
             "ticks": ""
            },
            "colorscale": [
             [
              0,
              "#0d0887"
             ],
             [
              0.1111111111111111,
              "#46039f"
             ],
             [
              0.2222222222222222,
              "#7201a8"
             ],
             [
              0.3333333333333333,
              "#9c179e"
             ],
             [
              0.4444444444444444,
              "#bd3786"
             ],
             [
              0.5555555555555556,
              "#d8576b"
             ],
             [
              0.6666666666666666,
              "#ed7953"
             ],
             [
              0.7777777777777778,
              "#fb9f3a"
             ],
             [
              0.8888888888888888,
              "#fdca26"
             ],
             [
              1,
              "#f0f921"
             ]
            ],
            "type": "surface"
           }
          ],
          "table": [
           {
            "cells": {
             "fill": {
              "color": "#EBF0F8"
             },
             "line": {
              "color": "white"
             }
            },
            "header": {
             "fill": {
              "color": "#C8D4E3"
             },
             "line": {
              "color": "white"
             }
            },
            "type": "table"
           }
          ]
         },
         "layout": {
          "annotationdefaults": {
           "arrowcolor": "#2a3f5f",
           "arrowhead": 0,
           "arrowwidth": 1
          },
          "autotypenumbers": "strict",
          "coloraxis": {
           "colorbar": {
            "outlinewidth": 0,
            "ticks": ""
           }
          },
          "colorscale": {
           "diverging": [
            [
             0,
             "#8e0152"
            ],
            [
             0.1,
             "#c51b7d"
            ],
            [
             0.2,
             "#de77ae"
            ],
            [
             0.3,
             "#f1b6da"
            ],
            [
             0.4,
             "#fde0ef"
            ],
            [
             0.5,
             "#f7f7f7"
            ],
            [
             0.6,
             "#e6f5d0"
            ],
            [
             0.7,
             "#b8e186"
            ],
            [
             0.8,
             "#7fbc41"
            ],
            [
             0.9,
             "#4d9221"
            ],
            [
             1,
             "#276419"
            ]
           ],
           "sequential": [
            [
             0,
             "#0d0887"
            ],
            [
             0.1111111111111111,
             "#46039f"
            ],
            [
             0.2222222222222222,
             "#7201a8"
            ],
            [
             0.3333333333333333,
             "#9c179e"
            ],
            [
             0.4444444444444444,
             "#bd3786"
            ],
            [
             0.5555555555555556,
             "#d8576b"
            ],
            [
             0.6666666666666666,
             "#ed7953"
            ],
            [
             0.7777777777777778,
             "#fb9f3a"
            ],
            [
             0.8888888888888888,
             "#fdca26"
            ],
            [
             1,
             "#f0f921"
            ]
           ],
           "sequentialminus": [
            [
             0,
             "#0d0887"
            ],
            [
             0.1111111111111111,
             "#46039f"
            ],
            [
             0.2222222222222222,
             "#7201a8"
            ],
            [
             0.3333333333333333,
             "#9c179e"
            ],
            [
             0.4444444444444444,
             "#bd3786"
            ],
            [
             0.5555555555555556,
             "#d8576b"
            ],
            [
             0.6666666666666666,
             "#ed7953"
            ],
            [
             0.7777777777777778,
             "#fb9f3a"
            ],
            [
             0.8888888888888888,
             "#fdca26"
            ],
            [
             1,
             "#f0f921"
            ]
           ]
          },
          "colorway": [
           "#636efa",
           "#EF553B",
           "#00cc96",
           "#ab63fa",
           "#FFA15A",
           "#19d3f3",
           "#FF6692",
           "#B6E880",
           "#FF97FF",
           "#FECB52"
          ],
          "font": {
           "color": "#2a3f5f"
          },
          "geo": {
           "bgcolor": "white",
           "lakecolor": "white",
           "landcolor": "#E5ECF6",
           "showlakes": true,
           "showland": true,
           "subunitcolor": "white"
          },
          "hoverlabel": {
           "align": "left"
          },
          "hovermode": "closest",
          "mapbox": {
           "style": "light"
          },
          "paper_bgcolor": "white",
          "plot_bgcolor": "#E5ECF6",
          "polar": {
           "angularaxis": {
            "gridcolor": "white",
            "linecolor": "white",
            "ticks": ""
           },
           "bgcolor": "#E5ECF6",
           "radialaxis": {
            "gridcolor": "white",
            "linecolor": "white",
            "ticks": ""
           }
          },
          "scene": {
           "xaxis": {
            "backgroundcolor": "#E5ECF6",
            "gridcolor": "white",
            "gridwidth": 2,
            "linecolor": "white",
            "showbackground": true,
            "ticks": "",
            "zerolinecolor": "white"
           },
           "yaxis": {
            "backgroundcolor": "#E5ECF6",
            "gridcolor": "white",
            "gridwidth": 2,
            "linecolor": "white",
            "showbackground": true,
            "ticks": "",
            "zerolinecolor": "white"
           },
           "zaxis": {
            "backgroundcolor": "#E5ECF6",
            "gridcolor": "white",
            "gridwidth": 2,
            "linecolor": "white",
            "showbackground": true,
            "ticks": "",
            "zerolinecolor": "white"
           }
          },
          "shapedefaults": {
           "line": {
            "color": "#2a3f5f"
           }
          },
          "ternary": {
           "aaxis": {
            "gridcolor": "white",
            "linecolor": "white",
            "ticks": ""
           },
           "baxis": {
            "gridcolor": "white",
            "linecolor": "white",
            "ticks": ""
           },
           "bgcolor": "#E5ECF6",
           "caxis": {
            "gridcolor": "white",
            "linecolor": "white",
            "ticks": ""
           }
          },
          "title": {
           "x": 0.05
          },
          "xaxis": {
           "automargin": true,
           "gridcolor": "white",
           "linecolor": "white",
           "ticks": "",
           "title": {
            "standoff": 15
           },
           "zerolinecolor": "white",
           "zerolinewidth": 2
          },
          "yaxis": {
           "automargin": true,
           "gridcolor": "white",
           "linecolor": "white",
           "ticks": "",
           "title": {
            "standoff": 15
           },
           "zerolinecolor": "white",
           "zerolinewidth": 2
          }
         }
        },
        "xaxis": {
         "anchor": "y",
         "domain": [
          0,
          1
         ],
         "title": {
          "text": "data_reuniao"
         }
        },
        "yaxis": {
         "anchor": "x",
         "domain": [
          0,
          1
         ],
         "title": {
          "text": "Mediana"
         }
        }
       }
      }
     },
     "metadata": {},
     "output_type": "display_data"
    }
   ],
   "source": [
    "# Gráfico iterativo utilizando o plotly\n",
    "fig=px.line(df_selic,x='data_reuniao',y='Mediana', color='Data')\n",
    "# Gerando arquivo com o resultado\n",
    "# plotly.offline.plot(fig, show_link = True,filename=f'./output/IPCA_forcast.html')\n",
    "fig.show()"
   ]
  },
  {
   "cell_type": "code",
   "execution_count": 77,
   "metadata": {},
   "outputs": [
    {
     "data": {
      "text/plain": [
       "43"
      ]
     },
     "execution_count": 77,
     "metadata": {},
     "output_type": "execute_result"
    }
   ],
   "source": [
    "a=df_selic_ultima.iloc[0,-3]-datetime.datetime.today().date()\n",
    "a.days"
   ]
  },
  {
   "cell_type": "code",
   "execution_count": 65,
   "metadata": {},
   "outputs": [
    {
     "data": {
      "text/plain": [
       "datetime.date(2022, 8, 9)"
      ]
     },
     "execution_count": 65,
     "metadata": {},
     "output_type": "execute_result"
    }
   ],
   "source": [
    "datetime.datetime.today().date()"
   ]
  },
  {
   "cell_type": "code",
   "execution_count": 81,
   "metadata": {},
   "outputs": [
    {
     "name": "stderr",
     "output_type": "stream",
     "text": [
      "C:\\Users\\bruno.bfn\\AppData\\Local\\Temp\\ipykernel_3940\\3957757982.py:4: SettingWithCopyWarning:\n",
      "\n",
      "\n",
      "A value is trying to be set on a copy of a slice from a DataFrame.\n",
      "Try using .loc[row_indexer,col_indexer] = value instead\n",
      "\n",
      "See the caveats in the documentation: https://pandas.pydata.org/pandas-docs/stable/user_guide/indexing.html#returning-a-view-versus-a-copy\n",
      "\n",
      "C:\\Users\\bruno.bfn\\AppData\\Local\\Temp\\ipykernel_3940\\3957757982.py:5: SettingWithCopyWarning:\n",
      "\n",
      "\n",
      "A value is trying to be set on a copy of a slice from a DataFrame.\n",
      "Try using .loc[row_indexer,col_indexer] = value instead\n",
      "\n",
      "See the caveats in the documentation: https://pandas.pydata.org/pandas-docs/stable/user_guide/indexing.html#returning-a-view-versus-a-copy\n",
      "\n",
      "C:\\Users\\bruno.bfn\\AppData\\Local\\Temp\\ipykernel_3940\\3957757982.py:9: SettingWithCopyWarning:\n",
      "\n",
      "\n",
      "A value is trying to be set on a copy of a slice from a DataFrame.\n",
      "Try using .loc[row_indexer,col_indexer] = value instead\n",
      "\n",
      "See the caveats in the documentation: https://pandas.pydata.org/pandas-docs/stable/user_guide/indexing.html#returning-a-view-versus-a-copy\n",
      "\n"
     ]
    },
    {
     "data": {
      "text/html": [
       "<div>\n",
       "<style scoped>\n",
       "    .dataframe tbody tr th:only-of-type {\n",
       "        vertical-align: middle;\n",
       "    }\n",
       "\n",
       "    .dataframe tbody tr th {\n",
       "        vertical-align: top;\n",
       "    }\n",
       "\n",
       "    .dataframe thead th {\n",
       "        text-align: right;\n",
       "    }\n",
       "</style>\n",
       "<table border=\"1\" class=\"dataframe\">\n",
       "  <thead>\n",
       "    <tr style=\"text-align: right;\">\n",
       "      <th></th>\n",
       "      <th>Data</th>\n",
       "      <th>Media</th>\n",
       "      <th>Mediana</th>\n",
       "      <th>DesvioPadrao</th>\n",
       "      <th>Minimo</th>\n",
       "      <th>Maximo</th>\n",
       "      <th>numeroRespondentes</th>\n",
       "      <th>baseCalculo</th>\n",
       "      <th>data_reuniao</th>\n",
       "      <th>mediana_mensal</th>\n",
       "      <th>num_indice</th>\n",
       "    </tr>\n",
       "    <tr>\n",
       "      <th>Reuniao</th>\n",
       "      <th></th>\n",
       "      <th></th>\n",
       "      <th></th>\n",
       "      <th></th>\n",
       "      <th></th>\n",
       "      <th></th>\n",
       "      <th></th>\n",
       "      <th></th>\n",
       "      <th></th>\n",
       "      <th></th>\n",
       "      <th></th>\n",
       "    </tr>\n",
       "  </thead>\n",
       "  <tbody>\n",
       "    <tr>\n",
       "      <th>R6/2022</th>\n",
       "      <td>2022-08-05</td>\n",
       "      <td>13.89</td>\n",
       "      <td>13.75</td>\n",
       "      <td>0.16</td>\n",
       "      <td>13.75</td>\n",
       "      <td>14.25</td>\n",
       "      <td>42</td>\n",
       "      <td>1</td>\n",
       "      <td>2022-09-21</td>\n",
       "      <td>0.01</td>\n",
       "      <td>697.62</td>\n",
       "    </tr>\n",
       "    <tr>\n",
       "      <th>R7/2022</th>\n",
       "      <td>2022-08-05</td>\n",
       "      <td>13.89</td>\n",
       "      <td>13.75</td>\n",
       "      <td>0.16</td>\n",
       "      <td>13.75</td>\n",
       "      <td>14.25</td>\n",
       "      <td>42</td>\n",
       "      <td>1</td>\n",
       "      <td>2022-10-26</td>\n",
       "      <td>0.01</td>\n",
       "      <td>63,374.82</td>\n",
       "    </tr>\n",
       "    <tr>\n",
       "      <th>R8/2022</th>\n",
       "      <td>2022-08-05</td>\n",
       "      <td>13.88</td>\n",
       "      <td>13.75</td>\n",
       "      <td>0.17</td>\n",
       "      <td>13.50</td>\n",
       "      <td>14.25</td>\n",
       "      <td>42</td>\n",
       "      <td>1</td>\n",
       "      <td>2022-12-07</td>\n",
       "      <td>0.01</td>\n",
       "      <td>14,194,001.70</td>\n",
       "    </tr>\n",
       "    <tr>\n",
       "      <th>R1/2023</th>\n",
       "      <td>2022-08-05</td>\n",
       "      <td>13.84</td>\n",
       "      <td>13.75</td>\n",
       "      <td>0.21</td>\n",
       "      <td>13.25</td>\n",
       "      <td>14.25</td>\n",
       "      <td>39</td>\n",
       "      <td>1</td>\n",
       "      <td>2023-02-01</td>\n",
       "      <td>0.01</td>\n",
       "      <td>19,282,106,332.30</td>\n",
       "    </tr>\n",
       "    <tr>\n",
       "      <th>R2/2023</th>\n",
       "      <td>2022-08-05</td>\n",
       "      <td>13.76</td>\n",
       "      <td>13.75</td>\n",
       "      <td>0.33</td>\n",
       "      <td>12.75</td>\n",
       "      <td>14.25</td>\n",
       "      <td>39</td>\n",
       "      <td>1</td>\n",
       "      <td>2023-03-22</td>\n",
       "      <td>0.01</td>\n",
       "      <td>10,635,877,694,767.55</td>\n",
       "    </tr>\n",
       "    <tr>\n",
       "      <th>R3/2023</th>\n",
       "      <td>2022-08-05</td>\n",
       "      <td>13.57</td>\n",
       "      <td>13.75</td>\n",
       "      <td>0.52</td>\n",
       "      <td>12.00</td>\n",
       "      <td>14.25</td>\n",
       "      <td>39</td>\n",
       "      <td>1</td>\n",
       "      <td>2023-05-03</td>\n",
       "      <td>0.01</td>\n",
       "      <td>2,380,851,775,594,127.00</td>\n",
       "    </tr>\n",
       "    <tr>\n",
       "      <th>R4/2023</th>\n",
       "      <td>2022-08-05</td>\n",
       "      <td>13.29</td>\n",
       "      <td>13.50</td>\n",
       "      <td>0.75</td>\n",
       "      <td>11.50</td>\n",
       "      <td>14.25</td>\n",
       "      <td>39</td>\n",
       "      <td>1</td>\n",
       "      <td>2023-06-21</td>\n",
       "      <td>0.01</td>\n",
       "      <td>655,238,456,712,547,200.00</td>\n",
       "    </tr>\n",
       "    <tr>\n",
       "      <th>R5/2023</th>\n",
       "      <td>2022-08-05</td>\n",
       "      <td>12.76</td>\n",
       "      <td>13.00</td>\n",
       "      <td>0.82</td>\n",
       "      <td>10.50</td>\n",
       "      <td>14.00</td>\n",
       "      <td>39</td>\n",
       "      <td>1</td>\n",
       "      <td>2023-08-02</td>\n",
       "      <td>0.01</td>\n",
       "      <td>27,528,966,202,760,794,112.00</td>\n",
       "    </tr>\n",
       "    <tr>\n",
       "      <th>R6/2023</th>\n",
       "      <td>2022-08-05</td>\n",
       "      <td>12.23</td>\n",
       "      <td>12.50</td>\n",
       "      <td>0.85</td>\n",
       "      <td>10.25</td>\n",
       "      <td>14.00</td>\n",
       "      <td>39</td>\n",
       "      <td>1</td>\n",
       "      <td>2023-09-20</td>\n",
       "      <td>0.01</td>\n",
       "      <td>1,806,274,586,470,510,231,552.00</td>\n",
       "    </tr>\n",
       "    <tr>\n",
       "      <th>R7/2023</th>\n",
       "      <td>2022-08-05</td>\n",
       "      <td>11.65</td>\n",
       "      <td>11.75</td>\n",
       "      <td>0.84</td>\n",
       "      <td>10.00</td>\n",
       "      <td>13.50</td>\n",
       "      <td>39</td>\n",
       "      <td>1</td>\n",
       "      <td>2023-11-01</td>\n",
       "      <td>0.01</td>\n",
       "      <td>12,613,886,402,506,958,831,616.00</td>\n",
       "    </tr>\n",
       "    <tr>\n",
       "      <th>R8/2023</th>\n",
       "      <td>2022-08-05</td>\n",
       "      <td>11.07</td>\n",
       "      <td>11.00</td>\n",
       "      <td>0.92</td>\n",
       "      <td>9.25</td>\n",
       "      <td>13.00</td>\n",
       "      <td>40</td>\n",
       "      <td>1</td>\n",
       "      <td>2023-12-13</td>\n",
       "      <td>0.01</td>\n",
       "      <td>49,123,547,225,185,851,539,456.00</td>\n",
       "    </tr>\n",
       "    <tr>\n",
       "      <th>R1/2024</th>\n",
       "      <td>2022-08-05</td>\n",
       "      <td>10.40</td>\n",
       "      <td>10.38</td>\n",
       "      <td>0.93</td>\n",
       "      <td>8.50</td>\n",
       "      <td>13.00</td>\n",
       "      <td>34</td>\n",
       "      <td>1</td>\n",
       "      <td>2024-01-31</td>\n",
       "      <td>0.01</td>\n",
       "      <td>387,163,218,746,040,960,155,648.00</td>\n",
       "    </tr>\n",
       "    <tr>\n",
       "      <th>R2/2024</th>\n",
       "      <td>2022-08-05</td>\n",
       "      <td>9.81</td>\n",
       "      <td>10.00</td>\n",
       "      <td>0.89</td>\n",
       "      <td>8.00</td>\n",
       "      <td>11.50</td>\n",
       "      <td>33</td>\n",
       "      <td>1</td>\n",
       "      <td>2024-03-20</td>\n",
       "      <td>0.01</td>\n",
       "      <td>6,576,558,592,688,378,752,270,336.00</td>\n",
       "    </tr>\n",
       "    <tr>\n",
       "      <th>R3/2024</th>\n",
       "      <td>2022-08-05</td>\n",
       "      <td>9.34</td>\n",
       "      <td>9.50</td>\n",
       "      <td>0.95</td>\n",
       "      <td>7.50</td>\n",
       "      <td>11.00</td>\n",
       "      <td>33</td>\n",
       "      <td>1</td>\n",
       "      <td>2024-05-08</td>\n",
       "      <td>0.01</td>\n",
       "      <td>38,363,230,385,864,165,585,584,128.00</td>\n",
       "    </tr>\n",
       "    <tr>\n",
       "      <th>R4/2024</th>\n",
       "      <td>2022-08-05</td>\n",
       "      <td>8.87</td>\n",
       "      <td>9.00</td>\n",
       "      <td>0.89</td>\n",
       "      <td>7.00</td>\n",
       "      <td>10.50</td>\n",
       "      <td>30</td>\n",
       "      <td>1</td>\n",
       "      <td>2024-06-26</td>\n",
       "      <td>0.01</td>\n",
       "      <td>141,159,860,581,769,034,348,888,064.00</td>\n",
       "    </tr>\n",
       "    <tr>\n",
       "      <th>R5/2024</th>\n",
       "      <td>2022-08-05</td>\n",
       "      <td>8.91</td>\n",
       "      <td>9.00</td>\n",
       "      <td>0.85</td>\n",
       "      <td>7.00</td>\n",
       "      <td>10.00</td>\n",
       "      <td>14</td>\n",
       "      <td>1</td>\n",
       "      <td>2024-08-14</td>\n",
       "      <td>0.01</td>\n",
       "      <td>9,629,630,428,540,175,432,089,075,712.00</td>\n",
       "    </tr>\n",
       "  </tbody>\n",
       "</table>\n",
       "</div>"
      ],
      "text/plain": [
       "               Data  Media  Mediana  DesvioPadrao  Minimo  Maximo  \\\n",
       "Reuniao                                                             \n",
       "R6/2022  2022-08-05  13.89    13.75          0.16   13.75   14.25   \n",
       "R7/2022  2022-08-05  13.89    13.75          0.16   13.75   14.25   \n",
       "R8/2022  2022-08-05  13.88    13.75          0.17   13.50   14.25   \n",
       "R1/2023  2022-08-05  13.84    13.75          0.21   13.25   14.25   \n",
       "R2/2023  2022-08-05  13.76    13.75          0.33   12.75   14.25   \n",
       "R3/2023  2022-08-05  13.57    13.75          0.52   12.00   14.25   \n",
       "R4/2023  2022-08-05  13.29    13.50          0.75   11.50   14.25   \n",
       "R5/2023  2022-08-05  12.76    13.00          0.82   10.50   14.00   \n",
       "R6/2023  2022-08-05  12.23    12.50          0.85   10.25   14.00   \n",
       "R7/2023  2022-08-05  11.65    11.75          0.84   10.00   13.50   \n",
       "R8/2023  2022-08-05  11.07    11.00          0.92    9.25   13.00   \n",
       "R1/2024  2022-08-05  10.40    10.38          0.93    8.50   13.00   \n",
       "R2/2024  2022-08-05   9.81    10.00          0.89    8.00   11.50   \n",
       "R3/2024  2022-08-05   9.34     9.50          0.95    7.50   11.00   \n",
       "R4/2024  2022-08-05   8.87     9.00          0.89    7.00   10.50   \n",
       "R5/2024  2022-08-05   8.91     9.00          0.85    7.00   10.00   \n",
       "\n",
       "         numeroRespondentes  baseCalculo data_reuniao  mediana_mensal  \\\n",
       "Reuniao                                                                 \n",
       "R6/2022                  42            1   2022-09-21            0.01   \n",
       "R7/2022                  42            1   2022-10-26            0.01   \n",
       "R8/2022                  42            1   2022-12-07            0.01   \n",
       "R1/2023                  39            1   2023-02-01            0.01   \n",
       "R2/2023                  39            1   2023-03-22            0.01   \n",
       "R3/2023                  39            1   2023-05-03            0.01   \n",
       "R4/2023                  39            1   2023-06-21            0.01   \n",
       "R5/2023                  39            1   2023-08-02            0.01   \n",
       "R6/2023                  39            1   2023-09-20            0.01   \n",
       "R7/2023                  39            1   2023-11-01            0.01   \n",
       "R8/2023                  40            1   2023-12-13            0.01   \n",
       "R1/2024                  34            1   2024-01-31            0.01   \n",
       "R2/2024                  33            1   2024-03-20            0.01   \n",
       "R3/2024                  33            1   2024-05-08            0.01   \n",
       "R4/2024                  30            1   2024-06-26            0.01   \n",
       "R5/2024                  14            1   2024-08-14            0.01   \n",
       "\n",
       "                                      num_indice  \n",
       "Reuniao                                           \n",
       "R6/2022                                   697.62  \n",
       "R7/2022                                63,374.82  \n",
       "R8/2022                            14,194,001.70  \n",
       "R1/2023                        19,282,106,332.30  \n",
       "R2/2023                    10,635,877,694,767.55  \n",
       "R3/2023                 2,380,851,775,594,127.00  \n",
       "R4/2023               655,238,456,712,547,200.00  \n",
       "R5/2023            27,528,966,202,760,794,112.00  \n",
       "R6/2023         1,806,274,586,470,510,231,552.00  \n",
       "R7/2023        12,613,886,402,506,958,831,616.00  \n",
       "R8/2023        49,123,547,225,185,851,539,456.00  \n",
       "R1/2024       387,163,218,746,040,960,155,648.00  \n",
       "R2/2024     6,576,558,592,688,378,752,270,336.00  \n",
       "R3/2024    38,363,230,385,864,165,585,584,128.00  \n",
       "R4/2024   141,159,860,581,769,034,348,888,064.00  \n",
       "R5/2024 9,629,630,428,540,175,432,089,075,712.00  "
      ]
     },
     "execution_count": 81,
     "metadata": {},
     "output_type": "execute_result"
    }
   ],
   "source": [
    "# Expectativa mais atual\n",
    "\n",
    "df_selic_ultima=df_selic[df_selic['Data']==df_selic['Data'].max()]\n",
    "df_selic_ultima['mediana_mensal']=df_selic_ultima.apply(lambda x: (1+(x.Mediana/100))**(1/12)-1,axis=1)\n",
    "df_selic_ultima['num_indice']=1000\n",
    "pd.options.display.float_format = '{:,.2f}'.format\n",
    "#### Definir número indice  #######\n",
    "# df_selic_ultima['num_indice']=df_selic_ultima.apply(lambda x: x.num_indice*((1+x.Mediana/100)**((x.data_reuniao-datetime.datetime.today().date()).days)/(365)),axis=1)  \n",
    "# df_selic_ultima['cumsum_mediana_mensal']=df_selic_ultima['mediana_mensal'].cumsum()\n",
    "df_selic_ultima.to_csv('./output/selic_ultima_expectativa.csv')\n",
    "df_selic_ultima"
   ]
  },
  {
   "cell_type": "code",
   "execution_count": 55,
   "metadata": {},
   "outputs": [
    {
     "data": {
      "text/html": [
       "<div>\n",
       "<style scoped>\n",
       "    .dataframe tbody tr th:only-of-type {\n",
       "        vertical-align: middle;\n",
       "    }\n",
       "\n",
       "    .dataframe tbody tr th {\n",
       "        vertical-align: top;\n",
       "    }\n",
       "\n",
       "    .dataframe thead th {\n",
       "        text-align: right;\n",
       "    }\n",
       "</style>\n",
       "<table border=\"1\" class=\"dataframe\">\n",
       "  <thead>\n",
       "    <tr style=\"text-align: right;\">\n",
       "      <th></th>\n",
       "      <th>Indicador</th>\n",
       "      <th>Data</th>\n",
       "      <th>DataReferencia</th>\n",
       "      <th>Media</th>\n",
       "      <th>Mediana</th>\n",
       "      <th>Minimo</th>\n",
       "      <th>Maximo</th>\n",
       "      <th>numeroRespondentes</th>\n",
       "    </tr>\n",
       "  </thead>\n",
       "  <tbody>\n",
       "    <tr>\n",
       "      <th>407</th>\n",
       "      <td>IPCA</td>\n",
       "      <td>2022-08-05</td>\n",
       "      <td>2022-07-31</td>\n",
       "      <td>-0.6148</td>\n",
       "      <td>-0.640</td>\n",
       "      <td>-1.0600</td>\n",
       "      <td>0.6200</td>\n",
       "      <td>138</td>\n",
       "    </tr>\n",
       "    <tr>\n",
       "      <th>419</th>\n",
       "      <td>IPCA Administrados</td>\n",
       "      <td>2022-08-05</td>\n",
       "      <td>2022-07-31</td>\n",
       "      <td>-4.1348</td>\n",
       "      <td>-4.260</td>\n",
       "      <td>-4.8700</td>\n",
       "      <td>-1.2000</td>\n",
       "      <td>79</td>\n",
       "    </tr>\n",
       "    <tr>\n",
       "      <th>411</th>\n",
       "      <td>IPCA Livres</td>\n",
       "      <td>2022-08-05</td>\n",
       "      <td>2022-07-31</td>\n",
       "      <td>0.6140</td>\n",
       "      <td>0.680</td>\n",
       "      <td>-0.0250</td>\n",
       "      <td>0.8000</td>\n",
       "      <td>73</td>\n",
       "    </tr>\n",
       "    <tr>\n",
       "      <th>417</th>\n",
       "      <td>IPCA Alimentação no domicílio</td>\n",
       "      <td>2022-08-05</td>\n",
       "      <td>2022-07-31</td>\n",
       "      <td>1.2985</td>\n",
       "      <td>1.355</td>\n",
       "      <td>0.0000</td>\n",
       "      <td>2.0500</td>\n",
       "      <td>68</td>\n",
       "    </tr>\n",
       "    <tr>\n",
       "      <th>413</th>\n",
       "      <td>IPCA Serviços</td>\n",
       "      <td>2022-08-05</td>\n",
       "      <td>2022-07-31</td>\n",
       "      <td>0.6316</td>\n",
       "      <td>0.730</td>\n",
       "      <td>-0.3590</td>\n",
       "      <td>0.9100</td>\n",
       "      <td>67</td>\n",
       "    </tr>\n",
       "    <tr>\n",
       "      <th>415</th>\n",
       "      <td>IPCA Bens industrializados</td>\n",
       "      <td>2022-08-05</td>\n",
       "      <td>2022-07-31</td>\n",
       "      <td>0.2313</td>\n",
       "      <td>0.200</td>\n",
       "      <td>-0.1600</td>\n",
       "      <td>1.4730</td>\n",
       "      <td>67</td>\n",
       "    </tr>\n",
       "    <tr>\n",
       "      <th>409</th>\n",
       "      <td>Taxa de desocupação</td>\n",
       "      <td>2022-08-05</td>\n",
       "      <td>2022-07-31</td>\n",
       "      <td>9.2751</td>\n",
       "      <td>9.200</td>\n",
       "      <td>8.6000</td>\n",
       "      <td>11.0000</td>\n",
       "      <td>53</td>\n",
       "    </tr>\n",
       "    <tr>\n",
       "      <th>406</th>\n",
       "      <td>IPCA</td>\n",
       "      <td>2022-08-05</td>\n",
       "      <td>2022-07-31</td>\n",
       "      <td>-0.6034</td>\n",
       "      <td>-0.635</td>\n",
       "      <td>-0.7584</td>\n",
       "      <td>0.0784</td>\n",
       "      <td>48</td>\n",
       "    </tr>\n",
       "    <tr>\n",
       "      <th>418</th>\n",
       "      <td>IPCA Administrados</td>\n",
       "      <td>2022-08-05</td>\n",
       "      <td>2022-07-31</td>\n",
       "      <td>-4.1286</td>\n",
       "      <td>-4.260</td>\n",
       "      <td>-4.7249</td>\n",
       "      <td>-1.2000</td>\n",
       "      <td>22</td>\n",
       "    </tr>\n",
       "    <tr>\n",
       "      <th>410</th>\n",
       "      <td>IPCA Livres</td>\n",
       "      <td>2022-08-05</td>\n",
       "      <td>2022-07-31</td>\n",
       "      <td>0.6340</td>\n",
       "      <td>0.670</td>\n",
       "      <td>-0.0250</td>\n",
       "      <td>0.7514</td>\n",
       "      <td>19</td>\n",
       "    </tr>\n",
       "    <tr>\n",
       "      <th>414</th>\n",
       "      <td>IPCA Bens industrializados</td>\n",
       "      <td>2022-08-05</td>\n",
       "      <td>2022-07-31</td>\n",
       "      <td>0.2345</td>\n",
       "      <td>0.140</td>\n",
       "      <td>-0.0800</td>\n",
       "      <td>1.4730</td>\n",
       "      <td>19</td>\n",
       "    </tr>\n",
       "    <tr>\n",
       "      <th>412</th>\n",
       "      <td>IPCA Serviços</td>\n",
       "      <td>2022-08-05</td>\n",
       "      <td>2022-07-31</td>\n",
       "      <td>0.6318</td>\n",
       "      <td>0.755</td>\n",
       "      <td>-0.3590</td>\n",
       "      <td>0.8800</td>\n",
       "      <td>18</td>\n",
       "    </tr>\n",
       "    <tr>\n",
       "      <th>416</th>\n",
       "      <td>IPCA Alimentação no domicílio</td>\n",
       "      <td>2022-08-05</td>\n",
       "      <td>2022-07-31</td>\n",
       "      <td>1.3676</td>\n",
       "      <td>1.370</td>\n",
       "      <td>0.6300</td>\n",
       "      <td>2.0500</td>\n",
       "      <td>18</td>\n",
       "    </tr>\n",
       "    <tr>\n",
       "      <th>408</th>\n",
       "      <td>Taxa de desocupação</td>\n",
       "      <td>2022-08-05</td>\n",
       "      <td>2022-07-31</td>\n",
       "      <td>9.3183</td>\n",
       "      <td>9.250</td>\n",
       "      <td>8.8000</td>\n",
       "      <td>9.8200</td>\n",
       "      <td>12</td>\n",
       "    </tr>\n",
       "    <tr>\n",
       "      <th>391</th>\n",
       "      <td>IPCA</td>\n",
       "      <td>2022-08-05</td>\n",
       "      <td>2022-08-31</td>\n",
       "      <td>-0.1250</td>\n",
       "      <td>-0.150</td>\n",
       "      <td>-0.5796</td>\n",
       "      <td>0.5500</td>\n",
       "      <td>138</td>\n",
       "    </tr>\n",
       "    <tr>\n",
       "      <th>393</th>\n",
       "      <td>Câmbio</td>\n",
       "      <td>2022-08-05</td>\n",
       "      <td>2022-08-31</td>\n",
       "      <td>5.2873</td>\n",
       "      <td>5.300</td>\n",
       "      <td>4.7000</td>\n",
       "      <td>5.6784</td>\n",
       "      <td>110</td>\n",
       "    </tr>\n",
       "    <tr>\n",
       "      <th>405</th>\n",
       "      <td>IPCA Administrados</td>\n",
       "      <td>2022-08-05</td>\n",
       "      <td>2022-08-31</td>\n",
       "      <td>-1.4921</td>\n",
       "      <td>-1.590</td>\n",
       "      <td>-3.0100</td>\n",
       "      <td>-0.0500</td>\n",
       "      <td>79</td>\n",
       "    </tr>\n",
       "    <tr>\n",
       "      <th>389</th>\n",
       "      <td>IGP-M</td>\n",
       "      <td>2022-08-05</td>\n",
       "      <td>2022-08-31</td>\n",
       "      <td>0.1654</td>\n",
       "      <td>0.205</td>\n",
       "      <td>-0.8956</td>\n",
       "      <td>0.8493</td>\n",
       "      <td>74</td>\n",
       "    </tr>\n",
       "    <tr>\n",
       "      <th>397</th>\n",
       "      <td>IPCA Livres</td>\n",
       "      <td>2022-08-05</td>\n",
       "      <td>2022-08-31</td>\n",
       "      <td>0.3558</td>\n",
       "      <td>0.390</td>\n",
       "      <td>0.0000</td>\n",
       "      <td>0.6400</td>\n",
       "      <td>73</td>\n",
       "    </tr>\n",
       "    <tr>\n",
       "      <th>403</th>\n",
       "      <td>IPCA Alimentação no domicílio</td>\n",
       "      <td>2022-08-05</td>\n",
       "      <td>2022-08-31</td>\n",
       "      <td>0.5046</td>\n",
       "      <td>0.500</td>\n",
       "      <td>-0.6300</td>\n",
       "      <td>1.4000</td>\n",
       "      <td>68</td>\n",
       "    </tr>\n",
       "  </tbody>\n",
       "</table>\n",
       "</div>"
      ],
      "text/plain": [
       "                         Indicador        Data DataReferencia   Media  \\\n",
       "407                           IPCA  2022-08-05     2022-07-31 -0.6148   \n",
       "419             IPCA Administrados  2022-08-05     2022-07-31 -4.1348   \n",
       "411                    IPCA Livres  2022-08-05     2022-07-31  0.6140   \n",
       "417  IPCA Alimentação no domicílio  2022-08-05     2022-07-31  1.2985   \n",
       "413                  IPCA Serviços  2022-08-05     2022-07-31  0.6316   \n",
       "415     IPCA Bens industrializados  2022-08-05     2022-07-31  0.2313   \n",
       "409            Taxa de desocupação  2022-08-05     2022-07-31  9.2751   \n",
       "406                           IPCA  2022-08-05     2022-07-31 -0.6034   \n",
       "418             IPCA Administrados  2022-08-05     2022-07-31 -4.1286   \n",
       "410                    IPCA Livres  2022-08-05     2022-07-31  0.6340   \n",
       "414     IPCA Bens industrializados  2022-08-05     2022-07-31  0.2345   \n",
       "412                  IPCA Serviços  2022-08-05     2022-07-31  0.6318   \n",
       "416  IPCA Alimentação no domicílio  2022-08-05     2022-07-31  1.3676   \n",
       "408            Taxa de desocupação  2022-08-05     2022-07-31  9.3183   \n",
       "391                           IPCA  2022-08-05     2022-08-31 -0.1250   \n",
       "393                         Câmbio  2022-08-05     2022-08-31  5.2873   \n",
       "405             IPCA Administrados  2022-08-05     2022-08-31 -1.4921   \n",
       "389                          IGP-M  2022-08-05     2022-08-31  0.1654   \n",
       "397                    IPCA Livres  2022-08-05     2022-08-31  0.3558   \n",
       "403  IPCA Alimentação no domicílio  2022-08-05     2022-08-31  0.5046   \n",
       "\n",
       "     Mediana  Minimo   Maximo  numeroRespondentes  \n",
       "407   -0.640 -1.0600   0.6200                 138  \n",
       "419   -4.260 -4.8700  -1.2000                  79  \n",
       "411    0.680 -0.0250   0.8000                  73  \n",
       "417    1.355  0.0000   2.0500                  68  \n",
       "413    0.730 -0.3590   0.9100                  67  \n",
       "415    0.200 -0.1600   1.4730                  67  \n",
       "409    9.200  8.6000  11.0000                  53  \n",
       "406   -0.635 -0.7584   0.0784                  48  \n",
       "418   -4.260 -4.7249  -1.2000                  22  \n",
       "410    0.670 -0.0250   0.7514                  19  \n",
       "414    0.140 -0.0800   1.4730                  19  \n",
       "412    0.755 -0.3590   0.8800                  18  \n",
       "416    1.370  0.6300   2.0500                  18  \n",
       "408    9.250  8.8000   9.8200                  12  \n",
       "391   -0.150 -0.5796   0.5500                 138  \n",
       "393    5.300  4.7000   5.6784                 110  \n",
       "405   -1.590 -3.0100  -0.0500                  79  \n",
       "389    0.205 -0.8956   0.8493                  74  \n",
       "397    0.390  0.0000   0.6400                  73  \n",
       "403    0.500 -0.6300   1.4000                  68  "
      ]
     },
     "execution_count": 55,
     "metadata": {},
     "output_type": "execute_result"
    }
   ],
   "source": [
    "df_monthly=pd.read_csv('./output/monthly_data_df.csv')\n",
    "df_monthly=df_monthly.drop(columns=['Unnamed: 0'])\n",
    "\n",
    "# Parses\n",
    "df_monthly['Data']=df_monthly.apply(lambda x: datetime.datetime.strptime(x.Data,'%Y-%m-%d').date(),axis=1)\n",
    "\n",
    "df_monthly['DataReferencia']=df_monthly.apply(lambda x: datetime.datetime.strptime(x.DataReferencia,'%m/%Y').date(),axis=1)\n",
    "delta = relativedelta(months=1)\n",
    "delta_d = timedelta(days=1)\n",
    "df_monthly['DataReferencia']=df_monthly.apply(lambda x: x.DataReferencia+delta-delta_d,axis=1)\n",
    "\n",
    "df_monthly=df_monthly.sort_values(by=['Data','DataReferencia','numeroRespondentes'],ascending=[False,True,False])\n",
    "# df_monthly=df_selic[df_selic['baseCalculo']==1]           # não sei qual é a diferença da base de cálculo.\n",
    "df_monthly.head(20)"
   ]
  },
  {
   "cell_type": "code",
   "execution_count": 56,
   "metadata": {},
   "outputs": [
    {
     "data": {
      "text/plain": [
       "array(['IPCA', 'IPCA Administrados', 'IPCA Livres',\n",
       "       'IPCA Alimentação no domicílio', 'IPCA Serviços',\n",
       "       'IPCA Bens industrializados', 'Taxa de desocupação', 'Câmbio',\n",
       "       'IGP-M'], dtype=object)"
      ]
     },
     "execution_count": 56,
     "metadata": {},
     "output_type": "execute_result"
    }
   ],
   "source": [
    "df_monthly['Indicador'].unique()"
   ]
  },
  {
   "cell_type": "code",
   "execution_count": 57,
   "metadata": {},
   "outputs": [
    {
     "data": {
      "text/plain": [
       "'./output/tx_desocupacao_forcast.html'"
      ]
     },
     "execution_count": 57,
     "metadata": {},
     "output_type": "execute_result"
    }
   ],
   "source": [
    "# Gráfico iterativo utilizando o plotly\n",
    "fig=px.line(df_monthly[df_monthly['Indicador']=='IPCA'],x='DataReferencia',y='Mediana', color='Data')\n",
    "# Gerando arquivo com o resultado\n",
    "plotly.offline.plot(fig, show_link = True,filename=f'./output/IPCA_forcast.html')\n",
    "# fig.show()\n",
    "\n",
    "# Gráfico iterativo utilizando o plotly\n",
    "fig=px.line(df_monthly[df_monthly['Indicador']=='IGP-M'],x='DataReferencia',y='Mediana', color='Data')\n",
    "# Gerando arquivo com o resultado\n",
    "plotly.offline.plot(fig, show_link = True,filename=f'./output/IGPM_forcast.html')\n",
    "# fig.show()\n",
    "\n",
    "# Gráfico iterativo utilizando o plotly\n",
    "fig=px.line(df_monthly[df_monthly['Indicador']=='Câmbio'],x='DataReferencia',y='Mediana', color='Data')\n",
    "# Gerando arquivo com o resultado\n",
    "plotly.offline.plot(fig, show_link = True,filename=f'./output/cambio_forcast.html')\n",
    "# fig.show()\n",
    "\n",
    "# Gráfico iterativo utilizando o plotly\n",
    "fig=px.line(df_monthly[df_monthly['Indicador']=='Taxa de desocupação'],x='DataReferencia',y='Mediana', color='Data')\n",
    "# Gerando arquivo com o resultado\n",
    "plotly.offline.plot(fig, show_link = True,filename=f'./output/tx_desocupacao_forcast.html')\n",
    "# fig.show()"
   ]
  },
  {
   "cell_type": "code",
   "execution_count": 58,
   "metadata": {},
   "outputs": [
    {
     "data": {
      "text/html": [
       "<div>\n",
       "<style scoped>\n",
       "    .dataframe tbody tr th:only-of-type {\n",
       "        vertical-align: middle;\n",
       "    }\n",
       "\n",
       "    .dataframe tbody tr th {\n",
       "        vertical-align: top;\n",
       "    }\n",
       "\n",
       "    .dataframe thead th {\n",
       "        text-align: right;\n",
       "    }\n",
       "</style>\n",
       "<table border=\"1\" class=\"dataframe\">\n",
       "  <thead>\n",
       "    <tr style=\"text-align: right;\">\n",
       "      <th></th>\n",
       "      <th>Media</th>\n",
       "      <th>Mediana</th>\n",
       "      <th>Minimo</th>\n",
       "      <th>Maximo</th>\n",
       "      <th>numeroRespondentes</th>\n",
       "      <th>cumsum_mediana</th>\n",
       "    </tr>\n",
       "    <tr>\n",
       "      <th>DataReferencia</th>\n",
       "      <th></th>\n",
       "      <th></th>\n",
       "      <th></th>\n",
       "      <th></th>\n",
       "      <th></th>\n",
       "      <th></th>\n",
       "    </tr>\n",
       "  </thead>\n",
       "  <tbody>\n",
       "    <tr>\n",
       "      <th>2022-07-31</th>\n",
       "      <td>-0.60910</td>\n",
       "      <td>-0.63750</td>\n",
       "      <td>-0.90920</td>\n",
       "      <td>0.34920</td>\n",
       "      <td>93.0</td>\n",
       "      <td>-0.63750</td>\n",
       "    </tr>\n",
       "    <tr>\n",
       "      <th>2022-08-31</th>\n",
       "      <td>-0.13695</td>\n",
       "      <td>-0.15000</td>\n",
       "      <td>-0.57960</td>\n",
       "      <td>0.45000</td>\n",
       "      <td>93.0</td>\n",
       "      <td>-0.78750</td>\n",
       "    </tr>\n",
       "    <tr>\n",
       "      <th>2022-09-30</th>\n",
       "      <td>0.48935</td>\n",
       "      <td>0.50000</td>\n",
       "      <td>0.13600</td>\n",
       "      <td>0.71000</td>\n",
       "      <td>93.0</td>\n",
       "      <td>-0.28750</td>\n",
       "    </tr>\n",
       "    <tr>\n",
       "      <th>2022-10-31</th>\n",
       "      <td>0.55110</td>\n",
       "      <td>0.53745</td>\n",
       "      <td>0.24510</td>\n",
       "      <td>0.84000</td>\n",
       "      <td>92.0</td>\n",
       "      <td>0.24995</td>\n",
       "    </tr>\n",
       "    <tr>\n",
       "      <th>2022-11-30</th>\n",
       "      <td>0.53610</td>\n",
       "      <td>0.53525</td>\n",
       "      <td>0.15000</td>\n",
       "      <td>0.79000</td>\n",
       "      <td>92.0</td>\n",
       "      <td>0.78520</td>\n",
       "    </tr>\n",
       "    <tr>\n",
       "      <th>2022-12-31</th>\n",
       "      <td>0.73280</td>\n",
       "      <td>0.74775</td>\n",
       "      <td>0.10040</td>\n",
       "      <td>1.14500</td>\n",
       "      <td>92.0</td>\n",
       "      <td>1.53295</td>\n",
       "    </tr>\n",
       "    <tr>\n",
       "      <th>2023-01-31</th>\n",
       "      <td>0.78405</td>\n",
       "      <td>0.69500</td>\n",
       "      <td>0.26900</td>\n",
       "      <td>1.49500</td>\n",
       "      <td>89.5</td>\n",
       "      <td>2.22795</td>\n",
       "    </tr>\n",
       "    <tr>\n",
       "      <th>2023-02-28</th>\n",
       "      <td>0.66630</td>\n",
       "      <td>0.67500</td>\n",
       "      <td>0.22500</td>\n",
       "      <td>1.17000</td>\n",
       "      <td>89.5</td>\n",
       "      <td>2.90295</td>\n",
       "    </tr>\n",
       "    <tr>\n",
       "      <th>2023-03-31</th>\n",
       "      <td>0.48960</td>\n",
       "      <td>0.48000</td>\n",
       "      <td>0.02500</td>\n",
       "      <td>1.31280</td>\n",
       "      <td>89.5</td>\n",
       "      <td>3.38295</td>\n",
       "    </tr>\n",
       "    <tr>\n",
       "      <th>2023-04-30</th>\n",
       "      <td>0.45255</td>\n",
       "      <td>0.44500</td>\n",
       "      <td>0.11000</td>\n",
       "      <td>0.79000</td>\n",
       "      <td>89.5</td>\n",
       "      <td>3.82795</td>\n",
       "    </tr>\n",
       "    <tr>\n",
       "      <th>2023-05-31</th>\n",
       "      <td>0.33155</td>\n",
       "      <td>0.34295</td>\n",
       "      <td>0.03000</td>\n",
       "      <td>0.72200</td>\n",
       "      <td>89.5</td>\n",
       "      <td>4.17090</td>\n",
       "    </tr>\n",
       "    <tr>\n",
       "      <th>2023-06-30</th>\n",
       "      <td>0.31660</td>\n",
       "      <td>0.31250</td>\n",
       "      <td>0.06015</td>\n",
       "      <td>0.60070</td>\n",
       "      <td>89.5</td>\n",
       "      <td>4.48340</td>\n",
       "    </tr>\n",
       "    <tr>\n",
       "      <th>2023-07-31</th>\n",
       "      <td>0.32655</td>\n",
       "      <td>0.30000</td>\n",
       "      <td>0.05920</td>\n",
       "      <td>0.67000</td>\n",
       "      <td>89.5</td>\n",
       "      <td>4.78340</td>\n",
       "    </tr>\n",
       "    <tr>\n",
       "      <th>2023-08-31</th>\n",
       "      <td>0.25075</td>\n",
       "      <td>0.25100</td>\n",
       "      <td>-0.02000</td>\n",
       "      <td>0.54400</td>\n",
       "      <td>89.5</td>\n",
       "      <td>5.03440</td>\n",
       "    </tr>\n",
       "    <tr>\n",
       "      <th>2023-09-30</th>\n",
       "      <td>0.32210</td>\n",
       "      <td>0.32250</td>\n",
       "      <td>-0.18400</td>\n",
       "      <td>0.52500</td>\n",
       "      <td>89.5</td>\n",
       "      <td>5.35690</td>\n",
       "    </tr>\n",
       "    <tr>\n",
       "      <th>2023-10-31</th>\n",
       "      <td>0.39430</td>\n",
       "      <td>0.40500</td>\n",
       "      <td>-0.10400</td>\n",
       "      <td>0.76000</td>\n",
       "      <td>89.5</td>\n",
       "      <td>5.76190</td>\n",
       "    </tr>\n",
       "    <tr>\n",
       "      <th>2023-11-30</th>\n",
       "      <td>0.36140</td>\n",
       "      <td>0.38000</td>\n",
       "      <td>-0.10400</td>\n",
       "      <td>0.66500</td>\n",
       "      <td>89.5</td>\n",
       "      <td>6.14190</td>\n",
       "    </tr>\n",
       "    <tr>\n",
       "      <th>2023-12-31</th>\n",
       "      <td>0.52835</td>\n",
       "      <td>0.52790</td>\n",
       "      <td>-0.15370</td>\n",
       "      <td>1.18445</td>\n",
       "      <td>89.5</td>\n",
       "      <td>6.66980</td>\n",
       "    </tr>\n",
       "    <tr>\n",
       "      <th>2024-01-31</th>\n",
       "      <td>0.40860</td>\n",
       "      <td>0.38160</td>\n",
       "      <td>0.00355</td>\n",
       "      <td>0.82500</td>\n",
       "      <td>59.0</td>\n",
       "      <td>7.05140</td>\n",
       "    </tr>\n",
       "    <tr>\n",
       "      <th>2024-02-29</th>\n",
       "      <td>0.42430</td>\n",
       "      <td>0.39500</td>\n",
       "      <td>0.16000</td>\n",
       "      <td>0.80000</td>\n",
       "      <td>58.5</td>\n",
       "      <td>7.44640</td>\n",
       "    </tr>\n",
       "    <tr>\n",
       "      <th>2024-03-31</th>\n",
       "      <td>0.34155</td>\n",
       "      <td>0.30295</td>\n",
       "      <td>0.02500</td>\n",
       "      <td>0.95620</td>\n",
       "      <td>58.0</td>\n",
       "      <td>7.74935</td>\n",
       "    </tr>\n",
       "    <tr>\n",
       "      <th>2024-04-30</th>\n",
       "      <td>0.33145</td>\n",
       "      <td>0.31500</td>\n",
       "      <td>0.07000</td>\n",
       "      <td>0.69000</td>\n",
       "      <td>57.0</td>\n",
       "      <td>8.06435</td>\n",
       "    </tr>\n",
       "    <tr>\n",
       "      <th>2024-05-31</th>\n",
       "      <td>0.24100</td>\n",
       "      <td>0.23000</td>\n",
       "      <td>-0.12000</td>\n",
       "      <td>0.51000</td>\n",
       "      <td>56.0</td>\n",
       "      <td>8.29435</td>\n",
       "    </tr>\n",
       "    <tr>\n",
       "      <th>2024-06-30</th>\n",
       "      <td>0.23670</td>\n",
       "      <td>0.21500</td>\n",
       "      <td>0.01280</td>\n",
       "      <td>0.55000</td>\n",
       "      <td>56.0</td>\n",
       "      <td>8.50935</td>\n",
       "    </tr>\n",
       "    <tr>\n",
       "      <th>2024-07-31</th>\n",
       "      <td>0.21190</td>\n",
       "      <td>0.21990</td>\n",
       "      <td>-0.01410</td>\n",
       "      <td>0.47500</td>\n",
       "      <td>50.5</td>\n",
       "      <td>8.72925</td>\n",
       "    </tr>\n",
       "  </tbody>\n",
       "</table>\n",
       "</div>"
      ],
      "text/plain": [
       "                  Media  Mediana   Minimo   Maximo  numeroRespondentes  \\\n",
       "DataReferencia                                                           \n",
       "2022-07-31     -0.60910 -0.63750 -0.90920  0.34920                93.0   \n",
       "2022-08-31     -0.13695 -0.15000 -0.57960  0.45000                93.0   \n",
       "2022-09-30      0.48935  0.50000  0.13600  0.71000                93.0   \n",
       "2022-10-31      0.55110  0.53745  0.24510  0.84000                92.0   \n",
       "2022-11-30      0.53610  0.53525  0.15000  0.79000                92.0   \n",
       "2022-12-31      0.73280  0.74775  0.10040  1.14500                92.0   \n",
       "2023-01-31      0.78405  0.69500  0.26900  1.49500                89.5   \n",
       "2023-02-28      0.66630  0.67500  0.22500  1.17000                89.5   \n",
       "2023-03-31      0.48960  0.48000  0.02500  1.31280                89.5   \n",
       "2023-04-30      0.45255  0.44500  0.11000  0.79000                89.5   \n",
       "2023-05-31      0.33155  0.34295  0.03000  0.72200                89.5   \n",
       "2023-06-30      0.31660  0.31250  0.06015  0.60070                89.5   \n",
       "2023-07-31      0.32655  0.30000  0.05920  0.67000                89.5   \n",
       "2023-08-31      0.25075  0.25100 -0.02000  0.54400                89.5   \n",
       "2023-09-30      0.32210  0.32250 -0.18400  0.52500                89.5   \n",
       "2023-10-31      0.39430  0.40500 -0.10400  0.76000                89.5   \n",
       "2023-11-30      0.36140  0.38000 -0.10400  0.66500                89.5   \n",
       "2023-12-31      0.52835  0.52790 -0.15370  1.18445                89.5   \n",
       "2024-01-31      0.40860  0.38160  0.00355  0.82500                59.0   \n",
       "2024-02-29      0.42430  0.39500  0.16000  0.80000                58.5   \n",
       "2024-03-31      0.34155  0.30295  0.02500  0.95620                58.0   \n",
       "2024-04-30      0.33145  0.31500  0.07000  0.69000                57.0   \n",
       "2024-05-31      0.24100  0.23000 -0.12000  0.51000                56.0   \n",
       "2024-06-30      0.23670  0.21500  0.01280  0.55000                56.0   \n",
       "2024-07-31      0.21190  0.21990 -0.01410  0.47500                50.5   \n",
       "\n",
       "                cumsum_mediana  \n",
       "DataReferencia                  \n",
       "2022-07-31            -0.63750  \n",
       "2022-08-31            -0.78750  \n",
       "2022-09-30            -0.28750  \n",
       "2022-10-31             0.24995  \n",
       "2022-11-30             0.78520  \n",
       "2022-12-31             1.53295  \n",
       "2023-01-31             2.22795  \n",
       "2023-02-28             2.90295  \n",
       "2023-03-31             3.38295  \n",
       "2023-04-30             3.82795  \n",
       "2023-05-31             4.17090  \n",
       "2023-06-30             4.48340  \n",
       "2023-07-31             4.78340  \n",
       "2023-08-31             5.03440  \n",
       "2023-09-30             5.35690  \n",
       "2023-10-31             5.76190  \n",
       "2023-11-30             6.14190  \n",
       "2023-12-31             6.66980  \n",
       "2024-01-31             7.05140  \n",
       "2024-02-29             7.44640  \n",
       "2024-03-31             7.74935  \n",
       "2024-04-30             8.06435  \n",
       "2024-05-31             8.29435  \n",
       "2024-06-30             8.50935  \n",
       "2024-07-31             8.72925  "
      ]
     },
     "execution_count": 58,
     "metadata": {},
     "output_type": "execute_result"
    }
   ],
   "source": [
    "# Expectativa mais atual para IPCA\n",
    "df_ipca=df_monthly[df_monthly['Indicador']=='IPCA']\n",
    "\n",
    "data_previsao=df_ipca['Data'].max()\n",
    "df_ipca_ultima=df_ipca[df_ipca['Data']==data_previsao]\n",
    "df_ipca_ultima.to_csv('./output/ipca_ultima_expectativa.csv')\n",
    "df_ipca_ultima=df_ipca_ultima.groupby(['DataReferencia']).mean() # adotado média \n",
    "\n",
    "df_ipca_ultima['cumsum_mediana'] = df_ipca_ultima['Mediana'].cumsum()\n",
    "#cumsum()-> soma acumulada de uma lista ou array termo a termo\n",
    "#groupby -> delimita em grupos separados para análise\n",
    "# df['Adjusted Quantity'] = df.groupby('ação_ref')['Adjusted Quantity'].cumsum()\n",
    "\n",
    "df_ipca_ultima"
   ]
  },
  {
   "cell_type": "code",
   "execution_count": 59,
   "metadata": {},
   "outputs": [],
   "source": [
    "# from matplotlib.pyplot import figure\n",
    "# figure(figsize=(10, 5), dpi=120)\n",
    "# plt.plot(df_ipca_ultima.index, df_ipca_ultima['Mediana'], label=f'ipca_expectaiva_{data_previsao}')\n",
    "# plt.xticks(rotation=90)\n",
    "# plt.legend()\n",
    "# plt.show()\n"
   ]
  },
  {
   "cell_type": "code",
   "execution_count": 60,
   "metadata": {},
   "outputs": [
    {
     "data": {
      "text/html": [
       "<div>\n",
       "<style scoped>\n",
       "    .dataframe tbody tr th:only-of-type {\n",
       "        vertical-align: middle;\n",
       "    }\n",
       "\n",
       "    .dataframe tbody tr th {\n",
       "        vertical-align: top;\n",
       "    }\n",
       "\n",
       "    .dataframe thead th {\n",
       "        text-align: right;\n",
       "    }\n",
       "</style>\n",
       "<table border=\"1\" class=\"dataframe\">\n",
       "  <thead>\n",
       "    <tr style=\"text-align: right;\">\n",
       "      <th></th>\n",
       "      <th>DataReferencia</th>\n",
       "      <th>Media</th>\n",
       "      <th>Mediana</th>\n",
       "      <th>Minimo</th>\n",
       "      <th>Maximo</th>\n",
       "      <th>numeroRespondentes</th>\n",
       "      <th>cumsum_mediana</th>\n",
       "    </tr>\n",
       "  </thead>\n",
       "  <tbody>\n",
       "    <tr>\n",
       "      <th>0</th>\n",
       "      <td>2022-08-31</td>\n",
       "      <td>-0.13695</td>\n",
       "      <td>-0.15000</td>\n",
       "      <td>-0.57960</td>\n",
       "      <td>0.45000</td>\n",
       "      <td>93.0</td>\n",
       "      <td>-0.78750</td>\n",
       "    </tr>\n",
       "    <tr>\n",
       "      <th>1</th>\n",
       "      <td>2022-09-30</td>\n",
       "      <td>0.48935</td>\n",
       "      <td>0.50000</td>\n",
       "      <td>0.13600</td>\n",
       "      <td>0.71000</td>\n",
       "      <td>93.0</td>\n",
       "      <td>-0.28750</td>\n",
       "    </tr>\n",
       "    <tr>\n",
       "      <th>2</th>\n",
       "      <td>2022-10-31</td>\n",
       "      <td>0.55110</td>\n",
       "      <td>0.53745</td>\n",
       "      <td>0.24510</td>\n",
       "      <td>0.84000</td>\n",
       "      <td>92.0</td>\n",
       "      <td>0.24995</td>\n",
       "    </tr>\n",
       "    <tr>\n",
       "      <th>3</th>\n",
       "      <td>2022-11-30</td>\n",
       "      <td>0.53610</td>\n",
       "      <td>0.53525</td>\n",
       "      <td>0.15000</td>\n",
       "      <td>0.79000</td>\n",
       "      <td>92.0</td>\n",
       "      <td>0.78520</td>\n",
       "    </tr>\n",
       "    <tr>\n",
       "      <th>4</th>\n",
       "      <td>2022-12-31</td>\n",
       "      <td>0.73280</td>\n",
       "      <td>0.74775</td>\n",
       "      <td>0.10040</td>\n",
       "      <td>1.14500</td>\n",
       "      <td>92.0</td>\n",
       "      <td>1.53295</td>\n",
       "    </tr>\n",
       "    <tr>\n",
       "      <th>5</th>\n",
       "      <td>2023-01-31</td>\n",
       "      <td>0.78405</td>\n",
       "      <td>0.69500</td>\n",
       "      <td>0.26900</td>\n",
       "      <td>1.49500</td>\n",
       "      <td>89.5</td>\n",
       "      <td>2.22795</td>\n",
       "    </tr>\n",
       "    <tr>\n",
       "      <th>6</th>\n",
       "      <td>2023-02-28</td>\n",
       "      <td>0.66630</td>\n",
       "      <td>0.67500</td>\n",
       "      <td>0.22500</td>\n",
       "      <td>1.17000</td>\n",
       "      <td>89.5</td>\n",
       "      <td>2.90295</td>\n",
       "    </tr>\n",
       "    <tr>\n",
       "      <th>7</th>\n",
       "      <td>2023-03-31</td>\n",
       "      <td>0.48960</td>\n",
       "      <td>0.48000</td>\n",
       "      <td>0.02500</td>\n",
       "      <td>1.31280</td>\n",
       "      <td>89.5</td>\n",
       "      <td>3.38295</td>\n",
       "    </tr>\n",
       "    <tr>\n",
       "      <th>8</th>\n",
       "      <td>2023-04-30</td>\n",
       "      <td>0.45255</td>\n",
       "      <td>0.44500</td>\n",
       "      <td>0.11000</td>\n",
       "      <td>0.79000</td>\n",
       "      <td>89.5</td>\n",
       "      <td>3.82795</td>\n",
       "    </tr>\n",
       "    <tr>\n",
       "      <th>9</th>\n",
       "      <td>2023-05-31</td>\n",
       "      <td>0.33155</td>\n",
       "      <td>0.34295</td>\n",
       "      <td>0.03000</td>\n",
       "      <td>0.72200</td>\n",
       "      <td>89.5</td>\n",
       "      <td>4.17090</td>\n",
       "    </tr>\n",
       "    <tr>\n",
       "      <th>10</th>\n",
       "      <td>2023-06-30</td>\n",
       "      <td>0.31660</td>\n",
       "      <td>0.31250</td>\n",
       "      <td>0.06015</td>\n",
       "      <td>0.60070</td>\n",
       "      <td>89.5</td>\n",
       "      <td>4.48340</td>\n",
       "    </tr>\n",
       "    <tr>\n",
       "      <th>11</th>\n",
       "      <td>2023-07-31</td>\n",
       "      <td>0.32655</td>\n",
       "      <td>0.30000</td>\n",
       "      <td>0.05920</td>\n",
       "      <td>0.67000</td>\n",
       "      <td>89.5</td>\n",
       "      <td>4.78340</td>\n",
       "    </tr>\n",
       "    <tr>\n",
       "      <th>12</th>\n",
       "      <td>2023-08-31</td>\n",
       "      <td>0.25075</td>\n",
       "      <td>0.25100</td>\n",
       "      <td>-0.02000</td>\n",
       "      <td>0.54400</td>\n",
       "      <td>89.5</td>\n",
       "      <td>5.03440</td>\n",
       "    </tr>\n",
       "    <tr>\n",
       "      <th>13</th>\n",
       "      <td>2023-09-30</td>\n",
       "      <td>0.32210</td>\n",
       "      <td>0.32250</td>\n",
       "      <td>-0.18400</td>\n",
       "      <td>0.52500</td>\n",
       "      <td>89.5</td>\n",
       "      <td>5.35690</td>\n",
       "    </tr>\n",
       "    <tr>\n",
       "      <th>14</th>\n",
       "      <td>2023-10-31</td>\n",
       "      <td>0.39430</td>\n",
       "      <td>0.40500</td>\n",
       "      <td>-0.10400</td>\n",
       "      <td>0.76000</td>\n",
       "      <td>89.5</td>\n",
       "      <td>5.76190</td>\n",
       "    </tr>\n",
       "    <tr>\n",
       "      <th>15</th>\n",
       "      <td>2023-11-30</td>\n",
       "      <td>0.36140</td>\n",
       "      <td>0.38000</td>\n",
       "      <td>-0.10400</td>\n",
       "      <td>0.66500</td>\n",
       "      <td>89.5</td>\n",
       "      <td>6.14190</td>\n",
       "    </tr>\n",
       "    <tr>\n",
       "      <th>16</th>\n",
       "      <td>2023-12-31</td>\n",
       "      <td>0.52835</td>\n",
       "      <td>0.52790</td>\n",
       "      <td>-0.15370</td>\n",
       "      <td>1.18445</td>\n",
       "      <td>89.5</td>\n",
       "      <td>6.66980</td>\n",
       "    </tr>\n",
       "    <tr>\n",
       "      <th>17</th>\n",
       "      <td>2024-01-31</td>\n",
       "      <td>0.40860</td>\n",
       "      <td>0.38160</td>\n",
       "      <td>0.00355</td>\n",
       "      <td>0.82500</td>\n",
       "      <td>59.0</td>\n",
       "      <td>7.05140</td>\n",
       "    </tr>\n",
       "    <tr>\n",
       "      <th>18</th>\n",
       "      <td>2024-02-29</td>\n",
       "      <td>0.42430</td>\n",
       "      <td>0.39500</td>\n",
       "      <td>0.16000</td>\n",
       "      <td>0.80000</td>\n",
       "      <td>58.5</td>\n",
       "      <td>7.44640</td>\n",
       "    </tr>\n",
       "    <tr>\n",
       "      <th>19</th>\n",
       "      <td>2024-03-31</td>\n",
       "      <td>0.34155</td>\n",
       "      <td>0.30295</td>\n",
       "      <td>0.02500</td>\n",
       "      <td>0.95620</td>\n",
       "      <td>58.0</td>\n",
       "      <td>7.74935</td>\n",
       "    </tr>\n",
       "    <tr>\n",
       "      <th>20</th>\n",
       "      <td>2024-04-30</td>\n",
       "      <td>0.33145</td>\n",
       "      <td>0.31500</td>\n",
       "      <td>0.07000</td>\n",
       "      <td>0.69000</td>\n",
       "      <td>57.0</td>\n",
       "      <td>8.06435</td>\n",
       "    </tr>\n",
       "    <tr>\n",
       "      <th>21</th>\n",
       "      <td>2024-05-31</td>\n",
       "      <td>0.24100</td>\n",
       "      <td>0.23000</td>\n",
       "      <td>-0.12000</td>\n",
       "      <td>0.51000</td>\n",
       "      <td>56.0</td>\n",
       "      <td>8.29435</td>\n",
       "    </tr>\n",
       "    <tr>\n",
       "      <th>22</th>\n",
       "      <td>2024-06-30</td>\n",
       "      <td>0.23670</td>\n",
       "      <td>0.21500</td>\n",
       "      <td>0.01280</td>\n",
       "      <td>0.55000</td>\n",
       "      <td>56.0</td>\n",
       "      <td>8.50935</td>\n",
       "    </tr>\n",
       "    <tr>\n",
       "      <th>23</th>\n",
       "      <td>2024-07-31</td>\n",
       "      <td>0.21190</td>\n",
       "      <td>0.21990</td>\n",
       "      <td>-0.01410</td>\n",
       "      <td>0.47500</td>\n",
       "      <td>50.5</td>\n",
       "      <td>8.72925</td>\n",
       "    </tr>\n",
       "  </tbody>\n",
       "</table>\n",
       "</div>"
      ],
      "text/plain": [
       "   DataReferencia    Media  Mediana   Minimo   Maximo  numeroRespondentes  \\\n",
       "0      2022-08-31 -0.13695 -0.15000 -0.57960  0.45000                93.0   \n",
       "1      2022-09-30  0.48935  0.50000  0.13600  0.71000                93.0   \n",
       "2      2022-10-31  0.55110  0.53745  0.24510  0.84000                92.0   \n",
       "3      2022-11-30  0.53610  0.53525  0.15000  0.79000                92.0   \n",
       "4      2022-12-31  0.73280  0.74775  0.10040  1.14500                92.0   \n",
       "5      2023-01-31  0.78405  0.69500  0.26900  1.49500                89.5   \n",
       "6      2023-02-28  0.66630  0.67500  0.22500  1.17000                89.5   \n",
       "7      2023-03-31  0.48960  0.48000  0.02500  1.31280                89.5   \n",
       "8      2023-04-30  0.45255  0.44500  0.11000  0.79000                89.5   \n",
       "9      2023-05-31  0.33155  0.34295  0.03000  0.72200                89.5   \n",
       "10     2023-06-30  0.31660  0.31250  0.06015  0.60070                89.5   \n",
       "11     2023-07-31  0.32655  0.30000  0.05920  0.67000                89.5   \n",
       "12     2023-08-31  0.25075  0.25100 -0.02000  0.54400                89.5   \n",
       "13     2023-09-30  0.32210  0.32250 -0.18400  0.52500                89.5   \n",
       "14     2023-10-31  0.39430  0.40500 -0.10400  0.76000                89.5   \n",
       "15     2023-11-30  0.36140  0.38000 -0.10400  0.66500                89.5   \n",
       "16     2023-12-31  0.52835  0.52790 -0.15370  1.18445                89.5   \n",
       "17     2024-01-31  0.40860  0.38160  0.00355  0.82500                59.0   \n",
       "18     2024-02-29  0.42430  0.39500  0.16000  0.80000                58.5   \n",
       "19     2024-03-31  0.34155  0.30295  0.02500  0.95620                58.0   \n",
       "20     2024-04-30  0.33145  0.31500  0.07000  0.69000                57.0   \n",
       "21     2024-05-31  0.24100  0.23000 -0.12000  0.51000                56.0   \n",
       "22     2024-06-30  0.23670  0.21500  0.01280  0.55000                56.0   \n",
       "23     2024-07-31  0.21190  0.21990 -0.01410  0.47500                50.5   \n",
       "\n",
       "    cumsum_mediana  \n",
       "0         -0.78750  \n",
       "1         -0.28750  \n",
       "2          0.24995  \n",
       "3          0.78520  \n",
       "4          1.53295  \n",
       "5          2.22795  \n",
       "6          2.90295  \n",
       "7          3.38295  \n",
       "8          3.82795  \n",
       "9          4.17090  \n",
       "10         4.48340  \n",
       "11         4.78340  \n",
       "12         5.03440  \n",
       "13         5.35690  \n",
       "14         5.76190  \n",
       "15         6.14190  \n",
       "16         6.66980  \n",
       "17         7.05140  \n",
       "18         7.44640  \n",
       "19         7.74935  \n",
       "20         8.06435  \n",
       "21         8.29435  \n",
       "22         8.50935  \n",
       "23         8.72925  "
      ]
     },
     "execution_count": 60,
     "metadata": {},
     "output_type": "execute_result"
    }
   ],
   "source": [
    "data_hoje=datetime.datetime.today().date()\n",
    "df_ipca_from_now=df_ipca_ultima[df_ipca_ultima.index>=data_hoje]\n",
    "df_ipca_from_now=df_ipca_from_now.reset_index()\n",
    "df_ipca_from_now"
   ]
  },
  {
   "cell_type": "code",
   "execution_count": 61,
   "metadata": {},
   "outputs": [
    {
     "data": {
      "application/vnd.plotly.v1+json": {
       "config": {
        "plotlyServerURL": "https://plot.ly"
       },
       "data": [
        {
         "hovertemplate": "DataReferencia=%{x}<br>cumsum_mediana=%{y}<extra></extra>",
         "legendgroup": "",
         "line": {
          "color": "#636efa",
          "dash": "solid"
         },
         "marker": {
          "symbol": "circle"
         },
         "mode": "lines",
         "name": "",
         "orientation": "v",
         "showlegend": false,
         "type": "scatter",
         "x": [
          "2022-08-31",
          "2022-09-30",
          "2022-10-31",
          "2022-11-30",
          "2022-12-31",
          "2023-01-31",
          "2023-02-28",
          "2023-03-31",
          "2023-04-30",
          "2023-05-31",
          "2023-06-30",
          "2023-07-31",
          "2023-08-31",
          "2023-09-30",
          "2023-10-31",
          "2023-11-30",
          "2023-12-31",
          "2024-01-31",
          "2024-02-29",
          "2024-03-31",
          "2024-04-30",
          "2024-05-31",
          "2024-06-30",
          "2024-07-31"
         ],
         "xaxis": "x",
         "y": [
          -0.7875,
          -0.2875,
          0.24995,
          0.7852,
          1.53295,
          2.22795,
          2.9029499999999997,
          3.3829499999999997,
          3.8279499999999995,
          4.1709,
          4.4834,
          4.783399999999999,
          5.0344,
          5.3568999999999996,
          5.7619,
          6.1419,
          6.6697999999999995,
          7.051399999999999,
          7.446399999999999,
          7.749349999999999,
          8.06435,
          8.29435,
          8.50935,
          8.72925
         ],
         "yaxis": "y"
        }
       ],
       "layout": {
        "legend": {
         "tracegroupgap": 0
        },
        "margin": {
         "t": 60
        },
        "template": {
         "data": {
          "bar": [
           {
            "error_x": {
             "color": "#2a3f5f"
            },
            "error_y": {
             "color": "#2a3f5f"
            },
            "marker": {
             "line": {
              "color": "#E5ECF6",
              "width": 0.5
             },
             "pattern": {
              "fillmode": "overlay",
              "size": 10,
              "solidity": 0.2
             }
            },
            "type": "bar"
           }
          ],
          "barpolar": [
           {
            "marker": {
             "line": {
              "color": "#E5ECF6",
              "width": 0.5
             },
             "pattern": {
              "fillmode": "overlay",
              "size": 10,
              "solidity": 0.2
             }
            },
            "type": "barpolar"
           }
          ],
          "carpet": [
           {
            "aaxis": {
             "endlinecolor": "#2a3f5f",
             "gridcolor": "white",
             "linecolor": "white",
             "minorgridcolor": "white",
             "startlinecolor": "#2a3f5f"
            },
            "baxis": {
             "endlinecolor": "#2a3f5f",
             "gridcolor": "white",
             "linecolor": "white",
             "minorgridcolor": "white",
             "startlinecolor": "#2a3f5f"
            },
            "type": "carpet"
           }
          ],
          "choropleth": [
           {
            "colorbar": {
             "outlinewidth": 0,
             "ticks": ""
            },
            "type": "choropleth"
           }
          ],
          "contour": [
           {
            "colorbar": {
             "outlinewidth": 0,
             "ticks": ""
            },
            "colorscale": [
             [
              0,
              "#0d0887"
             ],
             [
              0.1111111111111111,
              "#46039f"
             ],
             [
              0.2222222222222222,
              "#7201a8"
             ],
             [
              0.3333333333333333,
              "#9c179e"
             ],
             [
              0.4444444444444444,
              "#bd3786"
             ],
             [
              0.5555555555555556,
              "#d8576b"
             ],
             [
              0.6666666666666666,
              "#ed7953"
             ],
             [
              0.7777777777777778,
              "#fb9f3a"
             ],
             [
              0.8888888888888888,
              "#fdca26"
             ],
             [
              1,
              "#f0f921"
             ]
            ],
            "type": "contour"
           }
          ],
          "contourcarpet": [
           {
            "colorbar": {
             "outlinewidth": 0,
             "ticks": ""
            },
            "type": "contourcarpet"
           }
          ],
          "heatmap": [
           {
            "colorbar": {
             "outlinewidth": 0,
             "ticks": ""
            },
            "colorscale": [
             [
              0,
              "#0d0887"
             ],
             [
              0.1111111111111111,
              "#46039f"
             ],
             [
              0.2222222222222222,
              "#7201a8"
             ],
             [
              0.3333333333333333,
              "#9c179e"
             ],
             [
              0.4444444444444444,
              "#bd3786"
             ],
             [
              0.5555555555555556,
              "#d8576b"
             ],
             [
              0.6666666666666666,
              "#ed7953"
             ],
             [
              0.7777777777777778,
              "#fb9f3a"
             ],
             [
              0.8888888888888888,
              "#fdca26"
             ],
             [
              1,
              "#f0f921"
             ]
            ],
            "type": "heatmap"
           }
          ],
          "heatmapgl": [
           {
            "colorbar": {
             "outlinewidth": 0,
             "ticks": ""
            },
            "colorscale": [
             [
              0,
              "#0d0887"
             ],
             [
              0.1111111111111111,
              "#46039f"
             ],
             [
              0.2222222222222222,
              "#7201a8"
             ],
             [
              0.3333333333333333,
              "#9c179e"
             ],
             [
              0.4444444444444444,
              "#bd3786"
             ],
             [
              0.5555555555555556,
              "#d8576b"
             ],
             [
              0.6666666666666666,
              "#ed7953"
             ],
             [
              0.7777777777777778,
              "#fb9f3a"
             ],
             [
              0.8888888888888888,
              "#fdca26"
             ],
             [
              1,
              "#f0f921"
             ]
            ],
            "type": "heatmapgl"
           }
          ],
          "histogram": [
           {
            "marker": {
             "pattern": {
              "fillmode": "overlay",
              "size": 10,
              "solidity": 0.2
             }
            },
            "type": "histogram"
           }
          ],
          "histogram2d": [
           {
            "colorbar": {
             "outlinewidth": 0,
             "ticks": ""
            },
            "colorscale": [
             [
              0,
              "#0d0887"
             ],
             [
              0.1111111111111111,
              "#46039f"
             ],
             [
              0.2222222222222222,
              "#7201a8"
             ],
             [
              0.3333333333333333,
              "#9c179e"
             ],
             [
              0.4444444444444444,
              "#bd3786"
             ],
             [
              0.5555555555555556,
              "#d8576b"
             ],
             [
              0.6666666666666666,
              "#ed7953"
             ],
             [
              0.7777777777777778,
              "#fb9f3a"
             ],
             [
              0.8888888888888888,
              "#fdca26"
             ],
             [
              1,
              "#f0f921"
             ]
            ],
            "type": "histogram2d"
           }
          ],
          "histogram2dcontour": [
           {
            "colorbar": {
             "outlinewidth": 0,
             "ticks": ""
            },
            "colorscale": [
             [
              0,
              "#0d0887"
             ],
             [
              0.1111111111111111,
              "#46039f"
             ],
             [
              0.2222222222222222,
              "#7201a8"
             ],
             [
              0.3333333333333333,
              "#9c179e"
             ],
             [
              0.4444444444444444,
              "#bd3786"
             ],
             [
              0.5555555555555556,
              "#d8576b"
             ],
             [
              0.6666666666666666,
              "#ed7953"
             ],
             [
              0.7777777777777778,
              "#fb9f3a"
             ],
             [
              0.8888888888888888,
              "#fdca26"
             ],
             [
              1,
              "#f0f921"
             ]
            ],
            "type": "histogram2dcontour"
           }
          ],
          "mesh3d": [
           {
            "colorbar": {
             "outlinewidth": 0,
             "ticks": ""
            },
            "type": "mesh3d"
           }
          ],
          "parcoords": [
           {
            "line": {
             "colorbar": {
              "outlinewidth": 0,
              "ticks": ""
             }
            },
            "type": "parcoords"
           }
          ],
          "pie": [
           {
            "automargin": true,
            "type": "pie"
           }
          ],
          "scatter": [
           {
            "fillpattern": {
             "fillmode": "overlay",
             "size": 10,
             "solidity": 0.2
            },
            "type": "scatter"
           }
          ],
          "scatter3d": [
           {
            "line": {
             "colorbar": {
              "outlinewidth": 0,
              "ticks": ""
             }
            },
            "marker": {
             "colorbar": {
              "outlinewidth": 0,
              "ticks": ""
             }
            },
            "type": "scatter3d"
           }
          ],
          "scattercarpet": [
           {
            "marker": {
             "colorbar": {
              "outlinewidth": 0,
              "ticks": ""
             }
            },
            "type": "scattercarpet"
           }
          ],
          "scattergeo": [
           {
            "marker": {
             "colorbar": {
              "outlinewidth": 0,
              "ticks": ""
             }
            },
            "type": "scattergeo"
           }
          ],
          "scattergl": [
           {
            "marker": {
             "colorbar": {
              "outlinewidth": 0,
              "ticks": ""
             }
            },
            "type": "scattergl"
           }
          ],
          "scattermapbox": [
           {
            "marker": {
             "colorbar": {
              "outlinewidth": 0,
              "ticks": ""
             }
            },
            "type": "scattermapbox"
           }
          ],
          "scatterpolar": [
           {
            "marker": {
             "colorbar": {
              "outlinewidth": 0,
              "ticks": ""
             }
            },
            "type": "scatterpolar"
           }
          ],
          "scatterpolargl": [
           {
            "marker": {
             "colorbar": {
              "outlinewidth": 0,
              "ticks": ""
             }
            },
            "type": "scatterpolargl"
           }
          ],
          "scatterternary": [
           {
            "marker": {
             "colorbar": {
              "outlinewidth": 0,
              "ticks": ""
             }
            },
            "type": "scatterternary"
           }
          ],
          "surface": [
           {
            "colorbar": {
             "outlinewidth": 0,
             "ticks": ""
            },
            "colorscale": [
             [
              0,
              "#0d0887"
             ],
             [
              0.1111111111111111,
              "#46039f"
             ],
             [
              0.2222222222222222,
              "#7201a8"
             ],
             [
              0.3333333333333333,
              "#9c179e"
             ],
             [
              0.4444444444444444,
              "#bd3786"
             ],
             [
              0.5555555555555556,
              "#d8576b"
             ],
             [
              0.6666666666666666,
              "#ed7953"
             ],
             [
              0.7777777777777778,
              "#fb9f3a"
             ],
             [
              0.8888888888888888,
              "#fdca26"
             ],
             [
              1,
              "#f0f921"
             ]
            ],
            "type": "surface"
           }
          ],
          "table": [
           {
            "cells": {
             "fill": {
              "color": "#EBF0F8"
             },
             "line": {
              "color": "white"
             }
            },
            "header": {
             "fill": {
              "color": "#C8D4E3"
             },
             "line": {
              "color": "white"
             }
            },
            "type": "table"
           }
          ]
         },
         "layout": {
          "annotationdefaults": {
           "arrowcolor": "#2a3f5f",
           "arrowhead": 0,
           "arrowwidth": 1
          },
          "autotypenumbers": "strict",
          "coloraxis": {
           "colorbar": {
            "outlinewidth": 0,
            "ticks": ""
           }
          },
          "colorscale": {
           "diverging": [
            [
             0,
             "#8e0152"
            ],
            [
             0.1,
             "#c51b7d"
            ],
            [
             0.2,
             "#de77ae"
            ],
            [
             0.3,
             "#f1b6da"
            ],
            [
             0.4,
             "#fde0ef"
            ],
            [
             0.5,
             "#f7f7f7"
            ],
            [
             0.6,
             "#e6f5d0"
            ],
            [
             0.7,
             "#b8e186"
            ],
            [
             0.8,
             "#7fbc41"
            ],
            [
             0.9,
             "#4d9221"
            ],
            [
             1,
             "#276419"
            ]
           ],
           "sequential": [
            [
             0,
             "#0d0887"
            ],
            [
             0.1111111111111111,
             "#46039f"
            ],
            [
             0.2222222222222222,
             "#7201a8"
            ],
            [
             0.3333333333333333,
             "#9c179e"
            ],
            [
             0.4444444444444444,
             "#bd3786"
            ],
            [
             0.5555555555555556,
             "#d8576b"
            ],
            [
             0.6666666666666666,
             "#ed7953"
            ],
            [
             0.7777777777777778,
             "#fb9f3a"
            ],
            [
             0.8888888888888888,
             "#fdca26"
            ],
            [
             1,
             "#f0f921"
            ]
           ],
           "sequentialminus": [
            [
             0,
             "#0d0887"
            ],
            [
             0.1111111111111111,
             "#46039f"
            ],
            [
             0.2222222222222222,
             "#7201a8"
            ],
            [
             0.3333333333333333,
             "#9c179e"
            ],
            [
             0.4444444444444444,
             "#bd3786"
            ],
            [
             0.5555555555555556,
             "#d8576b"
            ],
            [
             0.6666666666666666,
             "#ed7953"
            ],
            [
             0.7777777777777778,
             "#fb9f3a"
            ],
            [
             0.8888888888888888,
             "#fdca26"
            ],
            [
             1,
             "#f0f921"
            ]
           ]
          },
          "colorway": [
           "#636efa",
           "#EF553B",
           "#00cc96",
           "#ab63fa",
           "#FFA15A",
           "#19d3f3",
           "#FF6692",
           "#B6E880",
           "#FF97FF",
           "#FECB52"
          ],
          "font": {
           "color": "#2a3f5f"
          },
          "geo": {
           "bgcolor": "white",
           "lakecolor": "white",
           "landcolor": "#E5ECF6",
           "showlakes": true,
           "showland": true,
           "subunitcolor": "white"
          },
          "hoverlabel": {
           "align": "left"
          },
          "hovermode": "closest",
          "mapbox": {
           "style": "light"
          },
          "paper_bgcolor": "white",
          "plot_bgcolor": "#E5ECF6",
          "polar": {
           "angularaxis": {
            "gridcolor": "white",
            "linecolor": "white",
            "ticks": ""
           },
           "bgcolor": "#E5ECF6",
           "radialaxis": {
            "gridcolor": "white",
            "linecolor": "white",
            "ticks": ""
           }
          },
          "scene": {
           "xaxis": {
            "backgroundcolor": "#E5ECF6",
            "gridcolor": "white",
            "gridwidth": 2,
            "linecolor": "white",
            "showbackground": true,
            "ticks": "",
            "zerolinecolor": "white"
           },
           "yaxis": {
            "backgroundcolor": "#E5ECF6",
            "gridcolor": "white",
            "gridwidth": 2,
            "linecolor": "white",
            "showbackground": true,
            "ticks": "",
            "zerolinecolor": "white"
           },
           "zaxis": {
            "backgroundcolor": "#E5ECF6",
            "gridcolor": "white",
            "gridwidth": 2,
            "linecolor": "white",
            "showbackground": true,
            "ticks": "",
            "zerolinecolor": "white"
           }
          },
          "shapedefaults": {
           "line": {
            "color": "#2a3f5f"
           }
          },
          "ternary": {
           "aaxis": {
            "gridcolor": "white",
            "linecolor": "white",
            "ticks": ""
           },
           "baxis": {
            "gridcolor": "white",
            "linecolor": "white",
            "ticks": ""
           },
           "bgcolor": "#E5ECF6",
           "caxis": {
            "gridcolor": "white",
            "linecolor": "white",
            "ticks": ""
           }
          },
          "title": {
           "x": 0.05
          },
          "xaxis": {
           "automargin": true,
           "gridcolor": "white",
           "linecolor": "white",
           "ticks": "",
           "title": {
            "standoff": 15
           },
           "zerolinecolor": "white",
           "zerolinewidth": 2
          },
          "yaxis": {
           "automargin": true,
           "gridcolor": "white",
           "linecolor": "white",
           "ticks": "",
           "title": {
            "standoff": 15
           },
           "zerolinecolor": "white",
           "zerolinewidth": 2
          }
         }
        },
        "xaxis": {
         "anchor": "y",
         "domain": [
          0,
          1
         ],
         "title": {
          "text": "DataReferencia"
         }
        },
        "yaxis": {
         "anchor": "x",
         "domain": [
          0,
          1
         ],
         "title": {
          "text": "cumsum_mediana"
         }
        }
       }
      }
     },
     "metadata": {},
     "output_type": "display_data"
    }
   ],
   "source": [
    "# Gráfico iterativo utilizando o plotly\n",
    "fig=px.line(df_ipca_from_now,x='DataReferencia',y='cumsum_mediana')\n",
    "# Gerando arquivo com o resultado\n",
    "# plotly.offline.plot(fig, show_link = True,filename=f'./output/tx_desocupacao_forcast.html')\n",
    "fig.show()"
   ]
  },
  {
   "cell_type": "code",
   "execution_count": null,
   "metadata": {},
   "outputs": [],
   "source": []
  }
 ],
 "metadata": {
  "kernelspec": {
   "display_name": "Python 3.10.4 64-bit",
   "language": "python",
   "name": "python3"
  },
  "language_info": {
   "codemirror_mode": {
    "name": "ipython",
    "version": 3
   },
   "file_extension": ".py",
   "mimetype": "text/x-python",
   "name": "python",
   "nbconvert_exporter": "python",
   "pygments_lexer": "ipython3",
   "version": "3.10.6"
  },
  "orig_nbformat": 4,
  "vscode": {
   "interpreter": {
    "hash": "56a276fc4fc28a70691a0a23041e734fbee624a304b6c6d59b0c547ae7b77065"
   }
  }
 },
 "nbformat": 4,
 "nbformat_minor": 2
}
