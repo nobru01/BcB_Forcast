{
 "cells": [
  {
   "cell_type": "code",
   "execution_count": 2,
   "metadata": {},
   "outputs": [],
   "source": [
    "import os\n",
    "import datetime\n",
    "from datetime import timedelta\n",
    "from dateutil.relativedelta import relativedelta\n",
    "import plotly.express as px\n",
    "import plotly"
   ]
  },
  {
   "cell_type": "code",
   "execution_count": 3,
   "metadata": {},
   "outputs": [
    {
     "name": "stdout",
     "output_type": "stream",
     "text": [
      "Inicializado Rotina json_collect.py.\n"
     ]
    }
   ],
   "source": [
    "print('Inicializado Rotina json_collect.py.')\n",
    "os.chdir(sys.path[0])\n",
    "# os.chdir(os.path.join(os.getcwd(),\"json_collect.py\"))                  # Modifica o diretório de trabalho, para os caminhos relativos funcionar. (https://stackoverflow.com/questions/1432924/python-change-the-scripts-working-directory-to-the-scripts-own-directory)\n",
    "# print(os.getcwd())\n",
    "%run ./json_collect.py                      \n"
   ]
  },
  {
   "cell_type": "code",
   "execution_count": 4,
   "metadata": {},
   "outputs": [],
   "source": [
    "# sites: https://dadosabertos.bcb.gov.br/dataset/expectativas-mercado\n",
    "# Sintase: https://dadosabertos.bcb.gov.br/dataset/expectativas-mercado/resource/d420a704-75a7-4f45-8f4b-0fca813c70f0\n",
    "# documentação: https://olinda.bcb.gov.br/olinda/servico/Expectativas/versao/v1/documentacao"
   ]
  },
  {
   "cell_type": "code",
   "execution_count": 5,
   "metadata": {},
   "outputs": [
    {
     "data": {
      "text/html": [
       "<div>\n",
       "<style scoped>\n",
       "    .dataframe tbody tr th:only-of-type {\n",
       "        vertical-align: middle;\n",
       "    }\n",
       "\n",
       "    .dataframe tbody tr th {\n",
       "        vertical-align: top;\n",
       "    }\n",
       "\n",
       "    .dataframe thead th {\n",
       "        text-align: right;\n",
       "    }\n",
       "</style>\n",
       "<table border=\"1\" class=\"dataframe\">\n",
       "  <thead>\n",
       "    <tr style=\"text-align: right;\">\n",
       "      <th></th>\n",
       "      <th>Data</th>\n",
       "      <th>Media</th>\n",
       "      <th>Mediana</th>\n",
       "      <th>DesvioPadrao</th>\n",
       "      <th>Minimo</th>\n",
       "      <th>Maximo</th>\n",
       "      <th>numeroRespondentes</th>\n",
       "      <th>baseCalculo</th>\n",
       "      <th>data_reuniao</th>\n",
       "    </tr>\n",
       "    <tr>\n",
       "      <th>Reuniao</th>\n",
       "      <th></th>\n",
       "      <th></th>\n",
       "      <th></th>\n",
       "      <th></th>\n",
       "      <th></th>\n",
       "      <th></th>\n",
       "      <th></th>\n",
       "      <th></th>\n",
       "      <th></th>\n",
       "    </tr>\n",
       "  </thead>\n",
       "  <tbody>\n",
       "    <tr>\n",
       "      <th>R6/2022</th>\n",
       "      <td>2022-08-12</td>\n",
       "      <td>13.7790</td>\n",
       "      <td>13.75</td>\n",
       "      <td>0.0800</td>\n",
       "      <td>13.75</td>\n",
       "      <td>14.00</td>\n",
       "      <td>69</td>\n",
       "      <td>1</td>\n",
       "      <td>2022-09-21</td>\n",
       "    </tr>\n",
       "    <tr>\n",
       "      <th>R7/2022</th>\n",
       "      <td>2022-08-12</td>\n",
       "      <td>13.7862</td>\n",
       "      <td>13.75</td>\n",
       "      <td>0.0978</td>\n",
       "      <td>13.75</td>\n",
       "      <td>14.25</td>\n",
       "      <td>69</td>\n",
       "      <td>1</td>\n",
       "      <td>2022-10-26</td>\n",
       "    </tr>\n",
       "    <tr>\n",
       "      <th>R8/2022</th>\n",
       "      <td>2022-08-12</td>\n",
       "      <td>13.7826</td>\n",
       "      <td>13.75</td>\n",
       "      <td>0.1035</td>\n",
       "      <td>13.50</td>\n",
       "      <td>14.25</td>\n",
       "      <td>69</td>\n",
       "      <td>1</td>\n",
       "      <td>2022-12-07</td>\n",
       "    </tr>\n",
       "    <tr>\n",
       "      <th>R1/2023</th>\n",
       "      <td>2022-08-12</td>\n",
       "      <td>13.7724</td>\n",
       "      <td>13.75</td>\n",
       "      <td>0.1201</td>\n",
       "      <td>13.25</td>\n",
       "      <td>14.25</td>\n",
       "      <td>67</td>\n",
       "      <td>1</td>\n",
       "      <td>2023-02-01</td>\n",
       "    </tr>\n",
       "    <tr>\n",
       "      <th>R2/2023</th>\n",
       "      <td>2022-08-12</td>\n",
       "      <td>13.7090</td>\n",
       "      <td>13.75</td>\n",
       "      <td>0.2350</td>\n",
       "      <td>12.75</td>\n",
       "      <td>14.25</td>\n",
       "      <td>67</td>\n",
       "      <td>1</td>\n",
       "      <td>2023-03-22</td>\n",
       "    </tr>\n",
       "    <tr>\n",
       "      <th>R3/2023</th>\n",
       "      <td>2022-08-12</td>\n",
       "      <td>13.5299</td>\n",
       "      <td>13.75</td>\n",
       "      <td>0.4373</td>\n",
       "      <td>12.00</td>\n",
       "      <td>14.25</td>\n",
       "      <td>67</td>\n",
       "      <td>1</td>\n",
       "      <td>2023-05-03</td>\n",
       "    </tr>\n",
       "    <tr>\n",
       "      <th>R4/2023</th>\n",
       "      <td>2022-08-12</td>\n",
       "      <td>13.2090</td>\n",
       "      <td>13.50</td>\n",
       "      <td>0.6386</td>\n",
       "      <td>11.50</td>\n",
       "      <td>14.25</td>\n",
       "      <td>67</td>\n",
       "      <td>1</td>\n",
       "      <td>2023-06-21</td>\n",
       "    </tr>\n",
       "    <tr>\n",
       "      <th>R5/2023</th>\n",
       "      <td>2022-08-12</td>\n",
       "      <td>12.7425</td>\n",
       "      <td>12.75</td>\n",
       "      <td>0.7393</td>\n",
       "      <td>10.50</td>\n",
       "      <td>14.00</td>\n",
       "      <td>67</td>\n",
       "      <td>1</td>\n",
       "      <td>2023-08-02</td>\n",
       "    </tr>\n",
       "    <tr>\n",
       "      <th>R6/2023</th>\n",
       "      <td>2022-08-12</td>\n",
       "      <td>12.2052</td>\n",
       "      <td>12.25</td>\n",
       "      <td>0.7750</td>\n",
       "      <td>10.50</td>\n",
       "      <td>13.75</td>\n",
       "      <td>67</td>\n",
       "      <td>1</td>\n",
       "      <td>2023-09-20</td>\n",
       "    </tr>\n",
       "    <tr>\n",
       "      <th>R7/2023</th>\n",
       "      <td>2022-08-12</td>\n",
       "      <td>11.6157</td>\n",
       "      <td>11.75</td>\n",
       "      <td>0.8015</td>\n",
       "      <td>10.00</td>\n",
       "      <td>13.75</td>\n",
       "      <td>67</td>\n",
       "      <td>1</td>\n",
       "      <td>2023-11-01</td>\n",
       "    </tr>\n",
       "    <tr>\n",
       "      <th>R8/2023</th>\n",
       "      <td>2022-08-12</td>\n",
       "      <td>11.0404</td>\n",
       "      <td>11.00</td>\n",
       "      <td>0.8614</td>\n",
       "      <td>9.00</td>\n",
       "      <td>13.75</td>\n",
       "      <td>68</td>\n",
       "      <td>1</td>\n",
       "      <td>2023-12-13</td>\n",
       "    </tr>\n",
       "    <tr>\n",
       "      <th>R1/2024</th>\n",
       "      <td>2022-08-12</td>\n",
       "      <td>10.4125</td>\n",
       "      <td>10.50</td>\n",
       "      <td>0.8414</td>\n",
       "      <td>8.50</td>\n",
       "      <td>12.00</td>\n",
       "      <td>60</td>\n",
       "      <td>1</td>\n",
       "      <td>2024-01-31</td>\n",
       "    </tr>\n",
       "    <tr>\n",
       "      <th>R2/2024</th>\n",
       "      <td>2022-08-12</td>\n",
       "      <td>9.9068</td>\n",
       "      <td>10.00</td>\n",
       "      <td>0.9147</td>\n",
       "      <td>7.50</td>\n",
       "      <td>11.50</td>\n",
       "      <td>59</td>\n",
       "      <td>1</td>\n",
       "      <td>2024-03-20</td>\n",
       "    </tr>\n",
       "    <tr>\n",
       "      <th>R3/2024</th>\n",
       "      <td>2022-08-12</td>\n",
       "      <td>9.4703</td>\n",
       "      <td>9.50</td>\n",
       "      <td>0.9656</td>\n",
       "      <td>7.50</td>\n",
       "      <td>11.50</td>\n",
       "      <td>59</td>\n",
       "      <td>1</td>\n",
       "      <td>2024-05-08</td>\n",
       "    </tr>\n",
       "    <tr>\n",
       "      <th>R4/2024</th>\n",
       "      <td>2022-08-12</td>\n",
       "      <td>9.0991</td>\n",
       "      <td>9.00</td>\n",
       "      <td>0.9770</td>\n",
       "      <td>7.00</td>\n",
       "      <td>11.25</td>\n",
       "      <td>58</td>\n",
       "      <td>1</td>\n",
       "      <td>2024-06-26</td>\n",
       "    </tr>\n",
       "    <tr>\n",
       "      <th>R5/2024</th>\n",
       "      <td>2022-08-12</td>\n",
       "      <td>8.8631</td>\n",
       "      <td>8.75</td>\n",
       "      <td>0.9484</td>\n",
       "      <td>7.00</td>\n",
       "      <td>11.00</td>\n",
       "      <td>42</td>\n",
       "      <td>1</td>\n",
       "      <td>2024-08-14</td>\n",
       "    </tr>\n",
       "    <tr>\n",
       "      <th>R6/2022</th>\n",
       "      <td>2022-08-11</td>\n",
       "      <td>13.8348</td>\n",
       "      <td>13.75</td>\n",
       "      <td>0.1439</td>\n",
       "      <td>13.75</td>\n",
       "      <td>14.25</td>\n",
       "      <td>56</td>\n",
       "      <td>1</td>\n",
       "      <td>2022-09-21</td>\n",
       "    </tr>\n",
       "    <tr>\n",
       "      <th>R7/2022</th>\n",
       "      <td>2022-08-11</td>\n",
       "      <td>13.8348</td>\n",
       "      <td>13.75</td>\n",
       "      <td>0.1439</td>\n",
       "      <td>13.75</td>\n",
       "      <td>14.25</td>\n",
       "      <td>56</td>\n",
       "      <td>1</td>\n",
       "      <td>2022-10-26</td>\n",
       "    </tr>\n",
       "    <tr>\n",
       "      <th>R8/2022</th>\n",
       "      <td>2022-08-11</td>\n",
       "      <td>13.8304</td>\n",
       "      <td>13.75</td>\n",
       "      <td>0.1502</td>\n",
       "      <td>13.50</td>\n",
       "      <td>14.25</td>\n",
       "      <td>56</td>\n",
       "      <td>1</td>\n",
       "      <td>2022-12-07</td>\n",
       "    </tr>\n",
       "    <tr>\n",
       "      <th>R1/2023</th>\n",
       "      <td>2022-08-11</td>\n",
       "      <td>13.8077</td>\n",
       "      <td>13.75</td>\n",
       "      <td>0.1597</td>\n",
       "      <td>13.25</td>\n",
       "      <td>14.25</td>\n",
       "      <td>52</td>\n",
       "      <td>1</td>\n",
       "      <td>2023-02-01</td>\n",
       "    </tr>\n",
       "  </tbody>\n",
       "</table>\n",
       "</div>"
      ],
      "text/plain": [
       "               Data    Media  Mediana  DesvioPadrao  Minimo  Maximo  \\\n",
       "Reuniao                                                               \n",
       "R6/2022  2022-08-12  13.7790    13.75        0.0800   13.75   14.00   \n",
       "R7/2022  2022-08-12  13.7862    13.75        0.0978   13.75   14.25   \n",
       "R8/2022  2022-08-12  13.7826    13.75        0.1035   13.50   14.25   \n",
       "R1/2023  2022-08-12  13.7724    13.75        0.1201   13.25   14.25   \n",
       "R2/2023  2022-08-12  13.7090    13.75        0.2350   12.75   14.25   \n",
       "R3/2023  2022-08-12  13.5299    13.75        0.4373   12.00   14.25   \n",
       "R4/2023  2022-08-12  13.2090    13.50        0.6386   11.50   14.25   \n",
       "R5/2023  2022-08-12  12.7425    12.75        0.7393   10.50   14.00   \n",
       "R6/2023  2022-08-12  12.2052    12.25        0.7750   10.50   13.75   \n",
       "R7/2023  2022-08-12  11.6157    11.75        0.8015   10.00   13.75   \n",
       "R8/2023  2022-08-12  11.0404    11.00        0.8614    9.00   13.75   \n",
       "R1/2024  2022-08-12  10.4125    10.50        0.8414    8.50   12.00   \n",
       "R2/2024  2022-08-12   9.9068    10.00        0.9147    7.50   11.50   \n",
       "R3/2024  2022-08-12   9.4703     9.50        0.9656    7.50   11.50   \n",
       "R4/2024  2022-08-12   9.0991     9.00        0.9770    7.00   11.25   \n",
       "R5/2024  2022-08-12   8.8631     8.75        0.9484    7.00   11.00   \n",
       "R6/2022  2022-08-11  13.8348    13.75        0.1439   13.75   14.25   \n",
       "R7/2022  2022-08-11  13.8348    13.75        0.1439   13.75   14.25   \n",
       "R8/2022  2022-08-11  13.8304    13.75        0.1502   13.50   14.25   \n",
       "R1/2023  2022-08-11  13.8077    13.75        0.1597   13.25   14.25   \n",
       "\n",
       "         numeroRespondentes  baseCalculo data_reuniao  \n",
       "Reuniao                                                \n",
       "R6/2022                  69            1   2022-09-21  \n",
       "R7/2022                  69            1   2022-10-26  \n",
       "R8/2022                  69            1   2022-12-07  \n",
       "R1/2023                  67            1   2023-02-01  \n",
       "R2/2023                  67            1   2023-03-22  \n",
       "R3/2023                  67            1   2023-05-03  \n",
       "R4/2023                  67            1   2023-06-21  \n",
       "R5/2023                  67            1   2023-08-02  \n",
       "R6/2023                  67            1   2023-09-20  \n",
       "R7/2023                  67            1   2023-11-01  \n",
       "R8/2023                  68            1   2023-12-13  \n",
       "R1/2024                  60            1   2024-01-31  \n",
       "R2/2024                  59            1   2024-03-20  \n",
       "R3/2024                  59            1   2024-05-08  \n",
       "R4/2024                  58            1   2024-06-26  \n",
       "R5/2024                  42            1   2024-08-14  \n",
       "R6/2022                  56            1   2022-09-21  \n",
       "R7/2022                  56            1   2022-10-26  \n",
       "R8/2022                  56            1   2022-12-07  \n",
       "R1/2023                  52            1   2023-02-01  "
      ]
     },
     "execution_count": 5,
     "metadata": {},
     "output_type": "execute_result"
    }
   ],
   "source": [
    "df_selic_data=pd.read_csv('./input/selic_datas.csv',index_col='Reuniao')\n",
    "df_selic=pd.read_csv('./output/selic_data_df.csv',index_col='Reuniao')\n",
    "df_selic=df_selic.drop(columns=['Unnamed: 0','Indicador'])\n",
    "df_selic['Data']=df_selic.apply(lambda x: datetime.datetime.strptime(x.Data,'%Y-%m-%d').date(),axis=1)\n",
    "\n",
    "df_selic['data_reuniao']=''\n",
    "for i in range(0, len(df_selic)):\n",
    "    busca_data=''\n",
    "    try:\n",
    "        busca_data=df_selic_data.loc[df_selic.index[i],'data_reuniao']\n",
    "        busca_data=datetime.datetime.strptime(busca_data,'%Y-%m-%d').date()\n",
    "        df_selic.loc[df_selic.index[i],'data_reuniao']=busca_data\n",
    "\n",
    "    except:\n",
    "        # será definida um expectativa para a data.\n",
    "        # busca_data=df_selic_data.loc[df_selic.index[i],'data_reuniao']\n",
    "        # df_selic.loc[df_selic.index[i],'data_reuniao']=busca_data\n",
    "        continue\n",
    "\n",
    "# df_selic['data_reuniao']=df_selic.apply(lambda x: datetime.datetime.strptime(x.data_reuniao,'%Y-%m-%d').date(),axis=1)\n",
    "# df_selic=df_selic[df_selic['data_reuniao']!='']\n",
    "df_selic=df_selic.sort_values(by=['Data','data_reuniao','baseCalculo'],ascending=[False,True,False])\n",
    "df_selic=df_selic[df_selic['baseCalculo']==1]           # não sei qual é a diferença da base de cálculo.\n",
    "df_selic.head(20)"
   ]
  },
  {
   "cell_type": "code",
   "execution_count": 6,
   "metadata": {},
   "outputs": [
    {
     "data": {
      "application/vnd.plotly.v1+json": {
       "config": {
        "plotlyServerURL": "https://plot.ly"
       },
       "data": [
        {
         "hovertemplate": "Data=2022-08-12<br>data_reuniao=%{x}<br>Mediana=%{y}<extra></extra>",
         "legendgroup": "2022-08-12",
         "line": {
          "color": "#636efa",
          "dash": "solid"
         },
         "marker": {
          "symbol": "circle"
         },
         "mode": "lines",
         "name": "2022-08-12",
         "orientation": "v",
         "showlegend": true,
         "type": "scatter",
         "x": [
          "2022-09-21",
          "2022-10-26",
          "2022-12-07",
          "2023-02-01",
          "2023-03-22",
          "2023-05-03",
          "2023-06-21",
          "2023-08-02",
          "2023-09-20",
          "2023-11-01",
          "2023-12-13",
          "2024-01-31",
          "2024-03-20",
          "2024-05-08",
          "2024-06-26",
          "2024-08-14"
         ],
         "xaxis": "x",
         "y": [
          13.75,
          13.75,
          13.75,
          13.75,
          13.75,
          13.75,
          13.5,
          12.75,
          12.25,
          11.75,
          11,
          10.5,
          10,
          9.5,
          9,
          8.75
         ],
         "yaxis": "y"
        },
        {
         "hovertemplate": "Data=2022-08-11<br>data_reuniao=%{x}<br>Mediana=%{y}<extra></extra>",
         "legendgroup": "2022-08-11",
         "line": {
          "color": "#EF553B",
          "dash": "solid"
         },
         "marker": {
          "symbol": "circle"
         },
         "mode": "lines",
         "name": "2022-08-11",
         "orientation": "v",
         "showlegend": true,
         "type": "scatter",
         "x": [
          "2022-09-21",
          "2022-10-26",
          "2022-12-07",
          "2023-02-01",
          "2023-03-22",
          "2023-05-03",
          "2023-06-21",
          "2023-08-02",
          "2023-09-20",
          "2023-11-01",
          "2023-12-13",
          "2024-01-31",
          "2024-03-20",
          "2024-05-08",
          "2024-06-26",
          "2024-08-14"
         ],
         "xaxis": "x",
         "y": [
          13.75,
          13.75,
          13.75,
          13.75,
          13.75,
          13.75,
          13.25,
          12.75,
          12,
          11.625,
          11,
          10.5,
          10,
          9.625,
          9,
          9
         ],
         "yaxis": "y"
        },
        {
         "hovertemplate": "Data=2022-08-10<br>data_reuniao=%{x}<br>Mediana=%{y}<extra></extra>",
         "legendgroup": "2022-08-10",
         "line": {
          "color": "#00cc96",
          "dash": "solid"
         },
         "marker": {
          "symbol": "circle"
         },
         "mode": "lines",
         "name": "2022-08-10",
         "orientation": "v",
         "showlegend": true,
         "type": "scatter",
         "x": [
          "2022-09-21",
          "2022-10-26",
          "2022-12-07",
          "2023-02-01",
          "2023-03-22",
          "2023-05-03",
          "2023-06-21",
          "2023-08-02",
          "2023-09-20",
          "2023-11-01",
          "2023-12-13",
          "2024-01-31",
          "2024-03-20",
          "2024-05-08",
          "2024-06-26",
          "2024-08-14"
         ],
         "xaxis": "x",
         "y": [
          13.75,
          13.75,
          13.75,
          13.75,
          13.75,
          13.75,
          13.25,
          12.75,
          12.125,
          11.625,
          11,
          10.5,
          10,
          9.5,
          9,
          9
         ],
         "yaxis": "y"
        },
        {
         "hovertemplate": "Data=2022-08-09<br>data_reuniao=%{x}<br>Mediana=%{y}<extra></extra>",
         "legendgroup": "2022-08-09",
         "line": {
          "color": "#ab63fa",
          "dash": "solid"
         },
         "marker": {
          "symbol": "circle"
         },
         "mode": "lines",
         "name": "2022-08-09",
         "orientation": "v",
         "showlegend": true,
         "type": "scatter",
         "x": [
          "2024-06-26",
          "2024-08-14"
         ],
         "xaxis": "x",
         "y": [
          9,
          9.125
         ],
         "yaxis": "y"
        }
       ],
       "layout": {
        "legend": {
         "title": {
          "text": "Data"
         },
         "tracegroupgap": 0
        },
        "margin": {
         "t": 60
        },
        "template": {
         "data": {
          "bar": [
           {
            "error_x": {
             "color": "#2a3f5f"
            },
            "error_y": {
             "color": "#2a3f5f"
            },
            "marker": {
             "line": {
              "color": "#E5ECF6",
              "width": 0.5
             },
             "pattern": {
              "fillmode": "overlay",
              "size": 10,
              "solidity": 0.2
             }
            },
            "type": "bar"
           }
          ],
          "barpolar": [
           {
            "marker": {
             "line": {
              "color": "#E5ECF6",
              "width": 0.5
             },
             "pattern": {
              "fillmode": "overlay",
              "size": 10,
              "solidity": 0.2
             }
            },
            "type": "barpolar"
           }
          ],
          "carpet": [
           {
            "aaxis": {
             "endlinecolor": "#2a3f5f",
             "gridcolor": "white",
             "linecolor": "white",
             "minorgridcolor": "white",
             "startlinecolor": "#2a3f5f"
            },
            "baxis": {
             "endlinecolor": "#2a3f5f",
             "gridcolor": "white",
             "linecolor": "white",
             "minorgridcolor": "white",
             "startlinecolor": "#2a3f5f"
            },
            "type": "carpet"
           }
          ],
          "choropleth": [
           {
            "colorbar": {
             "outlinewidth": 0,
             "ticks": ""
            },
            "type": "choropleth"
           }
          ],
          "contour": [
           {
            "colorbar": {
             "outlinewidth": 0,
             "ticks": ""
            },
            "colorscale": [
             [
              0,
              "#0d0887"
             ],
             [
              0.1111111111111111,
              "#46039f"
             ],
             [
              0.2222222222222222,
              "#7201a8"
             ],
             [
              0.3333333333333333,
              "#9c179e"
             ],
             [
              0.4444444444444444,
              "#bd3786"
             ],
             [
              0.5555555555555556,
              "#d8576b"
             ],
             [
              0.6666666666666666,
              "#ed7953"
             ],
             [
              0.7777777777777778,
              "#fb9f3a"
             ],
             [
              0.8888888888888888,
              "#fdca26"
             ],
             [
              1,
              "#f0f921"
             ]
            ],
            "type": "contour"
           }
          ],
          "contourcarpet": [
           {
            "colorbar": {
             "outlinewidth": 0,
             "ticks": ""
            },
            "type": "contourcarpet"
           }
          ],
          "heatmap": [
           {
            "colorbar": {
             "outlinewidth": 0,
             "ticks": ""
            },
            "colorscale": [
             [
              0,
              "#0d0887"
             ],
             [
              0.1111111111111111,
              "#46039f"
             ],
             [
              0.2222222222222222,
              "#7201a8"
             ],
             [
              0.3333333333333333,
              "#9c179e"
             ],
             [
              0.4444444444444444,
              "#bd3786"
             ],
             [
              0.5555555555555556,
              "#d8576b"
             ],
             [
              0.6666666666666666,
              "#ed7953"
             ],
             [
              0.7777777777777778,
              "#fb9f3a"
             ],
             [
              0.8888888888888888,
              "#fdca26"
             ],
             [
              1,
              "#f0f921"
             ]
            ],
            "type": "heatmap"
           }
          ],
          "heatmapgl": [
           {
            "colorbar": {
             "outlinewidth": 0,
             "ticks": ""
            },
            "colorscale": [
             [
              0,
              "#0d0887"
             ],
             [
              0.1111111111111111,
              "#46039f"
             ],
             [
              0.2222222222222222,
              "#7201a8"
             ],
             [
              0.3333333333333333,
              "#9c179e"
             ],
             [
              0.4444444444444444,
              "#bd3786"
             ],
             [
              0.5555555555555556,
              "#d8576b"
             ],
             [
              0.6666666666666666,
              "#ed7953"
             ],
             [
              0.7777777777777778,
              "#fb9f3a"
             ],
             [
              0.8888888888888888,
              "#fdca26"
             ],
             [
              1,
              "#f0f921"
             ]
            ],
            "type": "heatmapgl"
           }
          ],
          "histogram": [
           {
            "marker": {
             "pattern": {
              "fillmode": "overlay",
              "size": 10,
              "solidity": 0.2
             }
            },
            "type": "histogram"
           }
          ],
          "histogram2d": [
           {
            "colorbar": {
             "outlinewidth": 0,
             "ticks": ""
            },
            "colorscale": [
             [
              0,
              "#0d0887"
             ],
             [
              0.1111111111111111,
              "#46039f"
             ],
             [
              0.2222222222222222,
              "#7201a8"
             ],
             [
              0.3333333333333333,
              "#9c179e"
             ],
             [
              0.4444444444444444,
              "#bd3786"
             ],
             [
              0.5555555555555556,
              "#d8576b"
             ],
             [
              0.6666666666666666,
              "#ed7953"
             ],
             [
              0.7777777777777778,
              "#fb9f3a"
             ],
             [
              0.8888888888888888,
              "#fdca26"
             ],
             [
              1,
              "#f0f921"
             ]
            ],
            "type": "histogram2d"
           }
          ],
          "histogram2dcontour": [
           {
            "colorbar": {
             "outlinewidth": 0,
             "ticks": ""
            },
            "colorscale": [
             [
              0,
              "#0d0887"
             ],
             [
              0.1111111111111111,
              "#46039f"
             ],
             [
              0.2222222222222222,
              "#7201a8"
             ],
             [
              0.3333333333333333,
              "#9c179e"
             ],
             [
              0.4444444444444444,
              "#bd3786"
             ],
             [
              0.5555555555555556,
              "#d8576b"
             ],
             [
              0.6666666666666666,
              "#ed7953"
             ],
             [
              0.7777777777777778,
              "#fb9f3a"
             ],
             [
              0.8888888888888888,
              "#fdca26"
             ],
             [
              1,
              "#f0f921"
             ]
            ],
            "type": "histogram2dcontour"
           }
          ],
          "mesh3d": [
           {
            "colorbar": {
             "outlinewidth": 0,
             "ticks": ""
            },
            "type": "mesh3d"
           }
          ],
          "parcoords": [
           {
            "line": {
             "colorbar": {
              "outlinewidth": 0,
              "ticks": ""
             }
            },
            "type": "parcoords"
           }
          ],
          "pie": [
           {
            "automargin": true,
            "type": "pie"
           }
          ],
          "scatter": [
           {
            "fillpattern": {
             "fillmode": "overlay",
             "size": 10,
             "solidity": 0.2
            },
            "type": "scatter"
           }
          ],
          "scatter3d": [
           {
            "line": {
             "colorbar": {
              "outlinewidth": 0,
              "ticks": ""
             }
            },
            "marker": {
             "colorbar": {
              "outlinewidth": 0,
              "ticks": ""
             }
            },
            "type": "scatter3d"
           }
          ],
          "scattercarpet": [
           {
            "marker": {
             "colorbar": {
              "outlinewidth": 0,
              "ticks": ""
             }
            },
            "type": "scattercarpet"
           }
          ],
          "scattergeo": [
           {
            "marker": {
             "colorbar": {
              "outlinewidth": 0,
              "ticks": ""
             }
            },
            "type": "scattergeo"
           }
          ],
          "scattergl": [
           {
            "marker": {
             "colorbar": {
              "outlinewidth": 0,
              "ticks": ""
             }
            },
            "type": "scattergl"
           }
          ],
          "scattermapbox": [
           {
            "marker": {
             "colorbar": {
              "outlinewidth": 0,
              "ticks": ""
             }
            },
            "type": "scattermapbox"
           }
          ],
          "scatterpolar": [
           {
            "marker": {
             "colorbar": {
              "outlinewidth": 0,
              "ticks": ""
             }
            },
            "type": "scatterpolar"
           }
          ],
          "scatterpolargl": [
           {
            "marker": {
             "colorbar": {
              "outlinewidth": 0,
              "ticks": ""
             }
            },
            "type": "scatterpolargl"
           }
          ],
          "scatterternary": [
           {
            "marker": {
             "colorbar": {
              "outlinewidth": 0,
              "ticks": ""
             }
            },
            "type": "scatterternary"
           }
          ],
          "surface": [
           {
            "colorbar": {
             "outlinewidth": 0,
             "ticks": ""
            },
            "colorscale": [
             [
              0,
              "#0d0887"
             ],
             [
              0.1111111111111111,
              "#46039f"
             ],
             [
              0.2222222222222222,
              "#7201a8"
             ],
             [
              0.3333333333333333,
              "#9c179e"
             ],
             [
              0.4444444444444444,
              "#bd3786"
             ],
             [
              0.5555555555555556,
              "#d8576b"
             ],
             [
              0.6666666666666666,
              "#ed7953"
             ],
             [
              0.7777777777777778,
              "#fb9f3a"
             ],
             [
              0.8888888888888888,
              "#fdca26"
             ],
             [
              1,
              "#f0f921"
             ]
            ],
            "type": "surface"
           }
          ],
          "table": [
           {
            "cells": {
             "fill": {
              "color": "#EBF0F8"
             },
             "line": {
              "color": "white"
             }
            },
            "header": {
             "fill": {
              "color": "#C8D4E3"
             },
             "line": {
              "color": "white"
             }
            },
            "type": "table"
           }
          ]
         },
         "layout": {
          "annotationdefaults": {
           "arrowcolor": "#2a3f5f",
           "arrowhead": 0,
           "arrowwidth": 1
          },
          "autotypenumbers": "strict",
          "coloraxis": {
           "colorbar": {
            "outlinewidth": 0,
            "ticks": ""
           }
          },
          "colorscale": {
           "diverging": [
            [
             0,
             "#8e0152"
            ],
            [
             0.1,
             "#c51b7d"
            ],
            [
             0.2,
             "#de77ae"
            ],
            [
             0.3,
             "#f1b6da"
            ],
            [
             0.4,
             "#fde0ef"
            ],
            [
             0.5,
             "#f7f7f7"
            ],
            [
             0.6,
             "#e6f5d0"
            ],
            [
             0.7,
             "#b8e186"
            ],
            [
             0.8,
             "#7fbc41"
            ],
            [
             0.9,
             "#4d9221"
            ],
            [
             1,
             "#276419"
            ]
           ],
           "sequential": [
            [
             0,
             "#0d0887"
            ],
            [
             0.1111111111111111,
             "#46039f"
            ],
            [
             0.2222222222222222,
             "#7201a8"
            ],
            [
             0.3333333333333333,
             "#9c179e"
            ],
            [
             0.4444444444444444,
             "#bd3786"
            ],
            [
             0.5555555555555556,
             "#d8576b"
            ],
            [
             0.6666666666666666,
             "#ed7953"
            ],
            [
             0.7777777777777778,
             "#fb9f3a"
            ],
            [
             0.8888888888888888,
             "#fdca26"
            ],
            [
             1,
             "#f0f921"
            ]
           ],
           "sequentialminus": [
            [
             0,
             "#0d0887"
            ],
            [
             0.1111111111111111,
             "#46039f"
            ],
            [
             0.2222222222222222,
             "#7201a8"
            ],
            [
             0.3333333333333333,
             "#9c179e"
            ],
            [
             0.4444444444444444,
             "#bd3786"
            ],
            [
             0.5555555555555556,
             "#d8576b"
            ],
            [
             0.6666666666666666,
             "#ed7953"
            ],
            [
             0.7777777777777778,
             "#fb9f3a"
            ],
            [
             0.8888888888888888,
             "#fdca26"
            ],
            [
             1,
             "#f0f921"
            ]
           ]
          },
          "colorway": [
           "#636efa",
           "#EF553B",
           "#00cc96",
           "#ab63fa",
           "#FFA15A",
           "#19d3f3",
           "#FF6692",
           "#B6E880",
           "#FF97FF",
           "#FECB52"
          ],
          "font": {
           "color": "#2a3f5f"
          },
          "geo": {
           "bgcolor": "white",
           "lakecolor": "white",
           "landcolor": "#E5ECF6",
           "showlakes": true,
           "showland": true,
           "subunitcolor": "white"
          },
          "hoverlabel": {
           "align": "left"
          },
          "hovermode": "closest",
          "mapbox": {
           "style": "light"
          },
          "paper_bgcolor": "white",
          "plot_bgcolor": "#E5ECF6",
          "polar": {
           "angularaxis": {
            "gridcolor": "white",
            "linecolor": "white",
            "ticks": ""
           },
           "bgcolor": "#E5ECF6",
           "radialaxis": {
            "gridcolor": "white",
            "linecolor": "white",
            "ticks": ""
           }
          },
          "scene": {
           "xaxis": {
            "backgroundcolor": "#E5ECF6",
            "gridcolor": "white",
            "gridwidth": 2,
            "linecolor": "white",
            "showbackground": true,
            "ticks": "",
            "zerolinecolor": "white"
           },
           "yaxis": {
            "backgroundcolor": "#E5ECF6",
            "gridcolor": "white",
            "gridwidth": 2,
            "linecolor": "white",
            "showbackground": true,
            "ticks": "",
            "zerolinecolor": "white"
           },
           "zaxis": {
            "backgroundcolor": "#E5ECF6",
            "gridcolor": "white",
            "gridwidth": 2,
            "linecolor": "white",
            "showbackground": true,
            "ticks": "",
            "zerolinecolor": "white"
           }
          },
          "shapedefaults": {
           "line": {
            "color": "#2a3f5f"
           }
          },
          "ternary": {
           "aaxis": {
            "gridcolor": "white",
            "linecolor": "white",
            "ticks": ""
           },
           "baxis": {
            "gridcolor": "white",
            "linecolor": "white",
            "ticks": ""
           },
           "bgcolor": "#E5ECF6",
           "caxis": {
            "gridcolor": "white",
            "linecolor": "white",
            "ticks": ""
           }
          },
          "title": {
           "x": 0.05
          },
          "xaxis": {
           "automargin": true,
           "gridcolor": "white",
           "linecolor": "white",
           "ticks": "",
           "title": {
            "standoff": 15
           },
           "zerolinecolor": "white",
           "zerolinewidth": 2
          },
          "yaxis": {
           "automargin": true,
           "gridcolor": "white",
           "linecolor": "white",
           "ticks": "",
           "title": {
            "standoff": 15
           },
           "zerolinecolor": "white",
           "zerolinewidth": 2
          }
         }
        },
        "xaxis": {
         "anchor": "y",
         "domain": [
          0,
          1
         ],
         "title": {
          "text": "data_reuniao"
         }
        },
        "yaxis": {
         "anchor": "x",
         "domain": [
          0,
          1
         ],
         "title": {
          "text": "Mediana"
         }
        }
       }
      }
     },
     "metadata": {},
     "output_type": "display_data"
    }
   ],
   "source": [
    "# Gráfico iterativo utilizando o plotly\n",
    "fig=px.line(df_selic,x='data_reuniao',y='Mediana', color='Data')\n",
    "# Gerando arquivo com o resultado\n",
    "# plotly.offline.plot(fig, show_link = True,filename=f'./output/IPCA_forcast.html')\n",
    "fig.show()"
   ]
  },
  {
   "cell_type": "code",
   "execution_count": 8,
   "metadata": {},
   "outputs": [
    {
     "name": "stderr",
     "output_type": "stream",
     "text": [
      "C:\\Users\\bruno.bfn\\AppData\\Local\\Temp\\ipykernel_16756\\2354284782.py:4: SettingWithCopyWarning:\n",
      "\n",
      "\n",
      "A value is trying to be set on a copy of a slice from a DataFrame.\n",
      "Try using .loc[row_indexer,col_indexer] = value instead\n",
      "\n",
      "See the caveats in the documentation: https://pandas.pydata.org/pandas-docs/stable/user_guide/indexing.html#returning-a-view-versus-a-copy\n",
      "\n",
      "C:\\Users\\bruno.bfn\\AppData\\Local\\Temp\\ipykernel_16756\\2354284782.py:5: SettingWithCopyWarning:\n",
      "\n",
      "\n",
      "A value is trying to be set on a copy of a slice from a DataFrame.\n",
      "Try using .loc[row_indexer,col_indexer] = value instead\n",
      "\n",
      "See the caveats in the documentation: https://pandas.pydata.org/pandas-docs/stable/user_guide/indexing.html#returning-a-view-versus-a-copy\n",
      "\n"
     ]
    },
    {
     "data": {
      "text/html": [
       "<div>\n",
       "<style scoped>\n",
       "    .dataframe tbody tr th:only-of-type {\n",
       "        vertical-align: middle;\n",
       "    }\n",
       "\n",
       "    .dataframe tbody tr th {\n",
       "        vertical-align: top;\n",
       "    }\n",
       "\n",
       "    .dataframe thead th {\n",
       "        text-align: right;\n",
       "    }\n",
       "</style>\n",
       "<table border=\"1\" class=\"dataframe\">\n",
       "  <thead>\n",
       "    <tr style=\"text-align: right;\">\n",
       "      <th></th>\n",
       "      <th>Data</th>\n",
       "      <th>Media</th>\n",
       "      <th>Mediana</th>\n",
       "      <th>DesvioPadrao</th>\n",
       "      <th>Minimo</th>\n",
       "      <th>Maximo</th>\n",
       "      <th>numeroRespondentes</th>\n",
       "      <th>baseCalculo</th>\n",
       "      <th>data_reuniao</th>\n",
       "      <th>mediana_mensal</th>\n",
       "      <th>num_indice</th>\n",
       "    </tr>\n",
       "    <tr>\n",
       "      <th>Reuniao</th>\n",
       "      <th></th>\n",
       "      <th></th>\n",
       "      <th></th>\n",
       "      <th></th>\n",
       "      <th></th>\n",
       "      <th></th>\n",
       "      <th></th>\n",
       "      <th></th>\n",
       "      <th></th>\n",
       "      <th></th>\n",
       "      <th></th>\n",
       "    </tr>\n",
       "  </thead>\n",
       "  <tbody>\n",
       "    <tr>\n",
       "      <th>R6/2022</th>\n",
       "      <td>2022-08-12</td>\n",
       "      <td>13.78</td>\n",
       "      <td>13.75</td>\n",
       "      <td>0.08</td>\n",
       "      <td>13.75</td>\n",
       "      <td>14.00</td>\n",
       "      <td>69</td>\n",
       "      <td>1</td>\n",
       "      <td>2022-09-21</td>\n",
       "      <td>0.01</td>\n",
       "      <td>1000</td>\n",
       "    </tr>\n",
       "    <tr>\n",
       "      <th>R7/2022</th>\n",
       "      <td>2022-08-12</td>\n",
       "      <td>13.79</td>\n",
       "      <td>13.75</td>\n",
       "      <td>0.10</td>\n",
       "      <td>13.75</td>\n",
       "      <td>14.25</td>\n",
       "      <td>69</td>\n",
       "      <td>1</td>\n",
       "      <td>2022-10-26</td>\n",
       "      <td>0.01</td>\n",
       "      <td>1000</td>\n",
       "    </tr>\n",
       "    <tr>\n",
       "      <th>R8/2022</th>\n",
       "      <td>2022-08-12</td>\n",
       "      <td>13.78</td>\n",
       "      <td>13.75</td>\n",
       "      <td>0.10</td>\n",
       "      <td>13.50</td>\n",
       "      <td>14.25</td>\n",
       "      <td>69</td>\n",
       "      <td>1</td>\n",
       "      <td>2022-12-07</td>\n",
       "      <td>0.01</td>\n",
       "      <td>1000</td>\n",
       "    </tr>\n",
       "    <tr>\n",
       "      <th>R1/2023</th>\n",
       "      <td>2022-08-12</td>\n",
       "      <td>13.77</td>\n",
       "      <td>13.75</td>\n",
       "      <td>0.12</td>\n",
       "      <td>13.25</td>\n",
       "      <td>14.25</td>\n",
       "      <td>67</td>\n",
       "      <td>1</td>\n",
       "      <td>2023-02-01</td>\n",
       "      <td>0.01</td>\n",
       "      <td>1000</td>\n",
       "    </tr>\n",
       "    <tr>\n",
       "      <th>R2/2023</th>\n",
       "      <td>2022-08-12</td>\n",
       "      <td>13.71</td>\n",
       "      <td>13.75</td>\n",
       "      <td>0.23</td>\n",
       "      <td>12.75</td>\n",
       "      <td>14.25</td>\n",
       "      <td>67</td>\n",
       "      <td>1</td>\n",
       "      <td>2023-03-22</td>\n",
       "      <td>0.01</td>\n",
       "      <td>1000</td>\n",
       "    </tr>\n",
       "    <tr>\n",
       "      <th>R3/2023</th>\n",
       "      <td>2022-08-12</td>\n",
       "      <td>13.53</td>\n",
       "      <td>13.75</td>\n",
       "      <td>0.44</td>\n",
       "      <td>12.00</td>\n",
       "      <td>14.25</td>\n",
       "      <td>67</td>\n",
       "      <td>1</td>\n",
       "      <td>2023-05-03</td>\n",
       "      <td>0.01</td>\n",
       "      <td>1000</td>\n",
       "    </tr>\n",
       "    <tr>\n",
       "      <th>R4/2023</th>\n",
       "      <td>2022-08-12</td>\n",
       "      <td>13.21</td>\n",
       "      <td>13.50</td>\n",
       "      <td>0.64</td>\n",
       "      <td>11.50</td>\n",
       "      <td>14.25</td>\n",
       "      <td>67</td>\n",
       "      <td>1</td>\n",
       "      <td>2023-06-21</td>\n",
       "      <td>0.01</td>\n",
       "      <td>1000</td>\n",
       "    </tr>\n",
       "    <tr>\n",
       "      <th>R5/2023</th>\n",
       "      <td>2022-08-12</td>\n",
       "      <td>12.74</td>\n",
       "      <td>12.75</td>\n",
       "      <td>0.74</td>\n",
       "      <td>10.50</td>\n",
       "      <td>14.00</td>\n",
       "      <td>67</td>\n",
       "      <td>1</td>\n",
       "      <td>2023-08-02</td>\n",
       "      <td>0.01</td>\n",
       "      <td>1000</td>\n",
       "    </tr>\n",
       "    <tr>\n",
       "      <th>R6/2023</th>\n",
       "      <td>2022-08-12</td>\n",
       "      <td>12.21</td>\n",
       "      <td>12.25</td>\n",
       "      <td>0.78</td>\n",
       "      <td>10.50</td>\n",
       "      <td>13.75</td>\n",
       "      <td>67</td>\n",
       "      <td>1</td>\n",
       "      <td>2023-09-20</td>\n",
       "      <td>0.01</td>\n",
       "      <td>1000</td>\n",
       "    </tr>\n",
       "    <tr>\n",
       "      <th>R7/2023</th>\n",
       "      <td>2022-08-12</td>\n",
       "      <td>11.62</td>\n",
       "      <td>11.75</td>\n",
       "      <td>0.80</td>\n",
       "      <td>10.00</td>\n",
       "      <td>13.75</td>\n",
       "      <td>67</td>\n",
       "      <td>1</td>\n",
       "      <td>2023-11-01</td>\n",
       "      <td>0.01</td>\n",
       "      <td>1000</td>\n",
       "    </tr>\n",
       "    <tr>\n",
       "      <th>R8/2023</th>\n",
       "      <td>2022-08-12</td>\n",
       "      <td>11.04</td>\n",
       "      <td>11.00</td>\n",
       "      <td>0.86</td>\n",
       "      <td>9.00</td>\n",
       "      <td>13.75</td>\n",
       "      <td>68</td>\n",
       "      <td>1</td>\n",
       "      <td>2023-12-13</td>\n",
       "      <td>0.01</td>\n",
       "      <td>1000</td>\n",
       "    </tr>\n",
       "    <tr>\n",
       "      <th>R1/2024</th>\n",
       "      <td>2022-08-12</td>\n",
       "      <td>10.41</td>\n",
       "      <td>10.50</td>\n",
       "      <td>0.84</td>\n",
       "      <td>8.50</td>\n",
       "      <td>12.00</td>\n",
       "      <td>60</td>\n",
       "      <td>1</td>\n",
       "      <td>2024-01-31</td>\n",
       "      <td>0.01</td>\n",
       "      <td>1000</td>\n",
       "    </tr>\n",
       "    <tr>\n",
       "      <th>R2/2024</th>\n",
       "      <td>2022-08-12</td>\n",
       "      <td>9.91</td>\n",
       "      <td>10.00</td>\n",
       "      <td>0.91</td>\n",
       "      <td>7.50</td>\n",
       "      <td>11.50</td>\n",
       "      <td>59</td>\n",
       "      <td>1</td>\n",
       "      <td>2024-03-20</td>\n",
       "      <td>0.01</td>\n",
       "      <td>1000</td>\n",
       "    </tr>\n",
       "    <tr>\n",
       "      <th>R3/2024</th>\n",
       "      <td>2022-08-12</td>\n",
       "      <td>9.47</td>\n",
       "      <td>9.50</td>\n",
       "      <td>0.97</td>\n",
       "      <td>7.50</td>\n",
       "      <td>11.50</td>\n",
       "      <td>59</td>\n",
       "      <td>1</td>\n",
       "      <td>2024-05-08</td>\n",
       "      <td>0.01</td>\n",
       "      <td>1000</td>\n",
       "    </tr>\n",
       "    <tr>\n",
       "      <th>R4/2024</th>\n",
       "      <td>2022-08-12</td>\n",
       "      <td>9.10</td>\n",
       "      <td>9.00</td>\n",
       "      <td>0.98</td>\n",
       "      <td>7.00</td>\n",
       "      <td>11.25</td>\n",
       "      <td>58</td>\n",
       "      <td>1</td>\n",
       "      <td>2024-06-26</td>\n",
       "      <td>0.01</td>\n",
       "      <td>1000</td>\n",
       "    </tr>\n",
       "    <tr>\n",
       "      <th>R5/2024</th>\n",
       "      <td>2022-08-12</td>\n",
       "      <td>8.86</td>\n",
       "      <td>8.75</td>\n",
       "      <td>0.95</td>\n",
       "      <td>7.00</td>\n",
       "      <td>11.00</td>\n",
       "      <td>42</td>\n",
       "      <td>1</td>\n",
       "      <td>2024-08-14</td>\n",
       "      <td>0.01</td>\n",
       "      <td>1000</td>\n",
       "    </tr>\n",
       "  </tbody>\n",
       "</table>\n",
       "</div>"
      ],
      "text/plain": [
       "               Data  Media  Mediana  DesvioPadrao  Minimo  Maximo  \\\n",
       "Reuniao                                                             \n",
       "R6/2022  2022-08-12  13.78    13.75          0.08   13.75   14.00   \n",
       "R7/2022  2022-08-12  13.79    13.75          0.10   13.75   14.25   \n",
       "R8/2022  2022-08-12  13.78    13.75          0.10   13.50   14.25   \n",
       "R1/2023  2022-08-12  13.77    13.75          0.12   13.25   14.25   \n",
       "R2/2023  2022-08-12  13.71    13.75          0.23   12.75   14.25   \n",
       "R3/2023  2022-08-12  13.53    13.75          0.44   12.00   14.25   \n",
       "R4/2023  2022-08-12  13.21    13.50          0.64   11.50   14.25   \n",
       "R5/2023  2022-08-12  12.74    12.75          0.74   10.50   14.00   \n",
       "R6/2023  2022-08-12  12.21    12.25          0.78   10.50   13.75   \n",
       "R7/2023  2022-08-12  11.62    11.75          0.80   10.00   13.75   \n",
       "R8/2023  2022-08-12  11.04    11.00          0.86    9.00   13.75   \n",
       "R1/2024  2022-08-12  10.41    10.50          0.84    8.50   12.00   \n",
       "R2/2024  2022-08-12   9.91    10.00          0.91    7.50   11.50   \n",
       "R3/2024  2022-08-12   9.47     9.50          0.97    7.50   11.50   \n",
       "R4/2024  2022-08-12   9.10     9.00          0.98    7.00   11.25   \n",
       "R5/2024  2022-08-12   8.86     8.75          0.95    7.00   11.00   \n",
       "\n",
       "         numeroRespondentes  baseCalculo data_reuniao  mediana_mensal  \\\n",
       "Reuniao                                                                 \n",
       "R6/2022                  69            1   2022-09-21            0.01   \n",
       "R7/2022                  69            1   2022-10-26            0.01   \n",
       "R8/2022                  69            1   2022-12-07            0.01   \n",
       "R1/2023                  67            1   2023-02-01            0.01   \n",
       "R2/2023                  67            1   2023-03-22            0.01   \n",
       "R3/2023                  67            1   2023-05-03            0.01   \n",
       "R4/2023                  67            1   2023-06-21            0.01   \n",
       "R5/2023                  67            1   2023-08-02            0.01   \n",
       "R6/2023                  67            1   2023-09-20            0.01   \n",
       "R7/2023                  67            1   2023-11-01            0.01   \n",
       "R8/2023                  68            1   2023-12-13            0.01   \n",
       "R1/2024                  60            1   2024-01-31            0.01   \n",
       "R2/2024                  59            1   2024-03-20            0.01   \n",
       "R3/2024                  59            1   2024-05-08            0.01   \n",
       "R4/2024                  58            1   2024-06-26            0.01   \n",
       "R5/2024                  42            1   2024-08-14            0.01   \n",
       "\n",
       "         num_indice  \n",
       "Reuniao              \n",
       "R6/2022        1000  \n",
       "R7/2022        1000  \n",
       "R8/2022        1000  \n",
       "R1/2023        1000  \n",
       "R2/2023        1000  \n",
       "R3/2023        1000  \n",
       "R4/2023        1000  \n",
       "R5/2023        1000  \n",
       "R6/2023        1000  \n",
       "R7/2023        1000  \n",
       "R8/2023        1000  \n",
       "R1/2024        1000  \n",
       "R2/2024        1000  \n",
       "R3/2024        1000  \n",
       "R4/2024        1000  \n",
       "R5/2024        1000  "
      ]
     },
     "execution_count": 8,
     "metadata": {},
     "output_type": "execute_result"
    }
   ],
   "source": [
    "# Expectativa mais atual\n",
    "\n",
    "df_selic_ultima=df_selic[df_selic['Data']==df_selic['Data'].max()]\n",
    "df_selic_ultima['mediana_mensal']=df_selic_ultima.apply(lambda x: (1+(x.Mediana/100))**(1/12)-1,axis=1)\n",
    "df_selic_ultima['num_indice']=1000\n",
    "pd.options.display.float_format = '{:,.2f}'.format\n",
    "#### Definir número indice  #######\n",
    "# df_selic_ultima['num_indice']=df_selic_ultima.apply(lambda x: x.num_indice*((1+x.Mediana/100)**((x.data_reuniao-datetime.datetime.today().date()).days)/(365)),axis=1)  \n",
    "# df_selic_ultima['cumsum_mediana_mensal']=df_selic_ultima['mediana_mensal'].cumsum()\n",
    "df_selic_ultima.to_csv('./output/selic_ultima_expectativa.csv')\n",
    "df_selic_ultima"
   ]
  },
  {
   "cell_type": "code",
   "execution_count": 9,
   "metadata": {},
   "outputs": [
    {
     "data": {
      "text/html": [
       "<div>\n",
       "<style scoped>\n",
       "    .dataframe tbody tr th:only-of-type {\n",
       "        vertical-align: middle;\n",
       "    }\n",
       "\n",
       "    .dataframe tbody tr th {\n",
       "        vertical-align: top;\n",
       "    }\n",
       "\n",
       "    .dataframe thead th {\n",
       "        text-align: right;\n",
       "    }\n",
       "</style>\n",
       "<table border=\"1\" class=\"dataframe\">\n",
       "  <thead>\n",
       "    <tr style=\"text-align: right;\">\n",
       "      <th></th>\n",
       "      <th>Indicador</th>\n",
       "      <th>Data</th>\n",
       "      <th>DataReferencia</th>\n",
       "      <th>Media</th>\n",
       "      <th>Mediana</th>\n",
       "      <th>Minimo</th>\n",
       "      <th>Maximo</th>\n",
       "      <th>numeroRespondentes</th>\n",
       "    </tr>\n",
       "  </thead>\n",
       "  <tbody>\n",
       "    <tr>\n",
       "      <th>419</th>\n",
       "      <td>Taxa de desocupação</td>\n",
       "      <td>2022-08-12</td>\n",
       "      <td>2022-07-31</td>\n",
       "      <td>9.22</td>\n",
       "      <td>9.20</td>\n",
       "      <td>8.63</td>\n",
       "      <td>10.10</td>\n",
       "      <td>51</td>\n",
       "    </tr>\n",
       "    <tr>\n",
       "      <th>418</th>\n",
       "      <td>Taxa de desocupação</td>\n",
       "      <td>2022-08-12</td>\n",
       "      <td>2022-07-31</td>\n",
       "      <td>9.19</td>\n",
       "      <td>9.10</td>\n",
       "      <td>8.80</td>\n",
       "      <td>10.10</td>\n",
       "      <td>17</td>\n",
       "    </tr>\n",
       "    <tr>\n",
       "      <th>403</th>\n",
       "      <td>IPCA</td>\n",
       "      <td>2022-08-12</td>\n",
       "      <td>2022-08-31</td>\n",
       "      <td>-0.16</td>\n",
       "      <td>-0.19</td>\n",
       "      <td>-0.58</td>\n",
       "      <td>0.55</td>\n",
       "      <td>141</td>\n",
       "    </tr>\n",
       "    <tr>\n",
       "      <th>405</th>\n",
       "      <td>Câmbio</td>\n",
       "      <td>2022-08-12</td>\n",
       "      <td>2022-08-31</td>\n",
       "      <td>5.25</td>\n",
       "      <td>5.23</td>\n",
       "      <td>4.91</td>\n",
       "      <td>5.68</td>\n",
       "      <td>109</td>\n",
       "    </tr>\n",
       "    <tr>\n",
       "      <th>417</th>\n",
       "      <td>IPCA Administrados</td>\n",
       "      <td>2022-08-12</td>\n",
       "      <td>2022-08-31</td>\n",
       "      <td>-1.50</td>\n",
       "      <td>-1.64</td>\n",
       "      <td>-2.76</td>\n",
       "      <td>1.60</td>\n",
       "      <td>80</td>\n",
       "    </tr>\n",
       "    <tr>\n",
       "      <th>401</th>\n",
       "      <td>IGP-M</td>\n",
       "      <td>2022-08-12</td>\n",
       "      <td>2022-08-31</td>\n",
       "      <td>0.06</td>\n",
       "      <td>0.10</td>\n",
       "      <td>-0.90</td>\n",
       "      <td>0.85</td>\n",
       "      <td>78</td>\n",
       "    </tr>\n",
       "    <tr>\n",
       "      <th>409</th>\n",
       "      <td>IPCA Livres</td>\n",
       "      <td>2022-08-12</td>\n",
       "      <td>2022-08-31</td>\n",
       "      <td>0.35</td>\n",
       "      <td>0.38</td>\n",
       "      <td>-0.14</td>\n",
       "      <td>0.64</td>\n",
       "      <td>74</td>\n",
       "    </tr>\n",
       "    <tr>\n",
       "      <th>402</th>\n",
       "      <td>IPCA</td>\n",
       "      <td>2022-08-12</td>\n",
       "      <td>2022-08-31</td>\n",
       "      <td>-0.21</td>\n",
       "      <td>-0.20</td>\n",
       "      <td>-0.55</td>\n",
       "      <td>0.40</td>\n",
       "      <td>68</td>\n",
       "    </tr>\n",
       "    <tr>\n",
       "      <th>415</th>\n",
       "      <td>IPCA Alimentação no domicílio</td>\n",
       "      <td>2022-08-12</td>\n",
       "      <td>2022-08-31</td>\n",
       "      <td>0.53</td>\n",
       "      <td>0.50</td>\n",
       "      <td>-0.25</td>\n",
       "      <td>1.40</td>\n",
       "      <td>67</td>\n",
       "    </tr>\n",
       "    <tr>\n",
       "      <th>411</th>\n",
       "      <td>IPCA Serviços</td>\n",
       "      <td>2022-08-12</td>\n",
       "      <td>2022-08-31</td>\n",
       "      <td>0.26</td>\n",
       "      <td>0.30</td>\n",
       "      <td>-0.65</td>\n",
       "      <td>0.61</td>\n",
       "      <td>66</td>\n",
       "    </tr>\n",
       "    <tr>\n",
       "      <th>413</th>\n",
       "      <td>IPCA Bens industrializados</td>\n",
       "      <td>2022-08-12</td>\n",
       "      <td>2022-08-31</td>\n",
       "      <td>0.42</td>\n",
       "      <td>0.42</td>\n",
       "      <td>0.08</td>\n",
       "      <td>0.99</td>\n",
       "      <td>66</td>\n",
       "    </tr>\n",
       "    <tr>\n",
       "      <th>404</th>\n",
       "      <td>Câmbio</td>\n",
       "      <td>2022-08-12</td>\n",
       "      <td>2022-08-31</td>\n",
       "      <td>5.21</td>\n",
       "      <td>5.20</td>\n",
       "      <td>5.00</td>\n",
       "      <td>5.68</td>\n",
       "      <td>54</td>\n",
       "    </tr>\n",
       "    <tr>\n",
       "      <th>407</th>\n",
       "      <td>Taxa de desocupação</td>\n",
       "      <td>2022-08-12</td>\n",
       "      <td>2022-08-31</td>\n",
       "      <td>9.13</td>\n",
       "      <td>9.10</td>\n",
       "      <td>8.00</td>\n",
       "      <td>10.00</td>\n",
       "      <td>51</td>\n",
       "    </tr>\n",
       "    <tr>\n",
       "      <th>400</th>\n",
       "      <td>IGP-M</td>\n",
       "      <td>2022-08-12</td>\n",
       "      <td>2022-08-31</td>\n",
       "      <td>-0.07</td>\n",
       "      <td>-0.07</td>\n",
       "      <td>-0.70</td>\n",
       "      <td>0.85</td>\n",
       "      <td>35</td>\n",
       "    </tr>\n",
       "    <tr>\n",
       "      <th>416</th>\n",
       "      <td>IPCA Administrados</td>\n",
       "      <td>2022-08-12</td>\n",
       "      <td>2022-08-31</td>\n",
       "      <td>-1.37</td>\n",
       "      <td>-1.60</td>\n",
       "      <td>-2.30</td>\n",
       "      <td>1.60</td>\n",
       "      <td>26</td>\n",
       "    </tr>\n",
       "    <tr>\n",
       "      <th>408</th>\n",
       "      <td>IPCA Livres</td>\n",
       "      <td>2022-08-12</td>\n",
       "      <td>2022-08-31</td>\n",
       "      <td>0.32</td>\n",
       "      <td>0.34</td>\n",
       "      <td>-0.14</td>\n",
       "      <td>0.52</td>\n",
       "      <td>24</td>\n",
       "    </tr>\n",
       "    <tr>\n",
       "      <th>412</th>\n",
       "      <td>IPCA Bens industrializados</td>\n",
       "      <td>2022-08-12</td>\n",
       "      <td>2022-08-31</td>\n",
       "      <td>0.37</td>\n",
       "      <td>0.33</td>\n",
       "      <td>0.10</td>\n",
       "      <td>0.73</td>\n",
       "      <td>18</td>\n",
       "    </tr>\n",
       "    <tr>\n",
       "      <th>414</th>\n",
       "      <td>IPCA Alimentação no domicílio</td>\n",
       "      <td>2022-08-12</td>\n",
       "      <td>2022-08-31</td>\n",
       "      <td>0.37</td>\n",
       "      <td>0.34</td>\n",
       "      <td>-0.11</td>\n",
       "      <td>1.10</td>\n",
       "      <td>18</td>\n",
       "    </tr>\n",
       "    <tr>\n",
       "      <th>406</th>\n",
       "      <td>Taxa de desocupação</td>\n",
       "      <td>2022-08-12</td>\n",
       "      <td>2022-08-31</td>\n",
       "      <td>9.10</td>\n",
       "      <td>9.10</td>\n",
       "      <td>8.20</td>\n",
       "      <td>10.00</td>\n",
       "      <td>17</td>\n",
       "    </tr>\n",
       "    <tr>\n",
       "      <th>410</th>\n",
       "      <td>IPCA Serviços</td>\n",
       "      <td>2022-08-12</td>\n",
       "      <td>2022-08-31</td>\n",
       "      <td>0.30</td>\n",
       "      <td>0.35</td>\n",
       "      <td>-0.20</td>\n",
       "      <td>0.57</td>\n",
       "      <td>17</td>\n",
       "    </tr>\n",
       "  </tbody>\n",
       "</table>\n",
       "</div>"
      ],
      "text/plain": [
       "                         Indicador        Data DataReferencia  Media  Mediana  \\\n",
       "419            Taxa de desocupação  2022-08-12     2022-07-31   9.22     9.20   \n",
       "418            Taxa de desocupação  2022-08-12     2022-07-31   9.19     9.10   \n",
       "403                           IPCA  2022-08-12     2022-08-31  -0.16    -0.19   \n",
       "405                         Câmbio  2022-08-12     2022-08-31   5.25     5.23   \n",
       "417             IPCA Administrados  2022-08-12     2022-08-31  -1.50    -1.64   \n",
       "401                          IGP-M  2022-08-12     2022-08-31   0.06     0.10   \n",
       "409                    IPCA Livres  2022-08-12     2022-08-31   0.35     0.38   \n",
       "402                           IPCA  2022-08-12     2022-08-31  -0.21    -0.20   \n",
       "415  IPCA Alimentação no domicílio  2022-08-12     2022-08-31   0.53     0.50   \n",
       "411                  IPCA Serviços  2022-08-12     2022-08-31   0.26     0.30   \n",
       "413     IPCA Bens industrializados  2022-08-12     2022-08-31   0.42     0.42   \n",
       "404                         Câmbio  2022-08-12     2022-08-31   5.21     5.20   \n",
       "407            Taxa de desocupação  2022-08-12     2022-08-31   9.13     9.10   \n",
       "400                          IGP-M  2022-08-12     2022-08-31  -0.07    -0.07   \n",
       "416             IPCA Administrados  2022-08-12     2022-08-31  -1.37    -1.60   \n",
       "408                    IPCA Livres  2022-08-12     2022-08-31   0.32     0.34   \n",
       "412     IPCA Bens industrializados  2022-08-12     2022-08-31   0.37     0.33   \n",
       "414  IPCA Alimentação no domicílio  2022-08-12     2022-08-31   0.37     0.34   \n",
       "406            Taxa de desocupação  2022-08-12     2022-08-31   9.10     9.10   \n",
       "410                  IPCA Serviços  2022-08-12     2022-08-31   0.30     0.35   \n",
       "\n",
       "     Minimo  Maximo  numeroRespondentes  \n",
       "419    8.63   10.10                  51  \n",
       "418    8.80   10.10                  17  \n",
       "403   -0.58    0.55                 141  \n",
       "405    4.91    5.68                 109  \n",
       "417   -2.76    1.60                  80  \n",
       "401   -0.90    0.85                  78  \n",
       "409   -0.14    0.64                  74  \n",
       "402   -0.55    0.40                  68  \n",
       "415   -0.25    1.40                  67  \n",
       "411   -0.65    0.61                  66  \n",
       "413    0.08    0.99                  66  \n",
       "404    5.00    5.68                  54  \n",
       "407    8.00   10.00                  51  \n",
       "400   -0.70    0.85                  35  \n",
       "416   -2.30    1.60                  26  \n",
       "408   -0.14    0.52                  24  \n",
       "412    0.10    0.73                  18  \n",
       "414   -0.11    1.10                  18  \n",
       "406    8.20   10.00                  17  \n",
       "410   -0.20    0.57                  17  "
      ]
     },
     "execution_count": 9,
     "metadata": {},
     "output_type": "execute_result"
    }
   ],
   "source": [
    "df_monthly=pd.read_csv('./output/monthly_data_df.csv')\n",
    "df_monthly=df_monthly.drop(columns=['Unnamed: 0'])\n",
    "\n",
    "# Parses\n",
    "df_monthly['Data']=df_monthly.apply(lambda x: datetime.datetime.strptime(x.Data,'%Y-%m-%d').date(),axis=1)\n",
    "\n",
    "df_monthly['DataReferencia']=df_monthly.apply(lambda x: datetime.datetime.strptime(x.DataReferencia,'%m/%Y').date(),axis=1)\n",
    "delta = relativedelta(months=1)\n",
    "delta_d = timedelta(days=1)\n",
    "df_monthly['DataReferencia']=df_monthly.apply(lambda x: x.DataReferencia+delta-delta_d,axis=1)\n",
    "\n",
    "df_monthly=df_monthly.sort_values(by=['Data','DataReferencia','numeroRespondentes'],ascending=[False,True,False])\n",
    "# df_monthly=df_selic[df_selic['baseCalculo']==1]           # não sei qual é a diferença da base de cálculo.\n",
    "df_monthly.head(20)"
   ]
  },
  {
   "cell_type": "code",
   "execution_count": 10,
   "metadata": {},
   "outputs": [
    {
     "data": {
      "text/plain": [
       "array(['Taxa de desocupação', 'IPCA', 'Câmbio', 'IPCA Administrados',\n",
       "       'IGP-M', 'IPCA Livres', 'IPCA Alimentação no domicílio',\n",
       "       'IPCA Serviços', 'IPCA Bens industrializados'], dtype=object)"
      ]
     },
     "execution_count": 10,
     "metadata": {},
     "output_type": "execute_result"
    }
   ],
   "source": [
    "df_monthly['Indicador'].unique()"
   ]
  },
  {
   "cell_type": "code",
   "execution_count": 11,
   "metadata": {},
   "outputs": [
    {
     "data": {
      "text/plain": [
       "'./output/tx_desocupacao_forcast.html'"
      ]
     },
     "execution_count": 11,
     "metadata": {},
     "output_type": "execute_result"
    }
   ],
   "source": [
    "# Gráfico iterativo utilizando o plotly\n",
    "fig=px.line(df_monthly[df_monthly['Indicador']=='IPCA'],x='DataReferencia',y='Mediana', color='Data')\n",
    "# Gerando arquivo com o resultado\n",
    "plotly.offline.plot(fig, show_link = True,filename=f'./output/IPCA_forcast.html')\n",
    "# fig.show()\n",
    "\n",
    "# Gráfico iterativo utilizando o plotly\n",
    "fig=px.line(df_monthly[df_monthly['Indicador']=='IGP-M'],x='DataReferencia',y='Mediana', color='Data')\n",
    "# Gerando arquivo com o resultado\n",
    "plotly.offline.plot(fig, show_link = True,filename=f'./output/IGPM_forcast.html')\n",
    "# fig.show()\n",
    "\n",
    "# Gráfico iterativo utilizando o plotly\n",
    "fig=px.line(df_monthly[df_monthly['Indicador']=='Câmbio'],x='DataReferencia',y='Mediana', color='Data')\n",
    "# Gerando arquivo com o resultado\n",
    "plotly.offline.plot(fig, show_link = True,filename=f'./output/cambio_forcast.html')\n",
    "# fig.show()\n",
    "\n",
    "# Gráfico iterativo utilizando o plotly\n",
    "fig=px.line(df_monthly[df_monthly['Indicador']=='Taxa de desocupação'],x='DataReferencia',y='Mediana', color='Data')\n",
    "# Gerando arquivo com o resultado\n",
    "plotly.offline.plot(fig, show_link = True,filename=f'./output/tx_desocupacao_forcast.html')\n",
    "# fig.show()"
   ]
  },
  {
   "cell_type": "code",
   "execution_count": 12,
   "metadata": {},
   "outputs": [
    {
     "data": {
      "text/html": [
       "<div>\n",
       "<style scoped>\n",
       "    .dataframe tbody tr th:only-of-type {\n",
       "        vertical-align: middle;\n",
       "    }\n",
       "\n",
       "    .dataframe tbody tr th {\n",
       "        vertical-align: top;\n",
       "    }\n",
       "\n",
       "    .dataframe thead th {\n",
       "        text-align: right;\n",
       "    }\n",
       "</style>\n",
       "<table border=\"1\" class=\"dataframe\">\n",
       "  <thead>\n",
       "    <tr style=\"text-align: right;\">\n",
       "      <th></th>\n",
       "      <th>Media</th>\n",
       "      <th>Mediana</th>\n",
       "      <th>Minimo</th>\n",
       "      <th>Maximo</th>\n",
       "      <th>numeroRespondentes</th>\n",
       "      <th>cumsum_mediana</th>\n",
       "    </tr>\n",
       "    <tr>\n",
       "      <th>DataReferencia</th>\n",
       "      <th></th>\n",
       "      <th></th>\n",
       "      <th></th>\n",
       "      <th></th>\n",
       "      <th></th>\n",
       "      <th></th>\n",
       "    </tr>\n",
       "  </thead>\n",
       "  <tbody>\n",
       "    <tr>\n",
       "      <th>2022-08-31</th>\n",
       "      <td>-0.19</td>\n",
       "      <td>-0.20</td>\n",
       "      <td>-0.56</td>\n",
       "      <td>0.48</td>\n",
       "      <td>104.50</td>\n",
       "      <td>-0.20</td>\n",
       "    </tr>\n",
       "    <tr>\n",
       "      <th>2022-09-30</th>\n",
       "      <td>0.46</td>\n",
       "      <td>0.46</td>\n",
       "      <td>0.14</td>\n",
       "      <td>0.75</td>\n",
       "      <td>104.50</td>\n",
       "      <td>0.27</td>\n",
       "    </tr>\n",
       "    <tr>\n",
       "      <th>2022-10-31</th>\n",
       "      <td>0.54</td>\n",
       "      <td>0.54</td>\n",
       "      <td>0.20</td>\n",
       "      <td>0.84</td>\n",
       "      <td>103.00</td>\n",
       "      <td>0.81</td>\n",
       "    </tr>\n",
       "    <tr>\n",
       "      <th>2022-11-30</th>\n",
       "      <td>0.53</td>\n",
       "      <td>0.53</td>\n",
       "      <td>0.13</td>\n",
       "      <td>0.76</td>\n",
       "      <td>102.00</td>\n",
       "      <td>1.33</td>\n",
       "    </tr>\n",
       "    <tr>\n",
       "      <th>2022-12-31</th>\n",
       "      <td>0.74</td>\n",
       "      <td>0.74</td>\n",
       "      <td>0.23</td>\n",
       "      <td>1.10</td>\n",
       "      <td>102.00</td>\n",
       "      <td>2.07</td>\n",
       "    </tr>\n",
       "    <tr>\n",
       "      <th>2023-01-31</th>\n",
       "      <td>0.77</td>\n",
       "      <td>0.73</td>\n",
       "      <td>0.29</td>\n",
       "      <td>1.50</td>\n",
       "      <td>100.00</td>\n",
       "      <td>2.80</td>\n",
       "    </tr>\n",
       "    <tr>\n",
       "      <th>2023-02-28</th>\n",
       "      <td>0.67</td>\n",
       "      <td>0.67</td>\n",
       "      <td>0.30</td>\n",
       "      <td>1.15</td>\n",
       "      <td>100.00</td>\n",
       "      <td>3.47</td>\n",
       "    </tr>\n",
       "    <tr>\n",
       "      <th>2023-03-31</th>\n",
       "      <td>0.47</td>\n",
       "      <td>0.47</td>\n",
       "      <td>0.20</td>\n",
       "      <td>1.06</td>\n",
       "      <td>100.00</td>\n",
       "      <td>3.93</td>\n",
       "    </tr>\n",
       "    <tr>\n",
       "      <th>2023-04-30</th>\n",
       "      <td>0.45</td>\n",
       "      <td>0.45</td>\n",
       "      <td>0.17</td>\n",
       "      <td>0.75</td>\n",
       "      <td>100.00</td>\n",
       "      <td>4.38</td>\n",
       "    </tr>\n",
       "    <tr>\n",
       "      <th>2023-05-31</th>\n",
       "      <td>0.34</td>\n",
       "      <td>0.34</td>\n",
       "      <td>0.02</td>\n",
       "      <td>0.74</td>\n",
       "      <td>100.00</td>\n",
       "      <td>4.72</td>\n",
       "    </tr>\n",
       "    <tr>\n",
       "      <th>2023-06-30</th>\n",
       "      <td>0.32</td>\n",
       "      <td>0.32</td>\n",
       "      <td>0.03</td>\n",
       "      <td>0.62</td>\n",
       "      <td>100.00</td>\n",
       "      <td>5.04</td>\n",
       "    </tr>\n",
       "    <tr>\n",
       "      <th>2023-07-31</th>\n",
       "      <td>0.32</td>\n",
       "      <td>0.30</td>\n",
       "      <td>0.07</td>\n",
       "      <td>0.66</td>\n",
       "      <td>100.00</td>\n",
       "      <td>5.34</td>\n",
       "    </tr>\n",
       "    <tr>\n",
       "      <th>2023-08-31</th>\n",
       "      <td>0.25</td>\n",
       "      <td>0.24</td>\n",
       "      <td>-0.02</td>\n",
       "      <td>0.54</td>\n",
       "      <td>100.00</td>\n",
       "      <td>5.58</td>\n",
       "    </tr>\n",
       "    <tr>\n",
       "      <th>2023-09-30</th>\n",
       "      <td>0.32</td>\n",
       "      <td>0.33</td>\n",
       "      <td>-0.18</td>\n",
       "      <td>0.57</td>\n",
       "      <td>100.00</td>\n",
       "      <td>5.91</td>\n",
       "    </tr>\n",
       "    <tr>\n",
       "      <th>2023-10-31</th>\n",
       "      <td>0.39</td>\n",
       "      <td>0.40</td>\n",
       "      <td>-0.10</td>\n",
       "      <td>0.76</td>\n",
       "      <td>100.00</td>\n",
       "      <td>6.31</td>\n",
       "    </tr>\n",
       "    <tr>\n",
       "      <th>2023-11-30</th>\n",
       "      <td>0.36</td>\n",
       "      <td>0.38</td>\n",
       "      <td>-0.21</td>\n",
       "      <td>0.58</td>\n",
       "      <td>100.00</td>\n",
       "      <td>6.69</td>\n",
       "    </tr>\n",
       "    <tr>\n",
       "      <th>2023-12-31</th>\n",
       "      <td>0.52</td>\n",
       "      <td>0.52</td>\n",
       "      <td>-0.09</td>\n",
       "      <td>1.46</td>\n",
       "      <td>100.00</td>\n",
       "      <td>7.21</td>\n",
       "    </tr>\n",
       "    <tr>\n",
       "      <th>2024-01-31</th>\n",
       "      <td>0.42</td>\n",
       "      <td>0.40</td>\n",
       "      <td>0.09</td>\n",
       "      <td>0.80</td>\n",
       "      <td>70.50</td>\n",
       "      <td>7.60</td>\n",
       "    </tr>\n",
       "    <tr>\n",
       "      <th>2024-02-29</th>\n",
       "      <td>0.41</td>\n",
       "      <td>0.40</td>\n",
       "      <td>0.20</td>\n",
       "      <td>0.80</td>\n",
       "      <td>70.00</td>\n",
       "      <td>8.00</td>\n",
       "    </tr>\n",
       "    <tr>\n",
       "      <th>2024-03-31</th>\n",
       "      <td>0.33</td>\n",
       "      <td>0.30</td>\n",
       "      <td>0.14</td>\n",
       "      <td>0.76</td>\n",
       "      <td>69.00</td>\n",
       "      <td>8.30</td>\n",
       "    </tr>\n",
       "    <tr>\n",
       "      <th>2024-04-30</th>\n",
       "      <td>0.32</td>\n",
       "      <td>0.31</td>\n",
       "      <td>0.17</td>\n",
       "      <td>0.60</td>\n",
       "      <td>68.50</td>\n",
       "      <td>8.61</td>\n",
       "    </tr>\n",
       "    <tr>\n",
       "      <th>2024-05-31</th>\n",
       "      <td>0.25</td>\n",
       "      <td>0.24</td>\n",
       "      <td>-0.12</td>\n",
       "      <td>0.51</td>\n",
       "      <td>67.50</td>\n",
       "      <td>8.86</td>\n",
       "    </tr>\n",
       "    <tr>\n",
       "      <th>2024-06-30</th>\n",
       "      <td>0.23</td>\n",
       "      <td>0.21</td>\n",
       "      <td>0.04</td>\n",
       "      <td>0.55</td>\n",
       "      <td>67.50</td>\n",
       "      <td>9.07</td>\n",
       "    </tr>\n",
       "    <tr>\n",
       "      <th>2024-07-31</th>\n",
       "      <td>0.21</td>\n",
       "      <td>0.21</td>\n",
       "      <td>-0.02</td>\n",
       "      <td>0.47</td>\n",
       "      <td>63.50</td>\n",
       "      <td>9.28</td>\n",
       "    </tr>\n",
       "    <tr>\n",
       "      <th>2024-08-31</th>\n",
       "      <td>0.17</td>\n",
       "      <td>0.15</td>\n",
       "      <td>-0.03</td>\n",
       "      <td>0.41</td>\n",
       "      <td>25.00</td>\n",
       "      <td>9.43</td>\n",
       "    </tr>\n",
       "  </tbody>\n",
       "</table>\n",
       "</div>"
      ],
      "text/plain": [
       "                Media  Mediana  Minimo  Maximo  numeroRespondentes  \\\n",
       "DataReferencia                                                       \n",
       "2022-08-31      -0.19    -0.20   -0.56    0.48              104.50   \n",
       "2022-09-30       0.46     0.46    0.14    0.75              104.50   \n",
       "2022-10-31       0.54     0.54    0.20    0.84              103.00   \n",
       "2022-11-30       0.53     0.53    0.13    0.76              102.00   \n",
       "2022-12-31       0.74     0.74    0.23    1.10              102.00   \n",
       "2023-01-31       0.77     0.73    0.29    1.50              100.00   \n",
       "2023-02-28       0.67     0.67    0.30    1.15              100.00   \n",
       "2023-03-31       0.47     0.47    0.20    1.06              100.00   \n",
       "2023-04-30       0.45     0.45    0.17    0.75              100.00   \n",
       "2023-05-31       0.34     0.34    0.02    0.74              100.00   \n",
       "2023-06-30       0.32     0.32    0.03    0.62              100.00   \n",
       "2023-07-31       0.32     0.30    0.07    0.66              100.00   \n",
       "2023-08-31       0.25     0.24   -0.02    0.54              100.00   \n",
       "2023-09-30       0.32     0.33   -0.18    0.57              100.00   \n",
       "2023-10-31       0.39     0.40   -0.10    0.76              100.00   \n",
       "2023-11-30       0.36     0.38   -0.21    0.58              100.00   \n",
       "2023-12-31       0.52     0.52   -0.09    1.46              100.00   \n",
       "2024-01-31       0.42     0.40    0.09    0.80               70.50   \n",
       "2024-02-29       0.41     0.40    0.20    0.80               70.00   \n",
       "2024-03-31       0.33     0.30    0.14    0.76               69.00   \n",
       "2024-04-30       0.32     0.31    0.17    0.60               68.50   \n",
       "2024-05-31       0.25     0.24   -0.12    0.51               67.50   \n",
       "2024-06-30       0.23     0.21    0.04    0.55               67.50   \n",
       "2024-07-31       0.21     0.21   -0.02    0.47               63.50   \n",
       "2024-08-31       0.17     0.15   -0.03    0.41               25.00   \n",
       "\n",
       "                cumsum_mediana  \n",
       "DataReferencia                  \n",
       "2022-08-31               -0.20  \n",
       "2022-09-30                0.27  \n",
       "2022-10-31                0.81  \n",
       "2022-11-30                1.33  \n",
       "2022-12-31                2.07  \n",
       "2023-01-31                2.80  \n",
       "2023-02-28                3.47  \n",
       "2023-03-31                3.93  \n",
       "2023-04-30                4.38  \n",
       "2023-05-31                4.72  \n",
       "2023-06-30                5.04  \n",
       "2023-07-31                5.34  \n",
       "2023-08-31                5.58  \n",
       "2023-09-30                5.91  \n",
       "2023-10-31                6.31  \n",
       "2023-11-30                6.69  \n",
       "2023-12-31                7.21  \n",
       "2024-01-31                7.60  \n",
       "2024-02-29                8.00  \n",
       "2024-03-31                8.30  \n",
       "2024-04-30                8.61  \n",
       "2024-05-31                8.86  \n",
       "2024-06-30                9.07  \n",
       "2024-07-31                9.28  \n",
       "2024-08-31                9.43  "
      ]
     },
     "execution_count": 12,
     "metadata": {},
     "output_type": "execute_result"
    }
   ],
   "source": [
    "# Expectativa mais atual para IPCA\n",
    "df_ipca=df_monthly[df_monthly['Indicador']=='IPCA']\n",
    "\n",
    "data_previsao=df_ipca['Data'].max()\n",
    "df_ipca_ultima=df_ipca[df_ipca['Data']==data_previsao]\n",
    "df_ipca_ultima.to_csv('./output/ipca_ultima_expectativa.csv')\n",
    "df_ipca_ultima=df_ipca_ultima.groupby(['DataReferencia']).mean() # adotado média \n",
    "\n",
    "df_ipca_ultima['cumsum_mediana'] = df_ipca_ultima['Mediana'].cumsum()\n",
    "#cumsum()-> soma acumulada de uma lista ou array termo a termo\n",
    "#groupby -> delimita em grupos separados para análise\n",
    "# df['Adjusted Quantity'] = df.groupby('ação_ref')['Adjusted Quantity'].cumsum()\n",
    "\n",
    "df_ipca_ultima"
   ]
  },
  {
   "cell_type": "code",
   "execution_count": 13,
   "metadata": {},
   "outputs": [],
   "source": [
    "# from matplotlib.pyplot import figure\n",
    "# figure(figsize=(10, 5), dpi=120)\n",
    "# plt.plot(df_ipca_ultima.index, df_ipca_ultima['Mediana'], label=f'ipca_expectaiva_{data_previsao}')\n",
    "# plt.xticks(rotation=90)\n",
    "# plt.legend()\n",
    "# plt.show()\n"
   ]
  },
  {
   "cell_type": "code",
   "execution_count": 14,
   "metadata": {},
   "outputs": [
    {
     "data": {
      "text/html": [
       "<div>\n",
       "<style scoped>\n",
       "    .dataframe tbody tr th:only-of-type {\n",
       "        vertical-align: middle;\n",
       "    }\n",
       "\n",
       "    .dataframe tbody tr th {\n",
       "        vertical-align: top;\n",
       "    }\n",
       "\n",
       "    .dataframe thead th {\n",
       "        text-align: right;\n",
       "    }\n",
       "</style>\n",
       "<table border=\"1\" class=\"dataframe\">\n",
       "  <thead>\n",
       "    <tr style=\"text-align: right;\">\n",
       "      <th></th>\n",
       "      <th>DataReferencia</th>\n",
       "      <th>Media</th>\n",
       "      <th>Mediana</th>\n",
       "      <th>Minimo</th>\n",
       "      <th>Maximo</th>\n",
       "      <th>numeroRespondentes</th>\n",
       "      <th>cumsum_mediana</th>\n",
       "    </tr>\n",
       "  </thead>\n",
       "  <tbody>\n",
       "    <tr>\n",
       "      <th>0</th>\n",
       "      <td>2022-08-31</td>\n",
       "      <td>-0.19</td>\n",
       "      <td>-0.20</td>\n",
       "      <td>-0.56</td>\n",
       "      <td>0.48</td>\n",
       "      <td>104.50</td>\n",
       "      <td>-0.20</td>\n",
       "    </tr>\n",
       "    <tr>\n",
       "      <th>1</th>\n",
       "      <td>2022-09-30</td>\n",
       "      <td>0.46</td>\n",
       "      <td>0.46</td>\n",
       "      <td>0.14</td>\n",
       "      <td>0.75</td>\n",
       "      <td>104.50</td>\n",
       "      <td>0.27</td>\n",
       "    </tr>\n",
       "    <tr>\n",
       "      <th>2</th>\n",
       "      <td>2022-10-31</td>\n",
       "      <td>0.54</td>\n",
       "      <td>0.54</td>\n",
       "      <td>0.20</td>\n",
       "      <td>0.84</td>\n",
       "      <td>103.00</td>\n",
       "      <td>0.81</td>\n",
       "    </tr>\n",
       "    <tr>\n",
       "      <th>3</th>\n",
       "      <td>2022-11-30</td>\n",
       "      <td>0.53</td>\n",
       "      <td>0.53</td>\n",
       "      <td>0.13</td>\n",
       "      <td>0.76</td>\n",
       "      <td>102.00</td>\n",
       "      <td>1.33</td>\n",
       "    </tr>\n",
       "    <tr>\n",
       "      <th>4</th>\n",
       "      <td>2022-12-31</td>\n",
       "      <td>0.74</td>\n",
       "      <td>0.74</td>\n",
       "      <td>0.23</td>\n",
       "      <td>1.10</td>\n",
       "      <td>102.00</td>\n",
       "      <td>2.07</td>\n",
       "    </tr>\n",
       "    <tr>\n",
       "      <th>5</th>\n",
       "      <td>2023-01-31</td>\n",
       "      <td>0.77</td>\n",
       "      <td>0.73</td>\n",
       "      <td>0.29</td>\n",
       "      <td>1.50</td>\n",
       "      <td>100.00</td>\n",
       "      <td>2.80</td>\n",
       "    </tr>\n",
       "    <tr>\n",
       "      <th>6</th>\n",
       "      <td>2023-02-28</td>\n",
       "      <td>0.67</td>\n",
       "      <td>0.67</td>\n",
       "      <td>0.30</td>\n",
       "      <td>1.15</td>\n",
       "      <td>100.00</td>\n",
       "      <td>3.47</td>\n",
       "    </tr>\n",
       "    <tr>\n",
       "      <th>7</th>\n",
       "      <td>2023-03-31</td>\n",
       "      <td>0.47</td>\n",
       "      <td>0.47</td>\n",
       "      <td>0.20</td>\n",
       "      <td>1.06</td>\n",
       "      <td>100.00</td>\n",
       "      <td>3.93</td>\n",
       "    </tr>\n",
       "    <tr>\n",
       "      <th>8</th>\n",
       "      <td>2023-04-30</td>\n",
       "      <td>0.45</td>\n",
       "      <td>0.45</td>\n",
       "      <td>0.17</td>\n",
       "      <td>0.75</td>\n",
       "      <td>100.00</td>\n",
       "      <td>4.38</td>\n",
       "    </tr>\n",
       "    <tr>\n",
       "      <th>9</th>\n",
       "      <td>2023-05-31</td>\n",
       "      <td>0.34</td>\n",
       "      <td>0.34</td>\n",
       "      <td>0.02</td>\n",
       "      <td>0.74</td>\n",
       "      <td>100.00</td>\n",
       "      <td>4.72</td>\n",
       "    </tr>\n",
       "    <tr>\n",
       "      <th>10</th>\n",
       "      <td>2023-06-30</td>\n",
       "      <td>0.32</td>\n",
       "      <td>0.32</td>\n",
       "      <td>0.03</td>\n",
       "      <td>0.62</td>\n",
       "      <td>100.00</td>\n",
       "      <td>5.04</td>\n",
       "    </tr>\n",
       "    <tr>\n",
       "      <th>11</th>\n",
       "      <td>2023-07-31</td>\n",
       "      <td>0.32</td>\n",
       "      <td>0.30</td>\n",
       "      <td>0.07</td>\n",
       "      <td>0.66</td>\n",
       "      <td>100.00</td>\n",
       "      <td>5.34</td>\n",
       "    </tr>\n",
       "    <tr>\n",
       "      <th>12</th>\n",
       "      <td>2023-08-31</td>\n",
       "      <td>0.25</td>\n",
       "      <td>0.24</td>\n",
       "      <td>-0.02</td>\n",
       "      <td>0.54</td>\n",
       "      <td>100.00</td>\n",
       "      <td>5.58</td>\n",
       "    </tr>\n",
       "    <tr>\n",
       "      <th>13</th>\n",
       "      <td>2023-09-30</td>\n",
       "      <td>0.32</td>\n",
       "      <td>0.33</td>\n",
       "      <td>-0.18</td>\n",
       "      <td>0.57</td>\n",
       "      <td>100.00</td>\n",
       "      <td>5.91</td>\n",
       "    </tr>\n",
       "    <tr>\n",
       "      <th>14</th>\n",
       "      <td>2023-10-31</td>\n",
       "      <td>0.39</td>\n",
       "      <td>0.40</td>\n",
       "      <td>-0.10</td>\n",
       "      <td>0.76</td>\n",
       "      <td>100.00</td>\n",
       "      <td>6.31</td>\n",
       "    </tr>\n",
       "    <tr>\n",
       "      <th>15</th>\n",
       "      <td>2023-11-30</td>\n",
       "      <td>0.36</td>\n",
       "      <td>0.38</td>\n",
       "      <td>-0.21</td>\n",
       "      <td>0.58</td>\n",
       "      <td>100.00</td>\n",
       "      <td>6.69</td>\n",
       "    </tr>\n",
       "    <tr>\n",
       "      <th>16</th>\n",
       "      <td>2023-12-31</td>\n",
       "      <td>0.52</td>\n",
       "      <td>0.52</td>\n",
       "      <td>-0.09</td>\n",
       "      <td>1.46</td>\n",
       "      <td>100.00</td>\n",
       "      <td>7.21</td>\n",
       "    </tr>\n",
       "    <tr>\n",
       "      <th>17</th>\n",
       "      <td>2024-01-31</td>\n",
       "      <td>0.42</td>\n",
       "      <td>0.40</td>\n",
       "      <td>0.09</td>\n",
       "      <td>0.80</td>\n",
       "      <td>70.50</td>\n",
       "      <td>7.60</td>\n",
       "    </tr>\n",
       "    <tr>\n",
       "      <th>18</th>\n",
       "      <td>2024-02-29</td>\n",
       "      <td>0.41</td>\n",
       "      <td>0.40</td>\n",
       "      <td>0.20</td>\n",
       "      <td>0.80</td>\n",
       "      <td>70.00</td>\n",
       "      <td>8.00</td>\n",
       "    </tr>\n",
       "    <tr>\n",
       "      <th>19</th>\n",
       "      <td>2024-03-31</td>\n",
       "      <td>0.33</td>\n",
       "      <td>0.30</td>\n",
       "      <td>0.14</td>\n",
       "      <td>0.76</td>\n",
       "      <td>69.00</td>\n",
       "      <td>8.30</td>\n",
       "    </tr>\n",
       "    <tr>\n",
       "      <th>20</th>\n",
       "      <td>2024-04-30</td>\n",
       "      <td>0.32</td>\n",
       "      <td>0.31</td>\n",
       "      <td>0.17</td>\n",
       "      <td>0.60</td>\n",
       "      <td>68.50</td>\n",
       "      <td>8.61</td>\n",
       "    </tr>\n",
       "    <tr>\n",
       "      <th>21</th>\n",
       "      <td>2024-05-31</td>\n",
       "      <td>0.25</td>\n",
       "      <td>0.24</td>\n",
       "      <td>-0.12</td>\n",
       "      <td>0.51</td>\n",
       "      <td>67.50</td>\n",
       "      <td>8.86</td>\n",
       "    </tr>\n",
       "    <tr>\n",
       "      <th>22</th>\n",
       "      <td>2024-06-30</td>\n",
       "      <td>0.23</td>\n",
       "      <td>0.21</td>\n",
       "      <td>0.04</td>\n",
       "      <td>0.55</td>\n",
       "      <td>67.50</td>\n",
       "      <td>9.07</td>\n",
       "    </tr>\n",
       "    <tr>\n",
       "      <th>23</th>\n",
       "      <td>2024-07-31</td>\n",
       "      <td>0.21</td>\n",
       "      <td>0.21</td>\n",
       "      <td>-0.02</td>\n",
       "      <td>0.47</td>\n",
       "      <td>63.50</td>\n",
       "      <td>9.28</td>\n",
       "    </tr>\n",
       "    <tr>\n",
       "      <th>24</th>\n",
       "      <td>2024-08-31</td>\n",
       "      <td>0.17</td>\n",
       "      <td>0.15</td>\n",
       "      <td>-0.03</td>\n",
       "      <td>0.41</td>\n",
       "      <td>25.00</td>\n",
       "      <td>9.43</td>\n",
       "    </tr>\n",
       "  </tbody>\n",
       "</table>\n",
       "</div>"
      ],
      "text/plain": [
       "   DataReferencia  Media  Mediana  Minimo  Maximo  numeroRespondentes  \\\n",
       "0      2022-08-31  -0.19    -0.20   -0.56    0.48              104.50   \n",
       "1      2022-09-30   0.46     0.46    0.14    0.75              104.50   \n",
       "2      2022-10-31   0.54     0.54    0.20    0.84              103.00   \n",
       "3      2022-11-30   0.53     0.53    0.13    0.76              102.00   \n",
       "4      2022-12-31   0.74     0.74    0.23    1.10              102.00   \n",
       "5      2023-01-31   0.77     0.73    0.29    1.50              100.00   \n",
       "6      2023-02-28   0.67     0.67    0.30    1.15              100.00   \n",
       "7      2023-03-31   0.47     0.47    0.20    1.06              100.00   \n",
       "8      2023-04-30   0.45     0.45    0.17    0.75              100.00   \n",
       "9      2023-05-31   0.34     0.34    0.02    0.74              100.00   \n",
       "10     2023-06-30   0.32     0.32    0.03    0.62              100.00   \n",
       "11     2023-07-31   0.32     0.30    0.07    0.66              100.00   \n",
       "12     2023-08-31   0.25     0.24   -0.02    0.54              100.00   \n",
       "13     2023-09-30   0.32     0.33   -0.18    0.57              100.00   \n",
       "14     2023-10-31   0.39     0.40   -0.10    0.76              100.00   \n",
       "15     2023-11-30   0.36     0.38   -0.21    0.58              100.00   \n",
       "16     2023-12-31   0.52     0.52   -0.09    1.46              100.00   \n",
       "17     2024-01-31   0.42     0.40    0.09    0.80               70.50   \n",
       "18     2024-02-29   0.41     0.40    0.20    0.80               70.00   \n",
       "19     2024-03-31   0.33     0.30    0.14    0.76               69.00   \n",
       "20     2024-04-30   0.32     0.31    0.17    0.60               68.50   \n",
       "21     2024-05-31   0.25     0.24   -0.12    0.51               67.50   \n",
       "22     2024-06-30   0.23     0.21    0.04    0.55               67.50   \n",
       "23     2024-07-31   0.21     0.21   -0.02    0.47               63.50   \n",
       "24     2024-08-31   0.17     0.15   -0.03    0.41               25.00   \n",
       "\n",
       "    cumsum_mediana  \n",
       "0            -0.20  \n",
       "1             0.27  \n",
       "2             0.81  \n",
       "3             1.33  \n",
       "4             2.07  \n",
       "5             2.80  \n",
       "6             3.47  \n",
       "7             3.93  \n",
       "8             4.38  \n",
       "9             4.72  \n",
       "10            5.04  \n",
       "11            5.34  \n",
       "12            5.58  \n",
       "13            5.91  \n",
       "14            6.31  \n",
       "15            6.69  \n",
       "16            7.21  \n",
       "17            7.60  \n",
       "18            8.00  \n",
       "19            8.30  \n",
       "20            8.61  \n",
       "21            8.86  \n",
       "22            9.07  \n",
       "23            9.28  \n",
       "24            9.43  "
      ]
     },
     "execution_count": 14,
     "metadata": {},
     "output_type": "execute_result"
    }
   ],
   "source": [
    "data_hoje=datetime.datetime.today().date()\n",
    "df_ipca_from_now=df_ipca_ultima[df_ipca_ultima.index>=data_hoje]\n",
    "df_ipca_from_now=df_ipca_from_now.reset_index()\n",
    "df_ipca_from_now"
   ]
  },
  {
   "cell_type": "code",
   "execution_count": 15,
   "metadata": {},
   "outputs": [
    {
     "data": {
      "application/vnd.plotly.v1+json": {
       "config": {
        "plotlyServerURL": "https://plot.ly"
       },
       "data": [
        {
         "hovertemplate": "DataReferencia=%{x}<br>cumsum_mediana=%{y}<extra></extra>",
         "legendgroup": "",
         "line": {
          "color": "#636efa",
          "dash": "solid"
         },
         "marker": {
          "symbol": "circle"
         },
         "mode": "lines",
         "name": "",
         "orientation": "v",
         "showlegend": false,
         "type": "scatter",
         "x": [
          "2022-08-31",
          "2022-09-30",
          "2022-10-31",
          "2022-11-30",
          "2022-12-31",
          "2023-01-31",
          "2023-02-28",
          "2023-03-31",
          "2023-04-30",
          "2023-05-31",
          "2023-06-30",
          "2023-07-31",
          "2023-08-31",
          "2023-09-30",
          "2023-10-31",
          "2023-11-30",
          "2023-12-31",
          "2024-01-31",
          "2024-02-29",
          "2024-03-31",
          "2024-04-30",
          "2024-05-31",
          "2024-06-30",
          "2024-07-31",
          "2024-08-31"
         ],
         "xaxis": "x",
         "y": [
          -0.197,
          0.2655,
          0.8058000000000001,
          1.3308,
          2.0718,
          2.7993,
          3.4668,
          3.9320500000000003,
          4.37715,
          4.7200500000000005,
          5.036600000000001,
          5.336600000000001,
          5.581600000000001,
          5.912450000000001,
          6.307450000000001,
          6.687450000000001,
          7.2074500000000015,
          7.604950000000001,
          8.004950000000001,
          8.304950000000002,
          8.61245,
          8.85745,
          9.067450000000001,
          9.2774,
          9.4274
         ],
         "yaxis": "y"
        }
       ],
       "layout": {
        "legend": {
         "tracegroupgap": 0
        },
        "margin": {
         "t": 60
        },
        "template": {
         "data": {
          "bar": [
           {
            "error_x": {
             "color": "#2a3f5f"
            },
            "error_y": {
             "color": "#2a3f5f"
            },
            "marker": {
             "line": {
              "color": "#E5ECF6",
              "width": 0.5
             },
             "pattern": {
              "fillmode": "overlay",
              "size": 10,
              "solidity": 0.2
             }
            },
            "type": "bar"
           }
          ],
          "barpolar": [
           {
            "marker": {
             "line": {
              "color": "#E5ECF6",
              "width": 0.5
             },
             "pattern": {
              "fillmode": "overlay",
              "size": 10,
              "solidity": 0.2
             }
            },
            "type": "barpolar"
           }
          ],
          "carpet": [
           {
            "aaxis": {
             "endlinecolor": "#2a3f5f",
             "gridcolor": "white",
             "linecolor": "white",
             "minorgridcolor": "white",
             "startlinecolor": "#2a3f5f"
            },
            "baxis": {
             "endlinecolor": "#2a3f5f",
             "gridcolor": "white",
             "linecolor": "white",
             "minorgridcolor": "white",
             "startlinecolor": "#2a3f5f"
            },
            "type": "carpet"
           }
          ],
          "choropleth": [
           {
            "colorbar": {
             "outlinewidth": 0,
             "ticks": ""
            },
            "type": "choropleth"
           }
          ],
          "contour": [
           {
            "colorbar": {
             "outlinewidth": 0,
             "ticks": ""
            },
            "colorscale": [
             [
              0,
              "#0d0887"
             ],
             [
              0.1111111111111111,
              "#46039f"
             ],
             [
              0.2222222222222222,
              "#7201a8"
             ],
             [
              0.3333333333333333,
              "#9c179e"
             ],
             [
              0.4444444444444444,
              "#bd3786"
             ],
             [
              0.5555555555555556,
              "#d8576b"
             ],
             [
              0.6666666666666666,
              "#ed7953"
             ],
             [
              0.7777777777777778,
              "#fb9f3a"
             ],
             [
              0.8888888888888888,
              "#fdca26"
             ],
             [
              1,
              "#f0f921"
             ]
            ],
            "type": "contour"
           }
          ],
          "contourcarpet": [
           {
            "colorbar": {
             "outlinewidth": 0,
             "ticks": ""
            },
            "type": "contourcarpet"
           }
          ],
          "heatmap": [
           {
            "colorbar": {
             "outlinewidth": 0,
             "ticks": ""
            },
            "colorscale": [
             [
              0,
              "#0d0887"
             ],
             [
              0.1111111111111111,
              "#46039f"
             ],
             [
              0.2222222222222222,
              "#7201a8"
             ],
             [
              0.3333333333333333,
              "#9c179e"
             ],
             [
              0.4444444444444444,
              "#bd3786"
             ],
             [
              0.5555555555555556,
              "#d8576b"
             ],
             [
              0.6666666666666666,
              "#ed7953"
             ],
             [
              0.7777777777777778,
              "#fb9f3a"
             ],
             [
              0.8888888888888888,
              "#fdca26"
             ],
             [
              1,
              "#f0f921"
             ]
            ],
            "type": "heatmap"
           }
          ],
          "heatmapgl": [
           {
            "colorbar": {
             "outlinewidth": 0,
             "ticks": ""
            },
            "colorscale": [
             [
              0,
              "#0d0887"
             ],
             [
              0.1111111111111111,
              "#46039f"
             ],
             [
              0.2222222222222222,
              "#7201a8"
             ],
             [
              0.3333333333333333,
              "#9c179e"
             ],
             [
              0.4444444444444444,
              "#bd3786"
             ],
             [
              0.5555555555555556,
              "#d8576b"
             ],
             [
              0.6666666666666666,
              "#ed7953"
             ],
             [
              0.7777777777777778,
              "#fb9f3a"
             ],
             [
              0.8888888888888888,
              "#fdca26"
             ],
             [
              1,
              "#f0f921"
             ]
            ],
            "type": "heatmapgl"
           }
          ],
          "histogram": [
           {
            "marker": {
             "pattern": {
              "fillmode": "overlay",
              "size": 10,
              "solidity": 0.2
             }
            },
            "type": "histogram"
           }
          ],
          "histogram2d": [
           {
            "colorbar": {
             "outlinewidth": 0,
             "ticks": ""
            },
            "colorscale": [
             [
              0,
              "#0d0887"
             ],
             [
              0.1111111111111111,
              "#46039f"
             ],
             [
              0.2222222222222222,
              "#7201a8"
             ],
             [
              0.3333333333333333,
              "#9c179e"
             ],
             [
              0.4444444444444444,
              "#bd3786"
             ],
             [
              0.5555555555555556,
              "#d8576b"
             ],
             [
              0.6666666666666666,
              "#ed7953"
             ],
             [
              0.7777777777777778,
              "#fb9f3a"
             ],
             [
              0.8888888888888888,
              "#fdca26"
             ],
             [
              1,
              "#f0f921"
             ]
            ],
            "type": "histogram2d"
           }
          ],
          "histogram2dcontour": [
           {
            "colorbar": {
             "outlinewidth": 0,
             "ticks": ""
            },
            "colorscale": [
             [
              0,
              "#0d0887"
             ],
             [
              0.1111111111111111,
              "#46039f"
             ],
             [
              0.2222222222222222,
              "#7201a8"
             ],
             [
              0.3333333333333333,
              "#9c179e"
             ],
             [
              0.4444444444444444,
              "#bd3786"
             ],
             [
              0.5555555555555556,
              "#d8576b"
             ],
             [
              0.6666666666666666,
              "#ed7953"
             ],
             [
              0.7777777777777778,
              "#fb9f3a"
             ],
             [
              0.8888888888888888,
              "#fdca26"
             ],
             [
              1,
              "#f0f921"
             ]
            ],
            "type": "histogram2dcontour"
           }
          ],
          "mesh3d": [
           {
            "colorbar": {
             "outlinewidth": 0,
             "ticks": ""
            },
            "type": "mesh3d"
           }
          ],
          "parcoords": [
           {
            "line": {
             "colorbar": {
              "outlinewidth": 0,
              "ticks": ""
             }
            },
            "type": "parcoords"
           }
          ],
          "pie": [
           {
            "automargin": true,
            "type": "pie"
           }
          ],
          "scatter": [
           {
            "fillpattern": {
             "fillmode": "overlay",
             "size": 10,
             "solidity": 0.2
            },
            "type": "scatter"
           }
          ],
          "scatter3d": [
           {
            "line": {
             "colorbar": {
              "outlinewidth": 0,
              "ticks": ""
             }
            },
            "marker": {
             "colorbar": {
              "outlinewidth": 0,
              "ticks": ""
             }
            },
            "type": "scatter3d"
           }
          ],
          "scattercarpet": [
           {
            "marker": {
             "colorbar": {
              "outlinewidth": 0,
              "ticks": ""
             }
            },
            "type": "scattercarpet"
           }
          ],
          "scattergeo": [
           {
            "marker": {
             "colorbar": {
              "outlinewidth": 0,
              "ticks": ""
             }
            },
            "type": "scattergeo"
           }
          ],
          "scattergl": [
           {
            "marker": {
             "colorbar": {
              "outlinewidth": 0,
              "ticks": ""
             }
            },
            "type": "scattergl"
           }
          ],
          "scattermapbox": [
           {
            "marker": {
             "colorbar": {
              "outlinewidth": 0,
              "ticks": ""
             }
            },
            "type": "scattermapbox"
           }
          ],
          "scatterpolar": [
           {
            "marker": {
             "colorbar": {
              "outlinewidth": 0,
              "ticks": ""
             }
            },
            "type": "scatterpolar"
           }
          ],
          "scatterpolargl": [
           {
            "marker": {
             "colorbar": {
              "outlinewidth": 0,
              "ticks": ""
             }
            },
            "type": "scatterpolargl"
           }
          ],
          "scatterternary": [
           {
            "marker": {
             "colorbar": {
              "outlinewidth": 0,
              "ticks": ""
             }
            },
            "type": "scatterternary"
           }
          ],
          "surface": [
           {
            "colorbar": {
             "outlinewidth": 0,
             "ticks": ""
            },
            "colorscale": [
             [
              0,
              "#0d0887"
             ],
             [
              0.1111111111111111,
              "#46039f"
             ],
             [
              0.2222222222222222,
              "#7201a8"
             ],
             [
              0.3333333333333333,
              "#9c179e"
             ],
             [
              0.4444444444444444,
              "#bd3786"
             ],
             [
              0.5555555555555556,
              "#d8576b"
             ],
             [
              0.6666666666666666,
              "#ed7953"
             ],
             [
              0.7777777777777778,
              "#fb9f3a"
             ],
             [
              0.8888888888888888,
              "#fdca26"
             ],
             [
              1,
              "#f0f921"
             ]
            ],
            "type": "surface"
           }
          ],
          "table": [
           {
            "cells": {
             "fill": {
              "color": "#EBF0F8"
             },
             "line": {
              "color": "white"
             }
            },
            "header": {
             "fill": {
              "color": "#C8D4E3"
             },
             "line": {
              "color": "white"
             }
            },
            "type": "table"
           }
          ]
         },
         "layout": {
          "annotationdefaults": {
           "arrowcolor": "#2a3f5f",
           "arrowhead": 0,
           "arrowwidth": 1
          },
          "autotypenumbers": "strict",
          "coloraxis": {
           "colorbar": {
            "outlinewidth": 0,
            "ticks": ""
           }
          },
          "colorscale": {
           "diverging": [
            [
             0,
             "#8e0152"
            ],
            [
             0.1,
             "#c51b7d"
            ],
            [
             0.2,
             "#de77ae"
            ],
            [
             0.3,
             "#f1b6da"
            ],
            [
             0.4,
             "#fde0ef"
            ],
            [
             0.5,
             "#f7f7f7"
            ],
            [
             0.6,
             "#e6f5d0"
            ],
            [
             0.7,
             "#b8e186"
            ],
            [
             0.8,
             "#7fbc41"
            ],
            [
             0.9,
             "#4d9221"
            ],
            [
             1,
             "#276419"
            ]
           ],
           "sequential": [
            [
             0,
             "#0d0887"
            ],
            [
             0.1111111111111111,
             "#46039f"
            ],
            [
             0.2222222222222222,
             "#7201a8"
            ],
            [
             0.3333333333333333,
             "#9c179e"
            ],
            [
             0.4444444444444444,
             "#bd3786"
            ],
            [
             0.5555555555555556,
             "#d8576b"
            ],
            [
             0.6666666666666666,
             "#ed7953"
            ],
            [
             0.7777777777777778,
             "#fb9f3a"
            ],
            [
             0.8888888888888888,
             "#fdca26"
            ],
            [
             1,
             "#f0f921"
            ]
           ],
           "sequentialminus": [
            [
             0,
             "#0d0887"
            ],
            [
             0.1111111111111111,
             "#46039f"
            ],
            [
             0.2222222222222222,
             "#7201a8"
            ],
            [
             0.3333333333333333,
             "#9c179e"
            ],
            [
             0.4444444444444444,
             "#bd3786"
            ],
            [
             0.5555555555555556,
             "#d8576b"
            ],
            [
             0.6666666666666666,
             "#ed7953"
            ],
            [
             0.7777777777777778,
             "#fb9f3a"
            ],
            [
             0.8888888888888888,
             "#fdca26"
            ],
            [
             1,
             "#f0f921"
            ]
           ]
          },
          "colorway": [
           "#636efa",
           "#EF553B",
           "#00cc96",
           "#ab63fa",
           "#FFA15A",
           "#19d3f3",
           "#FF6692",
           "#B6E880",
           "#FF97FF",
           "#FECB52"
          ],
          "font": {
           "color": "#2a3f5f"
          },
          "geo": {
           "bgcolor": "white",
           "lakecolor": "white",
           "landcolor": "#E5ECF6",
           "showlakes": true,
           "showland": true,
           "subunitcolor": "white"
          },
          "hoverlabel": {
           "align": "left"
          },
          "hovermode": "closest",
          "mapbox": {
           "style": "light"
          },
          "paper_bgcolor": "white",
          "plot_bgcolor": "#E5ECF6",
          "polar": {
           "angularaxis": {
            "gridcolor": "white",
            "linecolor": "white",
            "ticks": ""
           },
           "bgcolor": "#E5ECF6",
           "radialaxis": {
            "gridcolor": "white",
            "linecolor": "white",
            "ticks": ""
           }
          },
          "scene": {
           "xaxis": {
            "backgroundcolor": "#E5ECF6",
            "gridcolor": "white",
            "gridwidth": 2,
            "linecolor": "white",
            "showbackground": true,
            "ticks": "",
            "zerolinecolor": "white"
           },
           "yaxis": {
            "backgroundcolor": "#E5ECF6",
            "gridcolor": "white",
            "gridwidth": 2,
            "linecolor": "white",
            "showbackground": true,
            "ticks": "",
            "zerolinecolor": "white"
           },
           "zaxis": {
            "backgroundcolor": "#E5ECF6",
            "gridcolor": "white",
            "gridwidth": 2,
            "linecolor": "white",
            "showbackground": true,
            "ticks": "",
            "zerolinecolor": "white"
           }
          },
          "shapedefaults": {
           "line": {
            "color": "#2a3f5f"
           }
          },
          "ternary": {
           "aaxis": {
            "gridcolor": "white",
            "linecolor": "white",
            "ticks": ""
           },
           "baxis": {
            "gridcolor": "white",
            "linecolor": "white",
            "ticks": ""
           },
           "bgcolor": "#E5ECF6",
           "caxis": {
            "gridcolor": "white",
            "linecolor": "white",
            "ticks": ""
           }
          },
          "title": {
           "x": 0.05
          },
          "xaxis": {
           "automargin": true,
           "gridcolor": "white",
           "linecolor": "white",
           "ticks": "",
           "title": {
            "standoff": 15
           },
           "zerolinecolor": "white",
           "zerolinewidth": 2
          },
          "yaxis": {
           "automargin": true,
           "gridcolor": "white",
           "linecolor": "white",
           "ticks": "",
           "title": {
            "standoff": 15
           },
           "zerolinecolor": "white",
           "zerolinewidth": 2
          }
         }
        },
        "xaxis": {
         "anchor": "y",
         "domain": [
          0,
          1
         ],
         "title": {
          "text": "DataReferencia"
         }
        },
        "yaxis": {
         "anchor": "x",
         "domain": [
          0,
          1
         ],
         "title": {
          "text": "cumsum_mediana"
         }
        }
       }
      }
     },
     "metadata": {},
     "output_type": "display_data"
    }
   ],
   "source": [
    "# Gráfico iterativo utilizando o plotly\n",
    "fig=px.line(df_ipca_from_now,x='DataReferencia',y='cumsum_mediana')\n",
    "# Gerando arquivo com o resultado\n",
    "# plotly.offline.plot(fig, show_link = True,filename=f'./output/tx_desocupacao_forcast.html')\n",
    "fig.show()"
   ]
  },
  {
   "cell_type": "code",
   "execution_count": null,
   "metadata": {},
   "outputs": [],
   "source": []
  }
 ],
 "metadata": {
  "kernelspec": {
   "display_name": "Python 3.10.4 64-bit",
   "language": "python",
   "name": "python3"
  },
  "language_info": {
   "codemirror_mode": {
    "name": "ipython",
    "version": 3
   },
   "file_extension": ".py",
   "mimetype": "text/x-python",
   "name": "python",
   "nbconvert_exporter": "python",
   "pygments_lexer": "ipython3",
   "version": "3.10.6"
  },
  "orig_nbformat": 4,
  "vscode": {
   "interpreter": {
    "hash": "56a276fc4fc28a70691a0a23041e734fbee624a304b6c6d59b0c547ae7b77065"
   }
  }
 },
 "nbformat": 4,
 "nbformat_minor": 2
}
