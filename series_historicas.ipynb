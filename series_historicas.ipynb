{
 "cells": [
  {
   "cell_type": "code",
   "execution_count": 41,
   "metadata": {},
   "outputs": [],
   "source": [
    "import pandas as pd\n",
    "from datetime import datetime\n",
    "import plotly.express as px\n",
    "import plotly"
   ]
  },
  {
   "cell_type": "code",
   "execution_count": 42,
   "metadata": {},
   "outputs": [],
   "source": [
    "# Importação dos daddos\n",
    "df_selic_serie_historica=pd.read_csv('https://api.bcb.gov.br/dados/serie/bcdata.sgs.11/dados?formato=csv', sep=';')\n",
    "df_selic_serie_historica.to_csv('./output/selic_serie_historica_df.csv')\n"
   ]
  },
  {
   "cell_type": "code",
   "execution_count": 43,
   "metadata": {},
   "outputs": [],
   "source": [
    "# Parse de tratamento dos dados\n",
    "df_selic=pd.read_csv('./output/selic_serie_historica_df.csv')\n",
    "df_selic=df_selic.drop(columns=['Unnamed: 0'])\n",
    "df_selic['data']=df_selic.apply(lambda x: datetime.strptime(x.data,'%d/%m/%Y').date(),axis=1)\n",
    "df_selic=df_selic.set_index('data')\n",
    "df_selic['valor']=df_selic.apply(lambda x: float(x.valor.replace(',','.')),axis=1)\n",
    "df_selic=df_selic.sort_index(ascending=False)"
   ]
  },
  {
   "cell_type": "code",
   "execution_count": 44,
   "metadata": {},
   "outputs": [],
   "source": [
    "def converte_ad_aa(taxa_ad):\n",
    "    # recebi taxa ao dia em porcentagem\n",
    "    taxa_ad=taxa_ad/100                 #tira porcentagem e coloca em fração\n",
    "    #juros sobre juros e considera 252 dias\n",
    "    return round(((1+taxa_ad)**(252)-1)*100,2)"
   ]
  },
  {
   "cell_type": "code",
   "execution_count": 45,
   "metadata": {},
   "outputs": [],
   "source": [
    "df_selic['selic_aa']=df_selic.apply(lambda x: converte_ad_aa(x.valor),axis=1)"
   ]
  },
  {
   "cell_type": "code",
   "execution_count": 47,
   "metadata": {},
   "outputs": [],
   "source": [
    "# Definição de número índice adotando 100 em 2000-01-01\n",
    "# def num_indice_selic():\n",
    "#     if \n",
    "\n",
    "for i in range(0,len(df_selic)):\n",
    "    if i==0:\n",
    "        #último valor\n",
    "        df_selic.loc[df_selic.index[-1-i],'num_indice']=1\n",
    "    else:\n",
    "        df_selic.loc[df_selic.index[-1-i],'num_indice']=df_selic.loc[df_selic.index[-1-i+1],'num_indice']*(1+df_selic.loc[df_selic.index[-1-i+1],'valor']/100)\n"
   ]
  },
  {
   "cell_type": "code",
   "execution_count": 50,
   "metadata": {},
   "outputs": [
    {
     "data": {
      "text/html": [
       "<div>\n",
       "<style scoped>\n",
       "    .dataframe tbody tr th:only-of-type {\n",
       "        vertical-align: middle;\n",
       "    }\n",
       "\n",
       "    .dataframe tbody tr th {\n",
       "        vertical-align: top;\n",
       "    }\n",
       "\n",
       "    .dataframe thead th {\n",
       "        text-align: right;\n",
       "    }\n",
       "</style>\n",
       "<table border=\"1\" class=\"dataframe\">\n",
       "  <thead>\n",
       "    <tr style=\"text-align: right;\">\n",
       "      <th></th>\n",
       "      <th>valor</th>\n",
       "      <th>selic_aa</th>\n",
       "      <th>num_indice</th>\n",
       "    </tr>\n",
       "    <tr>\n",
       "      <th>data</th>\n",
       "      <th></th>\n",
       "      <th></th>\n",
       "      <th></th>\n",
       "    </tr>\n",
       "  </thead>\n",
       "  <tbody>\n",
       "    <tr>\n",
       "      <th>2022-08-30</th>\n",
       "      <td>0.050788</td>\n",
       "      <td>13.65</td>\n",
       "      <td>1316.561489</td>\n",
       "    </tr>\n",
       "    <tr>\n",
       "      <th>2022-08-29</th>\n",
       "      <td>0.050788</td>\n",
       "      <td>13.65</td>\n",
       "      <td>1315.893173</td>\n",
       "    </tr>\n",
       "    <tr>\n",
       "      <th>2022-08-26</th>\n",
       "      <td>0.050788</td>\n",
       "      <td>13.65</td>\n",
       "      <td>1315.225196</td>\n",
       "    </tr>\n",
       "    <tr>\n",
       "      <th>2022-08-25</th>\n",
       "      <td>0.050788</td>\n",
       "      <td>13.65</td>\n",
       "      <td>1314.557559</td>\n",
       "    </tr>\n",
       "    <tr>\n",
       "      <th>2022-08-24</th>\n",
       "      <td>0.050788</td>\n",
       "      <td>13.65</td>\n",
       "      <td>1313.890260</td>\n",
       "    </tr>\n",
       "    <tr>\n",
       "      <th>2022-08-23</th>\n",
       "      <td>0.050788</td>\n",
       "      <td>13.65</td>\n",
       "      <td>1313.223300</td>\n",
       "    </tr>\n",
       "    <tr>\n",
       "      <th>2022-08-22</th>\n",
       "      <td>0.050788</td>\n",
       "      <td>13.65</td>\n",
       "      <td>1312.556679</td>\n",
       "    </tr>\n",
       "    <tr>\n",
       "      <th>2022-08-19</th>\n",
       "      <td>0.050788</td>\n",
       "      <td>13.65</td>\n",
       "      <td>1311.890396</td>\n",
       "    </tr>\n",
       "    <tr>\n",
       "      <th>2022-08-18</th>\n",
       "      <td>0.050788</td>\n",
       "      <td>13.65</td>\n",
       "      <td>1311.224451</td>\n",
       "    </tr>\n",
       "    <tr>\n",
       "      <th>2022-08-17</th>\n",
       "      <td>0.050788</td>\n",
       "      <td>13.65</td>\n",
       "      <td>1310.558845</td>\n",
       "    </tr>\n",
       "    <tr>\n",
       "      <th>2022-08-16</th>\n",
       "      <td>0.050788</td>\n",
       "      <td>13.65</td>\n",
       "      <td>1309.893576</td>\n",
       "    </tr>\n",
       "    <tr>\n",
       "      <th>2022-08-15</th>\n",
       "      <td>0.050788</td>\n",
       "      <td>13.65</td>\n",
       "      <td>1309.228645</td>\n",
       "    </tr>\n",
       "    <tr>\n",
       "      <th>2022-08-12</th>\n",
       "      <td>0.050788</td>\n",
       "      <td>13.65</td>\n",
       "      <td>1308.564051</td>\n",
       "    </tr>\n",
       "    <tr>\n",
       "      <th>2022-08-11</th>\n",
       "      <td>0.050788</td>\n",
       "      <td>13.65</td>\n",
       "      <td>1307.899795</td>\n",
       "    </tr>\n",
       "    <tr>\n",
       "      <th>2022-08-10</th>\n",
       "      <td>0.050788</td>\n",
       "      <td>13.65</td>\n",
       "      <td>1307.235876</td>\n",
       "    </tr>\n",
       "    <tr>\n",
       "      <th>2022-08-09</th>\n",
       "      <td>0.050788</td>\n",
       "      <td>13.65</td>\n",
       "      <td>1306.572294</td>\n",
       "    </tr>\n",
       "    <tr>\n",
       "      <th>2022-08-08</th>\n",
       "      <td>0.050788</td>\n",
       "      <td>13.65</td>\n",
       "      <td>1305.909049</td>\n",
       "    </tr>\n",
       "    <tr>\n",
       "      <th>2022-08-05</th>\n",
       "      <td>0.050788</td>\n",
       "      <td>13.65</td>\n",
       "      <td>1305.246141</td>\n",
       "    </tr>\n",
       "    <tr>\n",
       "      <th>2022-08-04</th>\n",
       "      <td>0.050788</td>\n",
       "      <td>13.65</td>\n",
       "      <td>1304.583569</td>\n",
       "    </tr>\n",
       "    <tr>\n",
       "      <th>2022-08-03</th>\n",
       "      <td>0.049037</td>\n",
       "      <td>13.15</td>\n",
       "      <td>1303.944154</td>\n",
       "    </tr>\n",
       "    <tr>\n",
       "      <th>2022-08-02</th>\n",
       "      <td>0.049037</td>\n",
       "      <td>13.15</td>\n",
       "      <td>1303.305052</td>\n",
       "    </tr>\n",
       "    <tr>\n",
       "      <th>2022-08-01</th>\n",
       "      <td>0.049037</td>\n",
       "      <td>13.15</td>\n",
       "      <td>1302.666264</td>\n",
       "    </tr>\n",
       "    <tr>\n",
       "      <th>2022-07-29</th>\n",
       "      <td>0.049037</td>\n",
       "      <td>13.15</td>\n",
       "      <td>1302.027788</td>\n",
       "    </tr>\n",
       "    <tr>\n",
       "      <th>2022-07-28</th>\n",
       "      <td>0.049037</td>\n",
       "      <td>13.15</td>\n",
       "      <td>1301.389626</td>\n",
       "    </tr>\n",
       "    <tr>\n",
       "      <th>2022-07-27</th>\n",
       "      <td>0.049037</td>\n",
       "      <td>13.15</td>\n",
       "      <td>1300.751776</td>\n",
       "    </tr>\n",
       "    <tr>\n",
       "      <th>2022-07-26</th>\n",
       "      <td>0.049037</td>\n",
       "      <td>13.15</td>\n",
       "      <td>1300.114239</td>\n",
       "    </tr>\n",
       "    <tr>\n",
       "      <th>2022-07-25</th>\n",
       "      <td>0.049037</td>\n",
       "      <td>13.15</td>\n",
       "      <td>1299.477015</td>\n",
       "    </tr>\n",
       "    <tr>\n",
       "      <th>2022-07-22</th>\n",
       "      <td>0.049037</td>\n",
       "      <td>13.15</td>\n",
       "      <td>1298.840103</td>\n",
       "    </tr>\n",
       "    <tr>\n",
       "      <th>2022-07-21</th>\n",
       "      <td>0.049037</td>\n",
       "      <td>13.15</td>\n",
       "      <td>1298.203503</td>\n",
       "    </tr>\n",
       "    <tr>\n",
       "      <th>2022-07-20</th>\n",
       "      <td>0.049037</td>\n",
       "      <td>13.15</td>\n",
       "      <td>1297.567214</td>\n",
       "    </tr>\n",
       "    <tr>\n",
       "      <th>2022-07-19</th>\n",
       "      <td>0.049037</td>\n",
       "      <td>13.15</td>\n",
       "      <td>1296.931238</td>\n",
       "    </tr>\n",
       "    <tr>\n",
       "      <th>2022-07-18</th>\n",
       "      <td>0.049037</td>\n",
       "      <td>13.15</td>\n",
       "      <td>1296.295574</td>\n",
       "    </tr>\n",
       "    <tr>\n",
       "      <th>2022-07-15</th>\n",
       "      <td>0.049037</td>\n",
       "      <td>13.15</td>\n",
       "      <td>1295.660221</td>\n",
       "    </tr>\n",
       "    <tr>\n",
       "      <th>2022-07-14</th>\n",
       "      <td>0.049037</td>\n",
       "      <td>13.15</td>\n",
       "      <td>1295.025179</td>\n",
       "    </tr>\n",
       "    <tr>\n",
       "      <th>2022-07-13</th>\n",
       "      <td>0.049037</td>\n",
       "      <td>13.15</td>\n",
       "      <td>1294.390449</td>\n",
       "    </tr>\n",
       "    <tr>\n",
       "      <th>2022-07-12</th>\n",
       "      <td>0.049037</td>\n",
       "      <td>13.15</td>\n",
       "      <td>1293.756030</td>\n",
       "    </tr>\n",
       "  </tbody>\n",
       "</table>\n",
       "</div>"
      ],
      "text/plain": [
       "               valor  selic_aa   num_indice\n",
       "data                                       \n",
       "2022-08-30  0.050788     13.65  1316.561489\n",
       "2022-08-29  0.050788     13.65  1315.893173\n",
       "2022-08-26  0.050788     13.65  1315.225196\n",
       "2022-08-25  0.050788     13.65  1314.557559\n",
       "2022-08-24  0.050788     13.65  1313.890260\n",
       "2022-08-23  0.050788     13.65  1313.223300\n",
       "2022-08-22  0.050788     13.65  1312.556679\n",
       "2022-08-19  0.050788     13.65  1311.890396\n",
       "2022-08-18  0.050788     13.65  1311.224451\n",
       "2022-08-17  0.050788     13.65  1310.558845\n",
       "2022-08-16  0.050788     13.65  1309.893576\n",
       "2022-08-15  0.050788     13.65  1309.228645\n",
       "2022-08-12  0.050788     13.65  1308.564051\n",
       "2022-08-11  0.050788     13.65  1307.899795\n",
       "2022-08-10  0.050788     13.65  1307.235876\n",
       "2022-08-09  0.050788     13.65  1306.572294\n",
       "2022-08-08  0.050788     13.65  1305.909049\n",
       "2022-08-05  0.050788     13.65  1305.246141\n",
       "2022-08-04  0.050788     13.65  1304.583569\n",
       "2022-08-03  0.049037     13.15  1303.944154\n",
       "2022-08-02  0.049037     13.15  1303.305052\n",
       "2022-08-01  0.049037     13.15  1302.666264\n",
       "2022-07-29  0.049037     13.15  1302.027788\n",
       "2022-07-28  0.049037     13.15  1301.389626\n",
       "2022-07-27  0.049037     13.15  1300.751776\n",
       "2022-07-26  0.049037     13.15  1300.114239\n",
       "2022-07-25  0.049037     13.15  1299.477015\n",
       "2022-07-22  0.049037     13.15  1298.840103\n",
       "2022-07-21  0.049037     13.15  1298.203503\n",
       "2022-07-20  0.049037     13.15  1297.567214\n",
       "2022-07-19  0.049037     13.15  1296.931238\n",
       "2022-07-18  0.049037     13.15  1296.295574\n",
       "2022-07-15  0.049037     13.15  1295.660221\n",
       "2022-07-14  0.049037     13.15  1295.025179\n",
       "2022-07-13  0.049037     13.15  1294.390449\n",
       "2022-07-12  0.049037     13.15  1293.756030"
      ]
     },
     "execution_count": 50,
     "metadata": {},
     "output_type": "execute_result"
    }
   ],
   "source": [
    "\n",
    "# Atribuindo o número índice de 100 para 2000-01-03\n",
    "df_selic['num_indice']=df_selic.apply(lambda x: x.num_indice/df_selic.loc[datetime.strptime('2000-01-03','%Y-%m-%d').date(),'num_indice']*100,axis=1)\n",
    "# df_selic['num_indice']=\n",
    "df_selic.head(36)"
   ]
  },
  {
   "cell_type": "code",
   "execution_count": 51,
   "metadata": {},
   "outputs": [
    {
     "data": {
      "text/plain": [
       "1.00050788"
      ]
     },
     "execution_count": 51,
     "metadata": {},
     "output_type": "execute_result"
    }
   ],
   "source": [
    "df_selic.iloc[0,-1]/df_selic.iloc[1,-1]"
   ]
  },
  {
   "cell_type": "code",
   "execution_count": 60,
   "metadata": {},
   "outputs": [
    {
     "data": {
      "text/plain": [
       "1.1011066754250047"
      ]
     },
     "execution_count": 60,
     "metadata": {},
     "output_type": "execute_result"
    }
   ],
   "source": [
    "df_selic.loc[datetime.strptime('2022-08-29','%Y-%m-%d').date(),'num_indice']/df_selic.loc[datetime.strptime('2021-08-30','%Y-%m-%d').date(),'num_indice']"
   ]
  },
  {
   "cell_type": "code",
   "execution_count": 52,
   "metadata": {},
   "outputs": [],
   "source": [
    "df_selic.to_csv('./output/selic_serie_historica_ad_aa.csv')"
   ]
  },
  {
   "cell_type": "code",
   "execution_count": 61,
   "metadata": {},
   "outputs": [
    {
     "data": {
      "text/plain": [
       "'./output/selic_serie_historica_grafico.html'"
      ]
     },
     "execution_count": 61,
     "metadata": {},
     "output_type": "execute_result"
    }
   ],
   "source": [
    "# Gráfico iterativo utilizando o plotly\n",
    "#a partir de 2000 - Juros na ordem de grandeza atual, para não destorcer o gráfico\n",
    "datas=df_selic.index[df_selic.index>datetime.strptime('2000-01-01','%Y-%m-%d').date()]\n",
    "fig=px.line(x=datas,y=df_selic.loc[datas,'selic_aa'])\n",
    "# Gerando arquivo com o resultado\n",
    "plotly.offline.plot(fig, show_link = True,filename=f'./output/selic_serie_historica_grafico.html')\n",
    "# fig.show()"
   ]
  },
  {
   "cell_type": "code",
   "execution_count": 62,
   "metadata": {},
   "outputs": [
    {
     "data": {
      "text/plain": [
       "1.667258"
      ]
     },
     "execution_count": 62,
     "metadata": {},
     "output_type": "execute_result"
    }
   ],
   "source": [
    "valor_periodo=df_selic.loc[datetime.strptime('2022-08-03','%Y-%m-%d').date():datetime.strptime('2022-06-17','%Y-%m-%d').date(),'valor'].sum()\n",
    "valor_periodo\n",
    "# 17/06/2022 - 03/08/2022"
   ]
  },
  {
   "cell_type": "code",
   "execution_count": 63,
   "metadata": {},
   "outputs": [],
   "source": [
    "\n",
    "dias=len(df_selic.loc[datetime.strptime('2022-08-03','%Y-%m-%d').date():datetime.strptime('2022-06-17','%Y-%m-%d').date(),'valor'])"
   ]
  }
 ],
 "metadata": {
  "kernelspec": {
   "display_name": "Python 3.10.6 64-bit",
   "language": "python",
   "name": "python3"
  },
  "language_info": {
   "codemirror_mode": {
    "name": "ipython",
    "version": 3
   },
   "file_extension": ".py",
   "mimetype": "text/x-python",
   "name": "python",
   "nbconvert_exporter": "python",
   "pygments_lexer": "ipython3",
   "version": "3.10.6"
  },
  "orig_nbformat": 4,
  "vscode": {
   "interpreter": {
    "hash": "56a276fc4fc28a70691a0a23041e734fbee624a304b6c6d59b0c547ae7b77065"
   }
  }
 },
 "nbformat": 4,
 "nbformat_minor": 2
}
